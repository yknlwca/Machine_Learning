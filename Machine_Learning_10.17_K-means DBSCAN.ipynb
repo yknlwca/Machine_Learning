{
 "cells": [
  {
   "cell_type": "markdown",
   "id": "ce6f1e85",
   "metadata": {},
   "source": [
    "# K-Means 알고리즘 (K-Means Clustering)"
   ]
  },
  {
   "cell_type": "markdown",
   "id": "79d79677",
   "metadata": {},
   "source": [
    "레이블이 없는 데이터 -> 비지도 학습으로 분류"
   ]
  },
  {
   "cell_type": "markdown",
   "id": "966cda77",
   "metadata": {},
   "source": [
    "1) 중심점 설정 / 데이터와 중심점의 거리 구하기\n",
    "2) 가까운 중심점으로 군집화\n",
    "* 최적\n",
    "* 군집간의 거리는 최대한 멀리\n",
    "* 군집내 데이터들의 거리는 최대한 가까이\n",
    "3) 데이터의 평균으로 중심점 이동\n",
    "4) 중심이 변경되지 않을때까지 무한 반복"
   ]
  },
  {
   "cell_type": "markdown",
   "id": "23e75c3c",
   "metadata": {},
   "source": [
    "최초의 중심점 위치에 따라 군집화 결과 다르게 나온다."
   ]
  },
  {
   "cell_type": "markdown",
   "id": "fae5ee08",
   "metadata": {},
   "source": [
    "* 장점 : 간단한 알고리즘 구현이 용이\n",
    "*        계산시간이 비교적 짧음(속도가 빠름)\n",
    "* 단점 : 결과 해석이 쉽지 않음\n",
    "*        초기 클러스터 개수와 중심에 따라 결과가 크게 달라질 수 있음"
   ]
  },
  {
   "cell_type": "markdown",
   "id": "fd5e24a8",
   "metadata": {},
   "source": [
    "# 계층적 군집화"
   ]
  },
  {
   "cell_type": "markdown",
   "id": "8c7de47a",
   "metadata": {},
   "source": [
    "## (H군집 , Hierarchical Clustering)"
   ]
  },
  {
   "cell_type": "markdown",
   "id": "34588b36",
   "metadata": {},
   "source": [
    "* 덴드로그램(dendrogram)"
   ]
  },
  {
   "cell_type": "markdown",
   "id": "495f299f",
   "metadata": {},
   "source": [
    "* 단일기준결합방식(single) (Min거리)\n",
    "* 완전기준결합방식(complete) (Max거리)\n",
    "* 평균기준결합방식(average)\n",
    "* 중앙점기준결합방식(centroids)"
   ]
  },
  {
   "cell_type": "markdown",
   "id": "ef53b8b2",
   "metadata": {},
   "source": [
    "# DB SCAN"
   ]
  },
  {
   "cell_type": "markdown",
   "id": "c2d7e44d",
   "metadata": {},
   "source": [
    "### Density Based Spatial Clustering of Applications with Noise"
   ]
  },
  {
   "cell_type": "markdown",
   "id": "0661ab88",
   "metadata": {},
   "source": [
    "* 클로스터 : 기준점(P)으로부터 반경(Epsilon)이내에 점이 m개 이상있는경우\n",
    "    * 이때, 기준점P를 core point라고함"
   ]
  },
  {
   "cell_type": "markdown",
   "id": "9c8d9b42",
   "metadata": {},
   "source": [
    "* minpts(minmum points) 클로스터를 형성하는 최소 데이터 값"
   ]
  },
  {
   "cell_type": "markdown",
   "id": "b09db15f",
   "metadata": {},
   "source": [
    "* 경계점(Border point) : 기준점은 될 수 없지만 다른 군집에 속하는 데이터"
   ]
  },
  {
   "cell_type": "markdown",
   "id": "bec3a29a",
   "metadata": {},
   "source": [
    "* 하나의 군집안에 기준점(P,Core point)가 여러개 있다면 합쳐짐"
   ]
  },
  {
   "cell_type": "markdown",
   "id": "d8c7243f",
   "metadata": {},
   "source": [
    "* noise point = 아웃라이어 = 이상치"
   ]
  },
  {
   "cell_type": "markdown",
   "id": "d20d9895",
   "metadata": {},
   "source": [
    "* minpts epsilon 설정 == Hyper Parameter"
   ]
  },
  {
   "cell_type": "markdown",
   "id": "24a3ee3d",
   "metadata": {},
   "source": [
    "https://datasets.imdbws.com/\n",
    "imdb 데이터 다운로드 사이트"
   ]
  }
 ],
 "metadata": {
  "kernelspec": {
   "display_name": "Python 3 (ipykernel)",
   "language": "python",
   "name": "python3"
  },
  "language_info": {
   "codemirror_mode": {
    "name": "ipython",
    "version": 3
   },
   "file_extension": ".py",
   "mimetype": "text/x-python",
   "name": "python",
   "nbconvert_exporter": "python",
   "pygments_lexer": "ipython3",
   "version": "3.11.4"
  }
 },
 "nbformat": 4,
 "nbformat_minor": 5
}

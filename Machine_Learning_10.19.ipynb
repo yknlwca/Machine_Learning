{
 "cells": [
  {
   "cell_type": "markdown",
   "id": "6ecfb86c",
   "metadata": {},
   "source": [
    "# 앙상블 기법"
   ]
  },
  {
   "cell_type": "markdown",
   "id": "0e77f4c1",
   "metadata": {},
   "source": [
    "* 여러 개의 분류기를 생성하고, 그 예측을 결합하여 더욱 정확한 예측을 도출하는 기법"
   ]
  },
  {
   "cell_type": "markdown",
   "id": "85e37091",
   "metadata": {},
   "source": [
    "* 의사 결정 트리의 단점을 보완\n",
    "* 의사 결정 트리의 장점 : 구현하기 쉽고 설명 이해가 편하다\n",
    "* 의사 결정 트리의 장점 : Overfitting(과적합)에 빠지기 쉽다."
   ]
  },
  {
   "cell_type": "markdown",
   "id": "c9a9f2c4",
   "metadata": {},
   "source": [
    "* 골든벨 마지막 1인에게 친구들이 비행기를 날려주는 것을 떠올리자\n",
    "* 똑똑한 1인이 분류한 것보다 덜 똑똑한 여려명이 분류한 것을 투표하는 것\n",
    "* 집단 지성\n",
    "* 일반화가 잘된 모델들을 만들 수 있는 장점"
   ]
  },
  {
   "cell_type": "markdown",
   "id": "0f202e39",
   "metadata": {},
   "source": [
    "* 하나의 알고리즘 말고 다양한 알고리즘을 이용해 모델을 만듬\n",
    "* 다양한 오류가 나오더라도 오히려 좋다"
   ]
  },
  {
   "cell_type": "markdown",
   "id": "fe246720",
   "metadata": {},
   "source": [
    "## 하드보팅 / 소프트보팅"
   ]
  },
  {
   "cell_type": "markdown",
   "id": "84c32c66",
   "metadata": {},
   "source": [
    "* 하드보팅 : 최대 득표를 받은 예측값, 투표, 다수결\n",
    "* 소프트보팅 : 각각의 확률을 더해 최댓값을 가진 분류값\n",
    "* 성능 : 하드보팅 < 소프트보팅"
   ]
  },
  {
   "cell_type": "markdown",
   "id": "dc9a001c",
   "metadata": {},
   "source": [
    "## 베깅"
   ]
  },
  {
   "cell_type": "markdown",
   "id": "27f003b3",
   "metadata": {},
   "source": [
    "* data set에서 샘플을 여러 번 추출 (중복허용) <==> pasting : 중복 허용 X\n",
    "* 하나의 알고리즘으로 여러 개의 샘플에 적용\n",
    "* 대표적인 모델 : 랜덤 포레스트 (Random Forest)"
   ]
  },
  {
   "cell_type": "markdown",
   "id": "b88810ba",
   "metadata": {},
   "source": [
    "### 부트스트랩"
   ]
  },
  {
   "cell_type": "markdown",
   "id": "4b1e907a",
   "metadata": {},
   "source": [
    "* 편향(Bias) / 분산(Variance)"
   ]
  }
 ],
 "metadata": {
  "kernelspec": {
   "display_name": "Python 3 (ipykernel)",
   "language": "python",
   "name": "python3"
  },
  "language_info": {
   "codemirror_mode": {
    "name": "ipython",
    "version": 3
   },
   "file_extension": ".py",
   "mimetype": "text/x-python",
   "name": "python",
   "nbconvert_exporter": "python",
   "pygments_lexer": "ipython3",
   "version": "3.11.4"
  }
 },
 "nbformat": 4,
 "nbformat_minor": 5
}

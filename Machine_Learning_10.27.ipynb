{
 "cells": [
  {
   "cell_type": "markdown",
   "id": "79ffb0a8",
   "metadata": {},
   "source": [
    "* 자연어 처리 : 음성인식, 요약, 번역, 감성분석, 분류, 질의응답, 챗봇 등등\n",
    "* 환경 구성 : 아나콘다 (머신러닝, 시각화, 데이터분석 등) + 텐서플로우, 젠심, 파이토치, knolpy 등\n",
    "\n",
    "1) 텍스트 전처리(토큰화, 정제, 어간추출, 불용어제거, 정수인코딩, 패딩)\n",
    "2) 텍스트의 수치표현(BoW, DTM/TDM, TF-IDF)\n",
    "3) 유사도(문서 / 단어 / 문장)\n",
    "4) 머신/딥 러닝 모델 생성"
   ]
  },
  {
   "cell_type": "code",
   "execution_count": 1,
   "id": "914ea209",
   "metadata": {},
   "outputs": [
    {
     "name": "stdout",
     "output_type": "stream",
     "text": [
      "Requirement already satisfied: konlpy in c:\\users\\user\\anaconda3\\lib\\site-packages (0.6.0)\n",
      "Requirement already satisfied: JPype1>=0.7.0 in c:\\users\\user\\anaconda3\\lib\\site-packages (from konlpy) (1.4.1)\n",
      "Requirement already satisfied: lxml>=4.1.0 in c:\\users\\user\\anaconda3\\lib\\site-packages (from konlpy) (4.9.2)\n",
      "Requirement already satisfied: numpy>=1.6 in c:\\users\\user\\anaconda3\\lib\\site-packages (from konlpy) (1.24.3)\n",
      "Requirement already satisfied: packaging in c:\\users\\user\\anaconda3\\lib\\site-packages (from JPype1>=0.7.0->konlpy) (23.0)\n",
      "Note: you may need to restart the kernel to use updated packages.\n"
     ]
    }
   ],
   "source": [
    "pip install konlpy"
   ]
  },
  {
   "cell_type": "code",
   "execution_count": 2,
   "id": "c3e479fd",
   "metadata": {},
   "outputs": [],
   "source": [
    "from konlpy.tag import Okt"
   ]
  },
  {
   "cell_type": "code",
   "execution_count": 3,
   "id": "96da3798",
   "metadata": {},
   "outputs": [],
   "source": [
    "okt = Okt()"
   ]
  },
  {
   "cell_type": "code",
   "execution_count": 4,
   "id": "53bce7e1",
   "metadata": {},
   "outputs": [
    {
     "name": "stdout",
     "output_type": "stream",
     "text": [
      "['단독', '입찰', '보다', '복수', '입찰', '의', '경우']\n"
     ]
    }
   ],
   "source": [
    " print(okt.morphs(u'단독입찰보다 복수입찰의 경우'))"
   ]
  },
  {
   "cell_type": "code",
   "execution_count": 5,
   "id": "76d8d5fc",
   "metadata": {},
   "outputs": [
    {
     "name": "stdout",
     "output_type": "stream",
     "text": [
      "['항공기', '체계', '종합', '개발', '경험']\n"
     ]
    }
   ],
   "source": [
    "print(okt.nouns(u'유일하게 항공기 체계 종합개발 경험을 갖고 있는 KAI는'))"
   ]
  },
  {
   "cell_type": "code",
   "execution_count": 6,
   "id": "1304dadd",
   "metadata": {},
   "outputs": [
    {
     "name": "stdout",
     "output_type": "stream",
     "text": [
      "[('이', 'Determiner'), ('것', 'Noun'), ('도', 'Josa'), ('되나욬', 'Noun'), ('ㅋㅋ', 'KoreanParticle')]\n"
     ]
    }
   ],
   "source": [
    "print(okt.pos(u'이것도 되나욬ㅋㅋ'))"
   ]
  },
  {
   "cell_type": "code",
   "execution_count": 7,
   "id": "12cf74fc",
   "metadata": {},
   "outputs": [],
   "source": [
    "from konlpy.tag import *"
   ]
  },
  {
   "cell_type": "code",
   "execution_count": 10,
   "id": "2ccd05b4",
   "metadata": {},
   "outputs": [],
   "source": [
    "okt = Okt()\n",
    "han = Hannanum()\n",
    "kkma = Kkma()"
   ]
  },
  {
   "cell_type": "code",
   "execution_count": null,
   "id": "6fb59f78",
   "metadata": {},
   "outputs": [],
   "source": [
    "'아버지가방에들어가신다'"
   ]
  },
  {
   "cell_type": "code",
   "execution_count": 11,
   "id": "ab92a613",
   "metadata": {},
   "outputs": [
    {
     "data": {
      "text/plain": [
       "[('아버지', 'Noun'), ('가방', 'Noun'), ('에', 'Josa'), ('들어가신다', 'Verb')]"
      ]
     },
     "execution_count": 11,
     "metadata": {},
     "output_type": "execute_result"
    }
   ],
   "source": [
    "okt.pos('아버지가방에들어가신다')"
   ]
  },
  {
   "cell_type": "code",
   "execution_count": 12,
   "id": "307f7b49",
   "metadata": {},
   "outputs": [
    {
     "data": {
      "text/plain": [
       "[('아버지가방에들어가', 'N'), ('이', 'J'), ('시ㄴ다', 'E')]"
      ]
     },
     "execution_count": 12,
     "metadata": {},
     "output_type": "execute_result"
    }
   ],
   "source": [
    "han.pos('아버지가방에들어가신다')"
   ]
  },
  {
   "cell_type": "code",
   "execution_count": 13,
   "id": "0231e9a4",
   "metadata": {},
   "outputs": [
    {
     "data": {
      "text/plain": [
       "[('아버지', 'NNG'),\n",
       " ('가방', 'NNG'),\n",
       " ('에', 'JKM'),\n",
       " ('들어가', 'VV'),\n",
       " ('시', 'EPH'),\n",
       " ('ㄴ다', 'EFN')]"
      ]
     },
     "execution_count": 13,
     "metadata": {},
     "output_type": "execute_result"
    }
   ],
   "source": [
    "kkma.pos('아버지가방에들어가신다')"
   ]
  },
  {
   "cell_type": "code",
   "execution_count": 16,
   "id": "766219ec",
   "metadata": {},
   "outputs": [
    {
     "data": {
      "text/plain": [
       "[('정부', 'Noun'),\n",
       " ('가', 'Josa'),\n",
       " ('발표', 'Noun'),\n",
       " ('하는', 'Verb'),\n",
       " ('물가상승률', 'Noun'),\n",
       " ('과', 'Josa'),\n",
       " ('소비자', 'Noun'),\n",
       " ('가', 'Josa'),\n",
       " ('느끼는', 'Verb'),\n",
       " ('물가상승률', 'Noun'),\n",
       " ('은', 'Josa'),\n",
       " ('다르다', 'Adjective'),\n",
       " ('.', 'Punctuation')]"
      ]
     },
     "execution_count": 16,
     "metadata": {},
     "output_type": "execute_result"
    }
   ],
   "source": [
    "okt.pos('정부가 발표하는 물가상승률과 소비자가 느끼는 물가상승률은 다르다.')"
   ]
  },
  {
   "cell_type": "code",
   "execution_count": 17,
   "id": "a08f73bb",
   "metadata": {},
   "outputs": [
    {
     "data": {
      "text/plain": [
       "[('정부', 'N'),\n",
       " ('가', 'J'),\n",
       " ('발표', 'N'),\n",
       " ('하', 'X'),\n",
       " ('는', 'E'),\n",
       " ('물가상승률', 'N'),\n",
       " ('과', 'J'),\n",
       " ('소비자', 'N'),\n",
       " ('가', 'J'),\n",
       " ('느끼', 'P'),\n",
       " ('는', 'E'),\n",
       " ('물가상승률', 'N'),\n",
       " ('은', 'J'),\n",
       " ('다르', 'P'),\n",
       " ('다', 'E'),\n",
       " ('.', 'S')]"
      ]
     },
     "execution_count": 17,
     "metadata": {},
     "output_type": "execute_result"
    }
   ],
   "source": [
    "han.pos('정부가 발표하는 물가상승률과 소비자가 느끼는 물가상승률은 다르다.')"
   ]
  },
  {
   "cell_type": "code",
   "execution_count": 18,
   "id": "eb7638ac",
   "metadata": {},
   "outputs": [
    {
     "data": {
      "text/plain": [
       "[('정부', 'NNG'),\n",
       " ('가', 'JKS'),\n",
       " ('발표', 'NNG'),\n",
       " ('하', 'XSV'),\n",
       " ('는', 'ETD'),\n",
       " ('물가', 'NNG'),\n",
       " ('상승률', 'NNG'),\n",
       " ('과', 'JC'),\n",
       " ('소비자', 'NNG'),\n",
       " ('가', 'JKS'),\n",
       " ('느끼', 'VV'),\n",
       " ('는', 'ETD'),\n",
       " ('물가', 'NNG'),\n",
       " ('상승률', 'NNG'),\n",
       " ('은', 'JX'),\n",
       " ('다르', 'VA'),\n",
       " ('다', 'EFN'),\n",
       " ('.', 'SF')]"
      ]
     },
     "execution_count": 18,
     "metadata": {},
     "output_type": "execute_result"
    }
   ],
   "source": [
    "kkma.pos('정부가 발표하는 물가상승률과 소비자가 느끼는 물가상승률은 다르다.')"
   ]
  },
  {
   "cell_type": "code",
   "execution_count": 149,
   "id": "5354a2e6",
   "metadata": {},
   "outputs": [
    {
     "data": {
      "text/plain": [
       "['먹고 싶은 사과', '먹고 싶은 바나나', '길고 노란 바나나 바나나', '저는 과일이 좋아요']"
      ]
     },
     "execution_count": 149,
     "metadata": {},
     "output_type": "execute_result"
    }
   ],
   "source": [
    "from math import log \n",
    "docs = [\n",
    "  '먹고 싶은 사과',\n",
    "  '먹고 싶은 바나나',\n",
    "  '길고 노란 바나나 바나나',\n",
    "  '저는 과일이 좋아요'\n",
    "]\n",
    "docs"
   ]
  },
  {
   "cell_type": "code",
   "execution_count": 145,
   "id": "59a2874c",
   "metadata": {},
   "outputs": [
    {
     "data": {
      "text/plain": [
       "['먹고',\n",
       " '싶은',\n",
       " '사과',\n",
       " '먹고',\n",
       " '싶은',\n",
       " '바나나',\n",
       " '길고',\n",
       " '노란',\n",
       " '바나나',\n",
       " '바나나',\n",
       " '저는',\n",
       " '과일이',\n",
       " '좋아요']"
      ]
     },
     "execution_count": 145,
     "metadata": {},
     "output_type": "execute_result"
    }
   ],
   "source": [
    "vocab = list(w for doc in docs for w in doc.split())\n",
    "vocab"
   ]
  },
  {
   "cell_type": "code",
   "execution_count": 28,
   "id": "6115f505",
   "metadata": {},
   "outputs": [],
   "source": [
    "# 코퍼스 (말뭉치) : 전체 문서에 등장하는 단어 집합"
   ]
  },
  {
   "cell_type": "code",
   "execution_count": 31,
   "id": "91ee6aa9",
   "metadata": {},
   "outputs": [],
   "source": [
    "import pandas as pd"
   ]
  },
  {
   "cell_type": "code",
   "execution_count": 40,
   "id": "0e7885be",
   "metadata": {},
   "outputs": [],
   "source": [
    "N = len(docs) \n",
    "\n",
    "def tf(t, d):\n",
    "    return d.count(t)\n",
    "def idf(t):\n",
    "    df =0\n",
    "    for doc in docs:\n",
    "        df += t in doc\n",
    "    return log(N/(df+1))\n",
    "\n",
    "def tfidf(t, d):\n",
    "    return tf(t,d)* idf(t)"
   ]
  },
  {
   "cell_type": "code",
   "execution_count": 43,
   "id": "f49247a4",
   "metadata": {},
   "outputs": [],
   "source": [
    "result = []\n",
    "\n",
    "# 각 문서에 대해서 아래 연산을 반복\n",
    "for i in range(N):\n",
    "    result.append([])\n",
    "    d = docs[i]\n",
    "    for j in range(len(vocab)):\n",
    "        t = vocab[j]\n",
    "        result[-1].append(tf(t, d))\n",
    "\n",
    "tf_ = pd.DataFrame(result, columns = vocab)"
   ]
  },
  {
   "cell_type": "code",
   "execution_count": 45,
   "id": "f68b4791",
   "metadata": {},
   "outputs": [
    {
     "data": {
      "text/html": [
       "<div>\n",
       "<style scoped>\n",
       "    .dataframe tbody tr th:only-of-type {\n",
       "        vertical-align: middle;\n",
       "    }\n",
       "\n",
       "    .dataframe tbody tr th {\n",
       "        vertical-align: top;\n",
       "    }\n",
       "\n",
       "    .dataframe thead th {\n",
       "        text-align: right;\n",
       "    }\n",
       "</style>\n",
       "<table border=\"1\" class=\"dataframe\">\n",
       "  <thead>\n",
       "    <tr style=\"text-align: right;\">\n",
       "      <th></th>\n",
       "      <th>과일이</th>\n",
       "      <th>길고</th>\n",
       "      <th>노란</th>\n",
       "      <th>먹고</th>\n",
       "      <th>먹고</th>\n",
       "      <th>바나나</th>\n",
       "      <th>바나나</th>\n",
       "      <th>바나나</th>\n",
       "      <th>사과</th>\n",
       "      <th>싶은</th>\n",
       "      <th>싶은</th>\n",
       "      <th>저는</th>\n",
       "      <th>좋아요</th>\n",
       "    </tr>\n",
       "  </thead>\n",
       "  <tbody>\n",
       "    <tr>\n",
       "      <th>0</th>\n",
       "      <td>0</td>\n",
       "      <td>0</td>\n",
       "      <td>0</td>\n",
       "      <td>1</td>\n",
       "      <td>1</td>\n",
       "      <td>0</td>\n",
       "      <td>0</td>\n",
       "      <td>0</td>\n",
       "      <td>1</td>\n",
       "      <td>1</td>\n",
       "      <td>1</td>\n",
       "      <td>0</td>\n",
       "      <td>0</td>\n",
       "    </tr>\n",
       "    <tr>\n",
       "      <th>1</th>\n",
       "      <td>0</td>\n",
       "      <td>0</td>\n",
       "      <td>0</td>\n",
       "      <td>1</td>\n",
       "      <td>1</td>\n",
       "      <td>1</td>\n",
       "      <td>1</td>\n",
       "      <td>1</td>\n",
       "      <td>0</td>\n",
       "      <td>1</td>\n",
       "      <td>1</td>\n",
       "      <td>0</td>\n",
       "      <td>0</td>\n",
       "    </tr>\n",
       "    <tr>\n",
       "      <th>2</th>\n",
       "      <td>0</td>\n",
       "      <td>1</td>\n",
       "      <td>1</td>\n",
       "      <td>0</td>\n",
       "      <td>0</td>\n",
       "      <td>2</td>\n",
       "      <td>2</td>\n",
       "      <td>2</td>\n",
       "      <td>0</td>\n",
       "      <td>0</td>\n",
       "      <td>0</td>\n",
       "      <td>0</td>\n",
       "      <td>0</td>\n",
       "    </tr>\n",
       "    <tr>\n",
       "      <th>3</th>\n",
       "      <td>1</td>\n",
       "      <td>0</td>\n",
       "      <td>0</td>\n",
       "      <td>0</td>\n",
       "      <td>0</td>\n",
       "      <td>0</td>\n",
       "      <td>0</td>\n",
       "      <td>0</td>\n",
       "      <td>0</td>\n",
       "      <td>0</td>\n",
       "      <td>0</td>\n",
       "      <td>1</td>\n",
       "      <td>1</td>\n",
       "    </tr>\n",
       "  </tbody>\n",
       "</table>\n",
       "</div>"
      ],
      "text/plain": [
       "   과일이  길고  노란  먹고  먹고  바나나  바나나  바나나  사과  싶은  싶은  저는  좋아요\n",
       "0    0   0   0   1   1    0    0    0   1   1   1   0    0\n",
       "1    0   0   0   1   1    1    1    1   0   1   1   0    0\n",
       "2    0   1   1   0   0    2    2    2   0   0   0   0    0\n",
       "3    1   0   0   0   0    0    0    0   0   0   0   1    1"
      ]
     },
     "execution_count": 45,
     "metadata": {},
     "output_type": "execute_result"
    }
   ],
   "source": [
    "tf_"
   ]
  },
  {
   "cell_type": "code",
   "execution_count": 46,
   "id": "1054258e",
   "metadata": {},
   "outputs": [],
   "source": [
    "from sklearn.feature_extraction.text import CountVectorizer"
   ]
  },
  {
   "cell_type": "code",
   "execution_count": 47,
   "id": "77ddfad8",
   "metadata": {},
   "outputs": [
    {
     "data": {
      "text/plain": [
       "array([[0, 0, 0, 1, 0, 1, 1, 0, 0],\n",
       "       [0, 0, 0, 1, 1, 0, 1, 0, 0],\n",
       "       [0, 1, 1, 0, 2, 0, 0, 0, 0],\n",
       "       [1, 0, 0, 0, 0, 0, 0, 1, 1]], dtype=int64)"
      ]
     },
     "execution_count": 47,
     "metadata": {},
     "output_type": "execute_result"
    }
   ],
   "source": [
    "vec = CountVectorizer()\n",
    "vec.fit_transform(docs).toarray()"
   ]
  },
  {
   "cell_type": "code",
   "execution_count": 48,
   "id": "88a291a1",
   "metadata": {},
   "outputs": [
    {
     "data": {
      "text/plain": [
       "{'먹고': 3,\n",
       " '싶은': 6,\n",
       " '사과': 5,\n",
       " '바나나': 4,\n",
       " '길고': 1,\n",
       " '노란': 2,\n",
       " '저는': 7,\n",
       " '과일이': 0,\n",
       " '좋아요': 8}"
      ]
     },
     "execution_count": 48,
     "metadata": {},
     "output_type": "execute_result"
    }
   ],
   "source": [
    "vec.vocabulary_"
   ]
  },
  {
   "cell_type": "code",
   "execution_count": 50,
   "id": "8732a3c7",
   "metadata": {},
   "outputs": [],
   "source": [
    "from sklearn.feature_extraction.text import TfidfVectorizer"
   ]
  },
  {
   "cell_type": "code",
   "execution_count": 51,
   "id": "044127d7",
   "metadata": {},
   "outputs": [
    {
     "data": {
      "text/html": [
       "<div>\n",
       "<style scoped>\n",
       "    .dataframe tbody tr th:only-of-type {\n",
       "        vertical-align: middle;\n",
       "    }\n",
       "\n",
       "    .dataframe tbody tr th {\n",
       "        vertical-align: top;\n",
       "    }\n",
       "\n",
       "    .dataframe thead th {\n",
       "        text-align: right;\n",
       "    }\n",
       "</style>\n",
       "<table border=\"1\" class=\"dataframe\">\n",
       "  <thead>\n",
       "    <tr style=\"text-align: right;\">\n",
       "      <th></th>\n",
       "      <th>IDF</th>\n",
       "    </tr>\n",
       "  </thead>\n",
       "  <tbody>\n",
       "    <tr>\n",
       "      <th>과일이</th>\n",
       "      <td>0.693147</td>\n",
       "    </tr>\n",
       "    <tr>\n",
       "      <th>길고</th>\n",
       "      <td>0.693147</td>\n",
       "    </tr>\n",
       "    <tr>\n",
       "      <th>노란</th>\n",
       "      <td>0.693147</td>\n",
       "    </tr>\n",
       "    <tr>\n",
       "      <th>먹고</th>\n",
       "      <td>0.287682</td>\n",
       "    </tr>\n",
       "    <tr>\n",
       "      <th>먹고</th>\n",
       "      <td>0.287682</td>\n",
       "    </tr>\n",
       "    <tr>\n",
       "      <th>바나나</th>\n",
       "      <td>0.287682</td>\n",
       "    </tr>\n",
       "    <tr>\n",
       "      <th>바나나</th>\n",
       "      <td>0.287682</td>\n",
       "    </tr>\n",
       "    <tr>\n",
       "      <th>바나나</th>\n",
       "      <td>0.287682</td>\n",
       "    </tr>\n",
       "    <tr>\n",
       "      <th>사과</th>\n",
       "      <td>0.693147</td>\n",
       "    </tr>\n",
       "    <tr>\n",
       "      <th>싶은</th>\n",
       "      <td>0.287682</td>\n",
       "    </tr>\n",
       "    <tr>\n",
       "      <th>싶은</th>\n",
       "      <td>0.287682</td>\n",
       "    </tr>\n",
       "    <tr>\n",
       "      <th>저는</th>\n",
       "      <td>0.693147</td>\n",
       "    </tr>\n",
       "    <tr>\n",
       "      <th>좋아요</th>\n",
       "      <td>0.693147</td>\n",
       "    </tr>\n",
       "  </tbody>\n",
       "</table>\n",
       "</div>"
      ],
      "text/plain": [
       "          IDF\n",
       "과일이  0.693147\n",
       "길고   0.693147\n",
       "노란   0.693147\n",
       "먹고   0.287682\n",
       "먹고   0.287682\n",
       "바나나  0.287682\n",
       "바나나  0.287682\n",
       "바나나  0.287682\n",
       "사과   0.693147\n",
       "싶은   0.287682\n",
       "싶은   0.287682\n",
       "저는   0.693147\n",
       "좋아요  0.693147"
      ]
     },
     "execution_count": 51,
     "metadata": {},
     "output_type": "execute_result"
    }
   ],
   "source": [
    "result = []\n",
    "for j in range(len(vocab)):\n",
    "    t = vocab[j]\n",
    "    result.append(idf(t))\n",
    "\n",
    "idf_ = pd.DataFrame(result, index=vocab, columns=[\"IDF\"])\n",
    "idf_"
   ]
  },
  {
   "cell_type": "code",
   "execution_count": 52,
   "id": "1d69906b",
   "metadata": {},
   "outputs": [
    {
     "data": {
      "text/html": [
       "<div>\n",
       "<style scoped>\n",
       "    .dataframe tbody tr th:only-of-type {\n",
       "        vertical-align: middle;\n",
       "    }\n",
       "\n",
       "    .dataframe tbody tr th {\n",
       "        vertical-align: top;\n",
       "    }\n",
       "\n",
       "    .dataframe thead th {\n",
       "        text-align: right;\n",
       "    }\n",
       "</style>\n",
       "<table border=\"1\" class=\"dataframe\">\n",
       "  <thead>\n",
       "    <tr style=\"text-align: right;\">\n",
       "      <th></th>\n",
       "      <th>과일이</th>\n",
       "      <th>길고</th>\n",
       "      <th>노란</th>\n",
       "      <th>먹고</th>\n",
       "      <th>먹고</th>\n",
       "      <th>바나나</th>\n",
       "      <th>바나나</th>\n",
       "      <th>바나나</th>\n",
       "      <th>사과</th>\n",
       "      <th>싶은</th>\n",
       "      <th>싶은</th>\n",
       "      <th>저는</th>\n",
       "      <th>좋아요</th>\n",
       "    </tr>\n",
       "  </thead>\n",
       "  <tbody>\n",
       "    <tr>\n",
       "      <th>0</th>\n",
       "      <td>0.000000</td>\n",
       "      <td>0.000000</td>\n",
       "      <td>0.000000</td>\n",
       "      <td>0.287682</td>\n",
       "      <td>0.287682</td>\n",
       "      <td>0.000000</td>\n",
       "      <td>0.000000</td>\n",
       "      <td>0.000000</td>\n",
       "      <td>0.693147</td>\n",
       "      <td>0.287682</td>\n",
       "      <td>0.287682</td>\n",
       "      <td>0.000000</td>\n",
       "      <td>0.000000</td>\n",
       "    </tr>\n",
       "    <tr>\n",
       "      <th>1</th>\n",
       "      <td>0.000000</td>\n",
       "      <td>0.000000</td>\n",
       "      <td>0.000000</td>\n",
       "      <td>0.287682</td>\n",
       "      <td>0.287682</td>\n",
       "      <td>0.287682</td>\n",
       "      <td>0.287682</td>\n",
       "      <td>0.287682</td>\n",
       "      <td>0.000000</td>\n",
       "      <td>0.287682</td>\n",
       "      <td>0.287682</td>\n",
       "      <td>0.000000</td>\n",
       "      <td>0.000000</td>\n",
       "    </tr>\n",
       "    <tr>\n",
       "      <th>2</th>\n",
       "      <td>0.000000</td>\n",
       "      <td>0.693147</td>\n",
       "      <td>0.693147</td>\n",
       "      <td>0.000000</td>\n",
       "      <td>0.000000</td>\n",
       "      <td>0.575364</td>\n",
       "      <td>0.575364</td>\n",
       "      <td>0.575364</td>\n",
       "      <td>0.000000</td>\n",
       "      <td>0.000000</td>\n",
       "      <td>0.000000</td>\n",
       "      <td>0.000000</td>\n",
       "      <td>0.000000</td>\n",
       "    </tr>\n",
       "    <tr>\n",
       "      <th>3</th>\n",
       "      <td>0.693147</td>\n",
       "      <td>0.000000</td>\n",
       "      <td>0.000000</td>\n",
       "      <td>0.000000</td>\n",
       "      <td>0.000000</td>\n",
       "      <td>0.000000</td>\n",
       "      <td>0.000000</td>\n",
       "      <td>0.000000</td>\n",
       "      <td>0.000000</td>\n",
       "      <td>0.000000</td>\n",
       "      <td>0.000000</td>\n",
       "      <td>0.693147</td>\n",
       "      <td>0.693147</td>\n",
       "    </tr>\n",
       "  </tbody>\n",
       "</table>\n",
       "</div>"
      ],
      "text/plain": [
       "        과일이        길고        노란        먹고        먹고       바나나       바나나  \\\n",
       "0  0.000000  0.000000  0.000000  0.287682  0.287682  0.000000  0.000000   \n",
       "1  0.000000  0.000000  0.000000  0.287682  0.287682  0.287682  0.287682   \n",
       "2  0.000000  0.693147  0.693147  0.000000  0.000000  0.575364  0.575364   \n",
       "3  0.693147  0.000000  0.000000  0.000000  0.000000  0.000000  0.000000   \n",
       "\n",
       "        바나나        사과        싶은        싶은        저는       좋아요  \n",
       "0  0.000000  0.693147  0.287682  0.287682  0.000000  0.000000  \n",
       "1  0.287682  0.000000  0.287682  0.287682  0.000000  0.000000  \n",
       "2  0.575364  0.000000  0.000000  0.000000  0.000000  0.000000  \n",
       "3  0.000000  0.000000  0.000000  0.000000  0.693147  0.693147  "
      ]
     },
     "execution_count": 52,
     "metadata": {},
     "output_type": "execute_result"
    }
   ],
   "source": [
    "result = []\n",
    "for i in range(N):\n",
    "    result.append([])\n",
    "    d = docs[i]\n",
    "    for j in range(len(vocab)):\n",
    "        t = vocab[j]\n",
    "        result[-1].append(tfidf(t,d))\n",
    "\n",
    "tfidf_ = pd.DataFrame(result, columns = vocab)\n",
    "tfidf_"
   ]
  },
  {
   "cell_type": "markdown",
   "id": "bdd8fc5b",
   "metadata": {},
   "source": [
    "1) 각 문서(영화)에서 중요 단어 추출\n",
    "2) 코사인 유사도 기반 가장 유사한 문서(영화) 검색\n",
    "> 데이터 전처리 nltk"
   ]
  },
  {
   "cell_type": "code",
   "execution_count": 57,
   "id": "4e50ca39",
   "metadata": {},
   "outputs": [
    {
     "name": "stdout",
     "output_type": "stream",
     "text": [
      "Collecting tensorflow\n",
      "  Obtaining dependency information for tensorflow from https://files.pythonhosted.org/packages/80/6f/57d36f6507e432d7fc1956b2e9e8530c5c2d2bfcd8821bcbfae271cd6688/tensorflow-2.14.0-cp311-cp311-win_amd64.whl.metadata\n",
      "  Downloading tensorflow-2.14.0-cp311-cp311-win_amd64.whl.metadata (3.3 kB)\n",
      "Collecting tensorflow-intel==2.14.0 (from tensorflow)\n",
      "  Obtaining dependency information for tensorflow-intel==2.14.0 from https://files.pythonhosted.org/packages/ad/6e/1bfe367855dd87467564f7bf9fa14f3b17889988e79598bc37bf18f5ffb6/tensorflow_intel-2.14.0-cp311-cp311-win_amd64.whl.metadata\n",
      "  Downloading tensorflow_intel-2.14.0-cp311-cp311-win_amd64.whl.metadata (4.8 kB)\n",
      "Collecting absl-py>=1.0.0 (from tensorflow-intel==2.14.0->tensorflow)\n",
      "  Obtaining dependency information for absl-py>=1.0.0 from https://files.pythonhosted.org/packages/01/e4/dc0a1dcc4e74e08d7abedab278c795eef54a224363bb18f5692f416d834f/absl_py-2.0.0-py3-none-any.whl.metadata\n",
      "  Downloading absl_py-2.0.0-py3-none-any.whl.metadata (2.3 kB)\n",
      "Collecting astunparse>=1.6.0 (from tensorflow-intel==2.14.0->tensorflow)\n",
      "  Downloading astunparse-1.6.3-py2.py3-none-any.whl (12 kB)\n",
      "Collecting flatbuffers>=23.5.26 (from tensorflow-intel==2.14.0->tensorflow)\n",
      "  Obtaining dependency information for flatbuffers>=23.5.26 from https://files.pythonhosted.org/packages/6f/12/d5c79ee252793ffe845d58a913197bfa02ae9a0b5c9bc3dc4b58d477b9e7/flatbuffers-23.5.26-py2.py3-none-any.whl.metadata\n",
      "  Downloading flatbuffers-23.5.26-py2.py3-none-any.whl.metadata (850 bytes)\n",
      "Collecting gast!=0.5.0,!=0.5.1,!=0.5.2,>=0.2.1 (from tensorflow-intel==2.14.0->tensorflow)\n",
      "  Downloading gast-0.5.4-py3-none-any.whl (19 kB)\n",
      "Collecting google-pasta>=0.1.1 (from tensorflow-intel==2.14.0->tensorflow)\n",
      "  Downloading google_pasta-0.2.0-py3-none-any.whl (57 kB)\n",
      "     ---------------------------------------- 0.0/57.5 kB ? eta -:--:--\n",
      "     ----------------------------------- ---- 51.2/57.5 kB 2.6 MB/s eta 0:00:01\n",
      "     ----------------------------------- ---- 51.2/57.5 kB 2.6 MB/s eta 0:00:01\n",
      "     ----------------------------------- ---- 51.2/57.5 kB 2.6 MB/s eta 0:00:01\n",
      "     ----------------------------------- ---- 51.2/57.5 kB 2.6 MB/s eta 0:00:01\n",
      "     ----------------------------------- ---- 51.2/57.5 kB 2.6 MB/s eta 0:00:01\n",
      "     -------------------------------------- 57.5/57.5 kB 232.7 kB/s eta 0:00:00\n",
      "Requirement already satisfied: h5py>=2.9.0 in c:\\users\\user\\anaconda3\\lib\\site-packages (from tensorflow-intel==2.14.0->tensorflow) (3.7.0)\n",
      "Collecting libclang>=13.0.0 (from tensorflow-intel==2.14.0->tensorflow)\n",
      "  Obtaining dependency information for libclang>=13.0.0 from https://files.pythonhosted.org/packages/02/8c/dc970bc00867fe290e8c8a7befa1635af716a9ebdfe3fb9dce0ca4b522ce/libclang-16.0.6-py2.py3-none-win_amd64.whl.metadata\n",
      "  Downloading libclang-16.0.6-py2.py3-none-win_amd64.whl.metadata (5.3 kB)\n",
      "Collecting ml-dtypes==0.2.0 (from tensorflow-intel==2.14.0->tensorflow)\n",
      "  Obtaining dependency information for ml-dtypes==0.2.0 from https://files.pythonhosted.org/packages/08/89/c727fde1a3d12586e0b8c01abf53754707d76beaa9987640e70807d4545f/ml_dtypes-0.2.0-cp311-cp311-win_amd64.whl.metadata\n",
      "  Downloading ml_dtypes-0.2.0-cp311-cp311-win_amd64.whl.metadata (20 kB)\n",
      "Requirement already satisfied: numpy>=1.23.5 in c:\\users\\user\\anaconda3\\lib\\site-packages (from tensorflow-intel==2.14.0->tensorflow) (1.24.3)\n",
      "Collecting opt-einsum>=2.3.2 (from tensorflow-intel==2.14.0->tensorflow)\n",
      "  Downloading opt_einsum-3.3.0-py3-none-any.whl (65 kB)\n",
      "     ---------------------------------------- 0.0/65.5 kB ? eta -:--:--\n",
      "     ---------------------------------------- 65.5/65.5 kB 3.5 MB/s eta 0:00:00\n",
      "Requirement already satisfied: packaging in c:\\users\\user\\anaconda3\\lib\\site-packages (from tensorflow-intel==2.14.0->tensorflow) (23.0)\n",
      "Collecting protobuf!=4.21.0,!=4.21.1,!=4.21.2,!=4.21.3,!=4.21.4,!=4.21.5,<5.0.0dev,>=3.20.3 (from tensorflow-intel==2.14.0->tensorflow)\n",
      "  Obtaining dependency information for protobuf!=4.21.0,!=4.21.1,!=4.21.2,!=4.21.3,!=4.21.4,!=4.21.5,<5.0.0dev,>=3.20.3 from https://files.pythonhosted.org/packages/c2/59/f89c04923d68595d359f4cd7adbbdf5e5d791257945f8873d88b2fd1f979/protobuf-4.24.4-cp310-abi3-win_amd64.whl.metadata\n",
      "  Downloading protobuf-4.24.4-cp310-abi3-win_amd64.whl.metadata (540 bytes)\n",
      "Requirement already satisfied: setuptools in c:\\users\\user\\anaconda3\\lib\\site-packages (from tensorflow-intel==2.14.0->tensorflow) (68.0.0)\n",
      "Requirement already satisfied: six>=1.12.0 in c:\\users\\user\\anaconda3\\lib\\site-packages (from tensorflow-intel==2.14.0->tensorflow) (1.16.0)\n",
      "Collecting termcolor>=1.1.0 (from tensorflow-intel==2.14.0->tensorflow)\n",
      "  Downloading termcolor-2.3.0-py3-none-any.whl (6.9 kB)\n",
      "Requirement already satisfied: typing-extensions>=3.6.6 in c:\\users\\user\\anaconda3\\lib\\site-packages (from tensorflow-intel==2.14.0->tensorflow) (4.7.1)\n",
      "Requirement already satisfied: wrapt<1.15,>=1.11.0 in c:\\users\\user\\anaconda3\\lib\\site-packages (from tensorflow-intel==2.14.0->tensorflow) (1.14.1)\n",
      "Collecting tensorflow-io-gcs-filesystem>=0.23.1 (from tensorflow-intel==2.14.0->tensorflow)\n",
      "  Downloading tensorflow_io_gcs_filesystem-0.31.0-cp311-cp311-win_amd64.whl (1.5 MB)\n",
      "     ---------------------------------------- 0.0/1.5 MB ? eta -:--:--\n",
      "     ------------------------------ --------- 1.1/1.5 MB 36.0 MB/s eta 0:00:01\n",
      "     ---------------------------------------  1.5/1.5 MB 23.8 MB/s eta 0:00:01\n",
      "     ---------------------------------------- 1.5/1.5 MB 18.9 MB/s eta 0:00:00\n",
      "Collecting grpcio<2.0,>=1.24.3 (from tensorflow-intel==2.14.0->tensorflow)\n",
      "  Obtaining dependency information for grpcio<2.0,>=1.24.3 from https://files.pythonhosted.org/packages/75/c5/fb3ed7495c73c0de58b08376a468a35bdb61b89ddfbdb96a37bceb54f959/grpcio-1.59.0-cp311-cp311-win_amd64.whl.metadata\n",
      "  Downloading grpcio-1.59.0-cp311-cp311-win_amd64.whl.metadata (4.2 kB)\n",
      "Collecting tensorboard<2.15,>=2.14 (from tensorflow-intel==2.14.0->tensorflow)\n",
      "  Obtaining dependency information for tensorboard<2.15,>=2.14 from https://files.pythonhosted.org/packages/73/a2/66ed644f6ed1562e0285fcd959af17670ea313c8f331c46f79ee77187eb9/tensorboard-2.14.1-py3-none-any.whl.metadata\n",
      "  Downloading tensorboard-2.14.1-py3-none-any.whl.metadata (1.7 kB)\n",
      "Collecting tensorflow-estimator<2.15,>=2.14.0 (from tensorflow-intel==2.14.0->tensorflow)\n",
      "  Obtaining dependency information for tensorflow-estimator<2.15,>=2.14.0 from https://files.pythonhosted.org/packages/d1/da/4f264c196325bb6e37a6285caec5b12a03def489b57cc1fdac02bb6272cd/tensorflow_estimator-2.14.0-py2.py3-none-any.whl.metadata\n",
      "  Downloading tensorflow_estimator-2.14.0-py2.py3-none-any.whl.metadata (1.3 kB)\n",
      "Collecting keras<2.15,>=2.14.0 (from tensorflow-intel==2.14.0->tensorflow)\n",
      "  Obtaining dependency information for keras<2.15,>=2.14.0 from https://files.pythonhosted.org/packages/fe/58/34d4d8f1aa11120c2d36d7ad27d0526164b1a8ae45990a2fede31d0e59bf/keras-2.14.0-py3-none-any.whl.metadata\n",
      "  Downloading keras-2.14.0-py3-none-any.whl.metadata (2.4 kB)\n",
      "Requirement already satisfied: wheel<1.0,>=0.23.0 in c:\\users\\user\\anaconda3\\lib\\site-packages (from astunparse>=1.6.0->tensorflow-intel==2.14.0->tensorflow) (0.38.4)\n",
      "Collecting google-auth<3,>=1.6.3 (from tensorboard<2.15,>=2.14->tensorflow-intel==2.14.0->tensorflow)\n",
      "  Obtaining dependency information for google-auth<3,>=1.6.3 from https://files.pythonhosted.org/packages/39/7c/2e4fa55a99f83ef9ef229ac5d59c44ceb90e2d0145711590c0fa39669f32/google_auth-2.23.3-py2.py3-none-any.whl.metadata\n",
      "  Downloading google_auth-2.23.3-py2.py3-none-any.whl.metadata (4.2 kB)\n",
      "Collecting google-auth-oauthlib<1.1,>=0.5 (from tensorboard<2.15,>=2.14->tensorflow-intel==2.14.0->tensorflow)\n",
      "  Downloading google_auth_oauthlib-1.0.0-py2.py3-none-any.whl (18 kB)\n",
      "Requirement already satisfied: markdown>=2.6.8 in c:\\users\\user\\anaconda3\\lib\\site-packages (from tensorboard<2.15,>=2.14->tensorflow-intel==2.14.0->tensorflow) (3.4.1)\n",
      "Requirement already satisfied: requests<3,>=2.21.0 in c:\\users\\user\\anaconda3\\lib\\site-packages (from tensorboard<2.15,>=2.14->tensorflow-intel==2.14.0->tensorflow) (2.31.0)\n",
      "Collecting tensorboard-data-server<0.8.0,>=0.7.0 (from tensorboard<2.15,>=2.14->tensorflow-intel==2.14.0->tensorflow)\n",
      "  Obtaining dependency information for tensorboard-data-server<0.8.0,>=0.7.0 from https://files.pythonhosted.org/packages/7a/13/e503968fefabd4c6b2650af21e110aa8466fe21432cd7c43a84577a89438/tensorboard_data_server-0.7.2-py3-none-any.whl.metadata\n",
      "  Downloading tensorboard_data_server-0.7.2-py3-none-any.whl.metadata (1.1 kB)\n",
      "Requirement already satisfied: werkzeug>=1.0.1 in c:\\users\\user\\anaconda3\\lib\\site-packages (from tensorboard<2.15,>=2.14->tensorflow-intel==2.14.0->tensorflow) (2.2.3)\n",
      "Collecting cachetools<6.0,>=2.0.0 (from google-auth<3,>=1.6.3->tensorboard<2.15,>=2.14->tensorflow-intel==2.14.0->tensorflow)\n",
      "  Obtaining dependency information for cachetools<6.0,>=2.0.0 from https://files.pythonhosted.org/packages/a2/91/2d843adb9fbd911e0da45fbf6f18ca89d07a087c3daa23e955584f90ebf4/cachetools-5.3.2-py3-none-any.whl.metadata\n",
      "  Downloading cachetools-5.3.2-py3-none-any.whl.metadata (5.2 kB)\n",
      "Requirement already satisfied: pyasn1-modules>=0.2.1 in c:\\users\\user\\anaconda3\\lib\\site-packages (from google-auth<3,>=1.6.3->tensorboard<2.15,>=2.14->tensorflow-intel==2.14.0->tensorflow) (0.2.8)\n",
      "Collecting rsa<5,>=3.1.4 (from google-auth<3,>=1.6.3->tensorboard<2.15,>=2.14->tensorflow-intel==2.14.0->tensorflow)\n",
      "  Downloading rsa-4.9-py3-none-any.whl (34 kB)\n",
      "Collecting requests-oauthlib>=0.7.0 (from google-auth-oauthlib<1.1,>=0.5->tensorboard<2.15,>=2.14->tensorflow-intel==2.14.0->tensorflow)\n",
      "  Downloading requests_oauthlib-1.3.1-py2.py3-none-any.whl (23 kB)\n",
      "Requirement already satisfied: charset-normalizer<4,>=2 in c:\\users\\user\\anaconda3\\lib\\site-packages (from requests<3,>=2.21.0->tensorboard<2.15,>=2.14->tensorflow-intel==2.14.0->tensorflow) (2.0.4)\n",
      "Requirement already satisfied: idna<4,>=2.5 in c:\\users\\user\\anaconda3\\lib\\site-packages (from requests<3,>=2.21.0->tensorboard<2.15,>=2.14->tensorflow-intel==2.14.0->tensorflow) (3.4)\n",
      "Requirement already satisfied: urllib3<3,>=1.21.1 in c:\\users\\user\\anaconda3\\lib\\site-packages (from requests<3,>=2.21.0->tensorboard<2.15,>=2.14->tensorflow-intel==2.14.0->tensorflow) (1.26.16)\n",
      "Requirement already satisfied: certifi>=2017.4.17 in c:\\users\\user\\anaconda3\\lib\\site-packages (from requests<3,>=2.21.0->tensorboard<2.15,>=2.14->tensorflow-intel==2.14.0->tensorflow) (2023.7.22)\n",
      "Requirement already satisfied: MarkupSafe>=2.1.1 in c:\\users\\user\\anaconda3\\lib\\site-packages (from werkzeug>=1.0.1->tensorboard<2.15,>=2.14->tensorflow-intel==2.14.0->tensorflow) (2.1.1)\n",
      "Requirement already satisfied: pyasn1<0.5.0,>=0.4.6 in c:\\users\\user\\anaconda3\\lib\\site-packages (from pyasn1-modules>=0.2.1->google-auth<3,>=1.6.3->tensorboard<2.15,>=2.14->tensorflow-intel==2.14.0->tensorflow) (0.4.8)\n",
      "Collecting oauthlib>=3.0.0 (from requests-oauthlib>=0.7.0->google-auth-oauthlib<1.1,>=0.5->tensorboard<2.15,>=2.14->tensorflow-intel==2.14.0->tensorflow)\n",
      "  Downloading oauthlib-3.2.2-py3-none-any.whl (151 kB)\n",
      "     ---------------------------------------- 0.0/151.7 kB ? eta -:--:--\n",
      "     -------------------------------------- 151.7/151.7 kB 4.4 MB/s eta 0:00:00\n",
      "Downloading tensorflow-2.14.0-cp311-cp311-win_amd64.whl (2.1 kB)\n",
      "Downloading tensorflow_intel-2.14.0-cp311-cp311-win_amd64.whl (284.2 MB)\n",
      "   ---------------------------------------- 0.0/284.2 MB ? eta -:--:--\n",
      "   ---------------------------------------- 1.5/284.2 MB 49.5 MB/s eta 0:00:06\n",
      "   ---------------------------------------- 2.9/284.2 MB 37.2 MB/s eta 0:00:08\n",
      "    --------------------------------------- 4.0/284.2 MB 36.2 MB/s eta 0:00:08\n",
      "    --------------------------------------- 5.0/284.2 MB 35.4 MB/s eta 0:00:08\n",
      "    --------------------------------------- 6.2/284.2 MB 32.9 MB/s eta 0:00:09\n",
      "   - -------------------------------------- 7.3/284.2 MB 33.6 MB/s eta 0:00:09\n",
      "   - -------------------------------------- 8.5/284.2 MB 34.0 MB/s eta 0:00:09\n",
      "   - -------------------------------------- 9.5/284.2 MB 33.9 MB/s eta 0:00:09\n",
      "   - -------------------------------------- 10.4/284.2 MB 31.2 MB/s eta 0:00:09\n",
      "   - -------------------------------------- 11.2/284.2 MB 31.2 MB/s eta 0:00:09\n",
      "   - -------------------------------------- 12.1/284.2 MB 29.8 MB/s eta 0:00:10\n",
      "   - -------------------------------------- 12.9/284.2 MB 27.3 MB/s eta 0:00:10\n",
      "   - -------------------------------------- 13.7/284.2 MB 27.3 MB/s eta 0:00:10\n",
      "   -- ------------------------------------- 14.6/284.2 MB 27.3 MB/s eta 0:00:10\n",
      "   -- ------------------------------------- 15.6/284.2 MB 27.3 MB/s eta 0:00:10\n",
      "   -- ------------------------------------- 16.5/284.2 MB 26.2 MB/s eta 0:00:11\n",
      "   -- ------------------------------------- 17.6/284.2 MB 26.2 MB/s eta 0:00:11\n",
      "   -- ------------------------------------- 18.4/284.2 MB 25.2 MB/s eta 0:00:11\n",
      "   -- ------------------------------------- 19.2/284.2 MB 24.2 MB/s eta 0:00:11\n",
      "   -- ------------------------------------- 20.1/284.2 MB 25.2 MB/s eta 0:00:11\n",
      "   -- ------------------------------------- 20.8/284.2 MB 24.2 MB/s eta 0:00:11\n",
      "   --- ------------------------------------ 21.5/284.2 MB 23.4 MB/s eta 0:00:12\n",
      "   --- ------------------------------------ 22.3/284.2 MB 23.4 MB/s eta 0:00:12\n",
      "   --- ------------------------------------ 23.0/284.2 MB 23.4 MB/s eta 0:00:12\n",
      "   --- ------------------------------------ 23.7/284.2 MB 23.4 MB/s eta 0:00:12\n",
      "   --- ------------------------------------ 24.4/284.2 MB 22.6 MB/s eta 0:00:12\n",
      "   --- ------------------------------------ 25.1/284.2 MB 22.6 MB/s eta 0:00:12\n",
      "   --- ------------------------------------ 25.7/284.2 MB 21.8 MB/s eta 0:00:12\n",
      "   --- ------------------------------------ 26.4/284.2 MB 21.1 MB/s eta 0:00:13\n",
      "   --- ------------------------------------ 27.0/284.2 MB 20.5 MB/s eta 0:00:13\n",
      "   --- ------------------------------------ 27.8/284.2 MB 20.5 MB/s eta 0:00:13\n",
      "   ---- ----------------------------------- 28.5/284.2 MB 20.5 MB/s eta 0:00:13\n",
      "   ---- ----------------------------------- 29.2/284.2 MB 19.9 MB/s eta 0:00:13\n",
      "   ---- ----------------------------------- 29.9/284.2 MB 19.9 MB/s eta 0:00:13\n",
      "   ---- ----------------------------------- 30.5/284.2 MB 19.8 MB/s eta 0:00:13\n",
      "   ---- ----------------------------------- 31.2/284.2 MB 19.2 MB/s eta 0:00:14\n",
      "   ---- ----------------------------------- 31.9/284.2 MB 19.3 MB/s eta 0:00:14\n",
      "   ---- ----------------------------------- 32.6/284.2 MB 19.3 MB/s eta 0:00:14\n",
      "   ---- ----------------------------------- 33.2/284.2 MB 18.7 MB/s eta 0:00:14\n",
      "   ---- ----------------------------------- 33.8/284.2 MB 18.7 MB/s eta 0:00:14\n",
      "   ---- ----------------------------------- 34.4/284.2 MB 18.7 MB/s eta 0:00:14\n",
      "   ---- ----------------------------------- 35.0/284.2 MB 18.7 MB/s eta 0:00:14\n",
      "   ----- ---------------------------------- 35.5/284.2 MB 18.2 MB/s eta 0:00:14\n",
      "   ----- ---------------------------------- 36.1/284.2 MB 18.2 MB/s eta 0:00:14\n",
      "   ----- ---------------------------------- 36.6/284.2 MB 17.7 MB/s eta 0:00:14\n",
      "   ----- ---------------------------------- 37.2/284.2 MB 17.7 MB/s eta 0:00:14\n",
      "   ----- ---------------------------------- 37.8/284.2 MB 17.7 MB/s eta 0:00:14\n",
      "   ----- ---------------------------------- 38.4/284.2 MB 17.7 MB/s eta 0:00:14\n",
      "   ----- ---------------------------------- 39.0/284.2 MB 17.3 MB/s eta 0:00:15\n",
      "   ----- ---------------------------------- 39.6/284.2 MB 17.2 MB/s eta 0:00:15\n",
      "   ----- ---------------------------------- 40.3/284.2 MB 17.2 MB/s eta 0:00:15\n",
      "   ----- ---------------------------------- 40.9/284.2 MB 16.8 MB/s eta 0:00:15\n",
      "   ----- ---------------------------------- 41.5/284.2 MB 16.8 MB/s eta 0:00:15\n",
      "   ----- ---------------------------------- 42.2/284.2 MB 16.8 MB/s eta 0:00:15\n",
      "   ------ --------------------------------- 42.8/284.2 MB 16.8 MB/s eta 0:00:15\n",
      "   ------ --------------------------------- 43.3/284.2 MB 16.8 MB/s eta 0:00:15\n",
      "   ------ --------------------------------- 43.9/284.2 MB 16.4 MB/s eta 0:00:15\n",
      "   ------ --------------------------------- 44.4/284.2 MB 16.4 MB/s eta 0:00:15\n",
      "   ------ --------------------------------- 45.0/284.2 MB 16.4 MB/s eta 0:00:15\n",
      "   ------ --------------------------------- 45.6/284.2 MB 16.4 MB/s eta 0:00:15\n",
      "   ------ --------------------------------- 46.2/284.2 MB 16.8 MB/s eta 0:00:15\n",
      "   ------ --------------------------------- 46.7/284.2 MB 16.4 MB/s eta 0:00:15\n",
      "   ------ --------------------------------- 47.3/284.2 MB 16.4 MB/s eta 0:00:15\n",
      "   ------ --------------------------------- 47.9/284.2 MB 16.4 MB/s eta 0:00:15\n",
      "   ------ --------------------------------- 48.4/284.2 MB 16.8 MB/s eta 0:00:15\n",
      "   ------ --------------------------------- 49.0/284.2 MB 16.4 MB/s eta 0:00:15\n",
      "   ------ --------------------------------- 49.5/284.2 MB 16.0 MB/s eta 0:00:15\n",
      "   ------- -------------------------------- 50.0/284.2 MB 16.0 MB/s eta 0:00:15\n",
      "   ------- -------------------------------- 50.5/284.2 MB 15.6 MB/s eta 0:00:15\n",
      "   ------- -------------------------------- 51.1/284.2 MB 15.6 MB/s eta 0:00:15\n",
      "   ------- -------------------------------- 51.6/284.2 MB 15.6 MB/s eta 0:00:15\n",
      "   ------- -------------------------------- 52.1/284.2 MB 15.2 MB/s eta 0:00:16\n",
      "   ------- -------------------------------- 52.6/284.2 MB 15.2 MB/s eta 0:00:16\n",
      "   ------- -------------------------------- 53.0/284.2 MB 14.9 MB/s eta 0:00:16\n",
      "   ------- -------------------------------- 53.5/284.2 MB 14.9 MB/s eta 0:00:16\n",
      "   ------- -------------------------------- 53.9/284.2 MB 14.6 MB/s eta 0:00:16\n",
      "   ------- -------------------------------- 54.3/284.2 MB 14.6 MB/s eta 0:00:16\n",
      "   ------- -------------------------------- 54.7/284.2 MB 14.5 MB/s eta 0:00:16\n",
      "   ------- -------------------------------- 55.0/284.2 MB 13.9 MB/s eta 0:00:17\n",
      "   ------- -------------------------------- 55.4/284.2 MB 13.6 MB/s eta 0:00:17\n",
      "   ------- -------------------------------- 55.7/284.2 MB 13.6 MB/s eta 0:00:17\n",
      "   ------- -------------------------------- 56.1/284.2 MB 13.4 MB/s eta 0:00:18\n",
      "   ------- -------------------------------- 56.4/284.2 MB 12.8 MB/s eta 0:00:18\n",
      "   ------- -------------------------------- 56.7/284.2 MB 12.8 MB/s eta 0:00:18\n",
      "   -------- ------------------------------- 57.1/284.2 MB 12.6 MB/s eta 0:00:19\n",
      "   -------- ------------------------------- 57.4/284.2 MB 12.1 MB/s eta 0:00:19\n",
      "   -------- ------------------------------- 57.8/284.2 MB 12.1 MB/s eta 0:00:19\n",
      "   -------- ------------------------------- 58.2/284.2 MB 12.1 MB/s eta 0:00:19\n",
      "   -------- ------------------------------- 58.6/284.2 MB 11.9 MB/s eta 0:00:19\n",
      "   -------- ------------------------------- 59.0/284.2 MB 11.7 MB/s eta 0:00:20\n",
      "   -------- ------------------------------- 59.3/284.2 MB 11.5 MB/s eta 0:00:20\n",
      "   -------- ------------------------------- 59.7/284.2 MB 11.5 MB/s eta 0:00:20\n",
      "   -------- ------------------------------- 60.1/284.2 MB 11.3 MB/s eta 0:00:20\n",
      "   -------- ------------------------------- 60.4/284.2 MB 11.1 MB/s eta 0:00:21\n",
      "   -------- ------------------------------- 60.7/284.2 MB 10.9 MB/s eta 0:00:21\n",
      "   -------- ------------------------------- 61.0/284.2 MB 10.7 MB/s eta 0:00:21\n",
      "   -------- ------------------------------- 61.3/284.2 MB 10.6 MB/s eta 0:00:22\n",
      "   -------- ------------------------------- 61.6/284.2 MB 10.4 MB/s eta 0:00:22\n",
      "   -------- ------------------------------- 62.0/284.2 MB 10.2 MB/s eta 0:00:22\n",
      "   -------- ------------------------------- 62.3/284.2 MB 10.2 MB/s eta 0:00:22\n",
      "   -------- ------------------------------- 62.6/284.2 MB 9.9 MB/s eta 0:00:23\n",
      "   -------- ------------------------------- 62.9/284.2 MB 9.9 MB/s eta 0:00:23\n",
      "   -------- ------------------------------- 63.2/284.2 MB 9.8 MB/s eta 0:00:23\n",
      "   -------- ------------------------------- 63.5/284.2 MB 9.5 MB/s eta 0:00:24\n",
      "   -------- ------------------------------- 63.8/284.2 MB 9.5 MB/s eta 0:00:24\n",
      "   --------- ------------------------------ 64.1/284.2 MB 9.4 MB/s eta 0:00:24\n",
      "   --------- ------------------------------ 64.3/284.2 MB 9.2 MB/s eta 0:00:24\n",
      "   --------- ------------------------------ 64.7/284.2 MB 9.2 MB/s eta 0:00:24\n",
      "   --------- ------------------------------ 64.9/284.2 MB 9.0 MB/s eta 0:00:25\n",
      "   --------- ------------------------------ 65.2/284.2 MB 9.0 MB/s eta 0:00:25\n",
      "   --------- ------------------------------ 65.4/284.2 MB 9.0 MB/s eta 0:00:25\n",
      "   --------- ------------------------------ 65.7/284.2 MB 8.7 MB/s eta 0:00:26\n",
      "   --------- ------------------------------ 65.9/284.2 MB 8.7 MB/s eta 0:00:26\n",
      "   --------- ------------------------------ 66.2/284.2 MB 8.7 MB/s eta 0:00:25\n",
      "   --------- ------------------------------ 66.5/284.2 MB 8.6 MB/s eta 0:00:26\n",
      "   --------- ------------------------------ 66.8/284.2 MB 8.6 MB/s eta 0:00:26\n",
      "   --------- ------------------------------ 67.1/284.2 MB 8.6 MB/s eta 0:00:26\n",
      "   --------- ------------------------------ 67.4/284.2 MB 8.5 MB/s eta 0:00:26\n",
      "   --------- ------------------------------ 67.7/284.2 MB 8.4 MB/s eta 0:00:26\n",
      "   --------- ------------------------------ 68.1/284.2 MB 8.4 MB/s eta 0:00:26\n",
      "   --------- ------------------------------ 68.4/284.2 MB 8.4 MB/s eta 0:00:26\n",
      "   --------- ------------------------------ 68.7/284.2 MB 8.3 MB/s eta 0:00:27\n",
      "   --------- ------------------------------ 69.0/284.2 MB 8.3 MB/s eta 0:00:26\n",
      "   --------- ------------------------------ 69.4/284.2 MB 8.2 MB/s eta 0:00:27\n",
      "   --------- ------------------------------ 69.7/284.2 MB 8.2 MB/s eta 0:00:27\n",
      "   --------- ------------------------------ 69.9/284.2 MB 8.0 MB/s eta 0:00:27\n",
      "   --------- ------------------------------ 70.2/284.2 MB 7.9 MB/s eta 0:00:28\n",
      "   --------- ------------------------------ 70.5/284.2 MB 7.9 MB/s eta 0:00:28\n",
      "   --------- ------------------------------ 70.7/284.2 MB 7.9 MB/s eta 0:00:28\n",
      "   --------- ------------------------------ 71.0/284.2 MB 7.8 MB/s eta 0:00:28\n",
      "   ---------- ----------------------------- 71.2/284.2 MB 7.6 MB/s eta 0:00:28\n",
      "   ---------- ----------------------------- 71.4/284.2 MB 7.6 MB/s eta 0:00:28\n",
      "   ---------- ----------------------------- 71.6/284.2 MB 7.5 MB/s eta 0:00:29\n",
      "   ---------- ----------------------------- 71.8/284.2 MB 7.4 MB/s eta 0:00:29\n",
      "   ---------- ----------------------------- 72.0/284.2 MB 7.4 MB/s eta 0:00:29\n",
      "   ---------- ----------------------------- 72.2/284.2 MB 7.3 MB/s eta 0:00:30\n",
      "   ---------- ----------------------------- 72.4/284.2 MB 7.1 MB/s eta 0:00:30\n",
      "   ---------- ----------------------------- 72.6/284.2 MB 7.1 MB/s eta 0:00:30\n",
      "   ---------- ----------------------------- 72.7/284.2 MB 7.0 MB/s eta 0:00:31\n",
      "   ---------- ----------------------------- 72.9/284.2 MB 7.0 MB/s eta 0:00:31\n",
      "   ---------- ----------------------------- 73.2/284.2 MB 6.9 MB/s eta 0:00:31\n",
      "   ---------- ----------------------------- 73.4/284.2 MB 6.9 MB/s eta 0:00:31\n",
      "   ---------- ----------------------------- 73.8/284.2 MB 6.8 MB/s eta 0:00:31\n",
      "   ---------- ----------------------------- 74.0/284.2 MB 6.9 MB/s eta 0:00:31\n",
      "   ---------- ----------------------------- 74.3/284.2 MB 6.9 MB/s eta 0:00:31\n",
      "   ---------- ----------------------------- 74.6/284.2 MB 6.8 MB/s eta 0:00:31\n",
      "   ---------- ----------------------------- 74.9/284.2 MB 6.8 MB/s eta 0:00:31\n",
      "   ---------- ----------------------------- 75.2/284.2 MB 6.8 MB/s eta 0:00:31\n",
      "   ---------- ----------------------------- 75.5/284.2 MB 6.9 MB/s eta 0:00:31\n",
      "   ---------- ----------------------------- 75.7/284.2 MB 6.9 MB/s eta 0:00:31\n",
      "   ---------- ----------------------------- 76.0/284.2 MB 6.9 MB/s eta 0:00:31\n",
      "   ---------- ----------------------------- 76.3/284.2 MB 6.9 MB/s eta 0:00:31\n",
      "   ---------- ----------------------------- 76.6/284.2 MB 6.8 MB/s eta 0:00:31\n",
      "   ---------- ----------------------------- 76.8/284.2 MB 6.9 MB/s eta 0:00:31\n",
      "   ---------- ----------------------------- 77.1/284.2 MB 6.8 MB/s eta 0:00:31\n",
      "   ---------- ----------------------------- 77.3/284.2 MB 6.8 MB/s eta 0:00:31\n",
      "   ---------- ----------------------------- 77.6/284.2 MB 6.8 MB/s eta 0:00:31\n",
      "   ---------- ----------------------------- 77.9/284.2 MB 6.8 MB/s eta 0:00:31\n",
      "   ---------- ----------------------------- 78.1/284.2 MB 6.7 MB/s eta 0:00:31\n",
      "   ----------- ---------------------------- 78.4/284.2 MB 6.7 MB/s eta 0:00:31\n",
      "   ----------- ---------------------------- 78.6/284.2 MB 6.7 MB/s eta 0:00:31\n",
      "   ----------- ---------------------------- 78.9/284.2 MB 6.7 MB/s eta 0:00:31\n",
      "   ----------- ---------------------------- 79.2/284.2 MB 6.7 MB/s eta 0:00:31\n",
      "   ----------- ---------------------------- 79.5/284.2 MB 6.6 MB/s eta 0:00:31\n",
      "   ----------- ---------------------------- 79.8/284.2 MB 6.7 MB/s eta 0:00:31\n",
      "   ----------- ---------------------------- 80.2/284.2 MB 6.7 MB/s eta 0:00:31\n",
      "   ----------- ---------------------------- 80.4/284.2 MB 6.8 MB/s eta 0:00:31\n",
      "   ----------- ---------------------------- 80.8/284.2 MB 6.8 MB/s eta 0:00:30\n",
      "   ----------- ---------------------------- 81.0/284.2 MB 6.8 MB/s eta 0:00:31\n",
      "   ----------- ---------------------------- 81.2/284.2 MB 6.8 MB/s eta 0:00:30\n",
      "   ----------- ---------------------------- 81.4/284.2 MB 6.7 MB/s eta 0:00:31\n",
      "   ----------- ---------------------------- 81.6/284.2 MB 6.7 MB/s eta 0:00:31\n",
      "   ----------- ---------------------------- 81.8/284.2 MB 6.7 MB/s eta 0:00:30\n",
      "   ----------- ---------------------------- 81.9/284.2 MB 6.7 MB/s eta 0:00:31\n",
      "   ----------- ---------------------------- 82.1/284.2 MB 6.7 MB/s eta 0:00:31\n",
      "   ----------- ---------------------------- 82.3/284.2 MB 6.8 MB/s eta 0:00:30\n",
      "   ----------- ---------------------------- 82.6/284.2 MB 6.8 MB/s eta 0:00:30\n",
      "   ----------- ---------------------------- 82.8/284.2 MB 6.8 MB/s eta 0:00:30\n",
      "   ----------- ---------------------------- 83.0/284.2 MB 6.8 MB/s eta 0:00:30\n",
      "   ----------- ---------------------------- 83.2/284.2 MB 6.9 MB/s eta 0:00:30\n",
      "   ----------- ---------------------------- 83.4/284.2 MB 6.9 MB/s eta 0:00:30\n",
      "   ----------- ---------------------------- 83.7/284.2 MB 6.8 MB/s eta 0:00:30\n",
      "   ----------- ---------------------------- 83.9/284.2 MB 6.8 MB/s eta 0:00:30\n",
      "   ----------- ---------------------------- 84.2/284.2 MB 6.7 MB/s eta 0:00:30\n",
      "   ----------- ---------------------------- 84.4/284.2 MB 6.8 MB/s eta 0:00:30\n",
      "   ----------- ---------------------------- 84.6/284.2 MB 6.8 MB/s eta 0:00:30\n",
      "   ----------- ---------------------------- 84.9/284.2 MB 6.7 MB/s eta 0:00:30\n",
      "   ----------- ---------------------------- 85.2/284.2 MB 6.7 MB/s eta 0:00:30\n",
      "   ------------ --------------------------- 85.4/284.2 MB 6.7 MB/s eta 0:00:30\n",
      "   ------------ --------------------------- 85.7/284.2 MB 6.7 MB/s eta 0:00:30\n",
      "   ------------ --------------------------- 86.0/284.2 MB 6.7 MB/s eta 0:00:30\n",
      "   ------------ --------------------------- 86.3/284.2 MB 6.7 MB/s eta 0:00:30\n",
      "   ------------ --------------------------- 86.6/284.2 MB 6.7 MB/s eta 0:00:30\n",
      "   ------------ --------------------------- 86.9/284.2 MB 6.7 MB/s eta 0:00:30\n",
      "   ------------ --------------------------- 87.3/284.2 MB 6.8 MB/s eta 0:00:29\n",
      "   ------------ --------------------------- 87.6/284.2 MB 6.9 MB/s eta 0:00:29\n",
      "   ------------ --------------------------- 87.9/284.2 MB 6.9 MB/s eta 0:00:29\n",
      "   ------------ --------------------------- 88.2/284.2 MB 7.0 MB/s eta 0:00:29\n",
      "   ------------ --------------------------- 88.6/284.2 MB 7.0 MB/s eta 0:00:29\n",
      "   ------------ --------------------------- 88.9/284.2 MB 7.0 MB/s eta 0:00:28\n",
      "   ------------ --------------------------- 89.2/284.2 MB 7.0 MB/s eta 0:00:28\n",
      "   ------------ --------------------------- 89.5/284.2 MB 7.0 MB/s eta 0:00:28\n",
      "   ------------ --------------------------- 89.7/284.2 MB 7.0 MB/s eta 0:00:28\n",
      "   ------------ --------------------------- 90.0/284.2 MB 7.0 MB/s eta 0:00:28\n",
      "   ------------ --------------------------- 90.3/284.2 MB 7.0 MB/s eta 0:00:28\n",
      "   ------------ --------------------------- 90.6/284.2 MB 7.0 MB/s eta 0:00:28\n",
      "   ------------ --------------------------- 90.9/284.2 MB 7.0 MB/s eta 0:00:28\n",
      "   ------------ --------------------------- 91.2/284.2 MB 7.0 MB/s eta 0:00:28\n",
      "   ------------ --------------------------- 91.4/284.2 MB 7.0 MB/s eta 0:00:28\n",
      "   ------------ --------------------------- 91.7/284.2 MB 7.0 MB/s eta 0:00:28\n",
      "   ------------ --------------------------- 91.9/284.2 MB 7.1 MB/s eta 0:00:28\n",
      "   ------------ --------------------------- 92.2/284.2 MB 7.2 MB/s eta 0:00:27\n",
      "   ------------- -------------------------- 92.5/284.2 MB 7.4 MB/s eta 0:00:27\n",
      "   ------------- -------------------------- 92.8/284.2 MB 7.4 MB/s eta 0:00:27\n",
      "   ------------- -------------------------- 93.1/284.2 MB 7.5 MB/s eta 0:00:26\n",
      "   ------------- -------------------------- 93.3/284.2 MB 7.6 MB/s eta 0:00:26\n",
      "   ------------- -------------------------- 93.4/284.2 MB 7.3 MB/s eta 0:00:27\n",
      "   ------------- -------------------------- 93.7/284.2 MB 7.4 MB/s eta 0:00:26\n",
      "   ------------- -------------------------- 94.1/284.2 MB 7.5 MB/s eta 0:00:26\n",
      "   ------------- -------------------------- 94.5/284.2 MB 7.7 MB/s eta 0:00:25\n",
      "   ------------- -------------------------- 94.9/284.2 MB 7.9 MB/s eta 0:00:25\n",
      "   ------------- -------------------------- 95.2/284.2 MB 7.9 MB/s eta 0:00:24\n",
      "   ------------- -------------------------- 95.5/284.2 MB 7.9 MB/s eta 0:00:24\n",
      "   ------------- -------------------------- 95.7/284.2 MB 7.9 MB/s eta 0:00:24\n",
      "   ------------- -------------------------- 96.0/284.2 MB 7.9 MB/s eta 0:00:24\n",
      "   ------------- -------------------------- 96.3/284.2 MB 7.9 MB/s eta 0:00:24\n",
      "   ------------- -------------------------- 96.6/284.2 MB 7.8 MB/s eta 0:00:25\n",
      "   ------------- -------------------------- 96.8/284.2 MB 7.9 MB/s eta 0:00:24\n",
      "   ------------- -------------------------- 97.2/284.2 MB 7.8 MB/s eta 0:00:24\n",
      "   ------------- -------------------------- 97.5/284.2 MB 7.8 MB/s eta 0:00:24\n",
      "   ------------- -------------------------- 97.7/284.2 MB 7.8 MB/s eta 0:00:24\n",
      "   ------------- -------------------------- 98.0/284.2 MB 7.8 MB/s eta 0:00:24\n",
      "   ------------- -------------------------- 98.3/284.2 MB 7.7 MB/s eta 0:00:25\n",
      "   ------------- -------------------------- 98.7/284.2 MB 7.7 MB/s eta 0:00:25\n",
      "   ------------- -------------------------- 99.0/284.2 MB 7.7 MB/s eta 0:00:25\n",
      "   ------------- -------------------------- 99.4/284.2 MB 7.8 MB/s eta 0:00:24\n",
      "   -------------- ------------------------- 99.8/284.2 MB 7.8 MB/s eta 0:00:24\n",
      "   -------------- ------------------------- 100.1/284.2 MB 7.9 MB/s eta 0:00:24\n",
      "   -------------- ------------------------- 100.4/284.2 MB 7.9 MB/s eta 0:00:24\n",
      "   -------------- ------------------------- 100.8/284.2 MB 8.0 MB/s eta 0:00:23\n",
      "   -------------- ------------------------- 101.2/284.2 MB 8.0 MB/s eta 0:00:23\n",
      "   -------------- ------------------------- 101.5/284.2 MB 8.1 MB/s eta 0:00:23\n",
      "   -------------- ------------------------- 101.8/284.2 MB 8.2 MB/s eta 0:00:23\n",
      "   -------------- ------------------------- 102.0/284.2 MB 8.1 MB/s eta 0:00:23\n",
      "   -------------- ------------------------- 102.3/284.2 MB 8.2 MB/s eta 0:00:23\n",
      "   -------------- ------------------------- 102.6/284.2 MB 8.1 MB/s eta 0:00:23\n",
      "   -------------- ------------------------- 102.9/284.2 MB 8.2 MB/s eta 0:00:23\n",
      "   -------------- ------------------------- 103.3/284.2 MB 8.1 MB/s eta 0:00:23\n",
      "   -------------- ------------------------- 103.6/284.2 MB 8.5 MB/s eta 0:00:22\n",
      "   -------------- ------------------------- 104.0/284.2 MB 8.6 MB/s eta 0:00:21\n",
      "   -------------- ------------------------- 104.2/284.2 MB 8.5 MB/s eta 0:00:22\n",
      "   -------------- ------------------------- 104.5/284.2 MB 8.4 MB/s eta 0:00:22\n",
      "   -------------- ------------------------- 104.8/284.2 MB 8.2 MB/s eta 0:00:22\n",
      "   -------------- ------------------------- 105.0/284.2 MB 8.2 MB/s eta 0:00:22\n",
      "   -------------- ------------------------- 105.3/284.2 MB 8.1 MB/s eta 0:00:23\n",
      "   -------------- ------------------------- 105.5/284.2 MB 8.1 MB/s eta 0:00:23\n",
      "   -------------- ------------------------- 105.8/284.2 MB 8.1 MB/s eta 0:00:23\n",
      "   -------------- ------------------------- 106.1/284.2 MB 8.2 MB/s eta 0:00:22\n",
      "   -------------- ------------------------- 106.3/284.2 MB 8.1 MB/s eta 0:00:22\n",
      "   --------------- ------------------------ 106.6/284.2 MB 8.2 MB/s eta 0:00:22\n",
      "   --------------- ------------------------ 107.0/284.2 MB 8.2 MB/s eta 0:00:22\n",
      "   --------------- ------------------------ 107.3/284.2 MB 8.2 MB/s eta 0:00:22\n",
      "   --------------- ------------------------ 107.6/284.2 MB 8.2 MB/s eta 0:00:22\n",
      "   --------------- ------------------------ 107.9/284.2 MB 8.2 MB/s eta 0:00:22\n",
      "   --------------- ------------------------ 108.2/284.2 MB 8.2 MB/s eta 0:00:22\n",
      "   --------------- ------------------------ 108.5/284.2 MB 8.2 MB/s eta 0:00:22\n",
      "   --------------- ------------------------ 108.8/284.2 MB 8.2 MB/s eta 0:00:22\n",
      "   --------------- ------------------------ 109.2/284.2 MB 8.2 MB/s eta 0:00:22\n",
      "   --------------- ------------------------ 109.6/284.2 MB 8.2 MB/s eta 0:00:22\n",
      "   --------------- ------------------------ 110.0/284.2 MB 8.3 MB/s eta 0:00:22\n",
      "   --------------- ------------------------ 110.4/284.2 MB 8.3 MB/s eta 0:00:21\n",
      "   --------------- ------------------------ 110.8/284.2 MB 8.3 MB/s eta 0:00:21\n",
      "   --------------- ------------------------ 111.2/284.2 MB 8.3 MB/s eta 0:00:21\n",
      "   --------------- ------------------------ 111.5/284.2 MB 8.4 MB/s eta 0:00:21\n",
      "   --------------- ------------------------ 111.9/284.2 MB 8.5 MB/s eta 0:00:21\n",
      "   --------------- ------------------------ 112.4/284.2 MB 8.6 MB/s eta 0:00:20\n",
      "   --------------- ------------------------ 112.9/284.2 MB 8.8 MB/s eta 0:00:20\n",
      "   --------------- ------------------------ 113.3/284.2 MB 9.0 MB/s eta 0:00:20\n",
      "   ---------------- ----------------------- 113.8/284.2 MB 9.0 MB/s eta 0:00:19\n",
      "   ---------------- ----------------------- 114.1/284.2 MB 9.1 MB/s eta 0:00:19\n",
      "   ---------------- ----------------------- 114.5/284.2 MB 9.1 MB/s eta 0:00:19\n",
      "   ---------------- ----------------------- 114.8/284.2 MB 9.2 MB/s eta 0:00:19\n",
      "   ---------------- ----------------------- 115.1/284.2 MB 9.4 MB/s eta 0:00:19\n",
      "   ---------------- ----------------------- 115.4/284.2 MB 9.2 MB/s eta 0:00:19\n",
      "   ---------------- ----------------------- 115.7/284.2 MB 9.4 MB/s eta 0:00:19\n",
      "   ---------------- ----------------------- 116.0/284.2 MB 9.5 MB/s eta 0:00:18\n",
      "   ---------------- ----------------------- 116.4/284.2 MB 9.5 MB/s eta 0:00:18\n",
      "   ---------------- ----------------------- 116.6/284.2 MB 9.5 MB/s eta 0:00:18\n",
      "   ---------------- ----------------------- 116.9/284.2 MB 9.5 MB/s eta 0:00:18\n",
      "   ---------------- ----------------------- 117.2/284.2 MB 9.6 MB/s eta 0:00:18\n",
      "   ---------------- ----------------------- 117.5/284.2 MB 9.5 MB/s eta 0:00:18\n",
      "   ---------------- ----------------------- 117.8/284.2 MB 9.5 MB/s eta 0:00:18\n",
      "   ---------------- ----------------------- 118.0/284.2 MB 9.5 MB/s eta 0:00:18\n",
      "   ---------------- ----------------------- 118.4/284.2 MB 9.5 MB/s eta 0:00:18\n",
      "   ---------------- ----------------------- 118.5/284.2 MB 9.4 MB/s eta 0:00:18\n",
      "   ---------------- ----------------------- 118.9/284.2 MB 9.5 MB/s eta 0:00:18\n",
      "   ---------------- ----------------------- 119.1/284.2 MB 9.4 MB/s eta 0:00:18\n",
      "   ---------------- ----------------------- 119.4/284.2 MB 9.2 MB/s eta 0:00:18\n",
      "   ---------------- ----------------------- 119.6/284.2 MB 9.1 MB/s eta 0:00:19\n",
      "   ---------------- ----------------------- 119.8/284.2 MB 9.0 MB/s eta 0:00:19\n",
      "   ---------------- ----------------------- 120.0/284.2 MB 8.8 MB/s eta 0:00:19\n",
      "   ---------------- ----------------------- 120.2/284.2 MB 8.7 MB/s eta 0:00:19\n",
      "   ---------------- ----------------------- 120.4/284.2 MB 8.6 MB/s eta 0:00:19\n",
      "   ---------------- ----------------------- 120.7/284.2 MB 8.5 MB/s eta 0:00:20\n",
      "   ----------------- ---------------------- 120.9/284.2 MB 8.4 MB/s eta 0:00:20\n",
      "   ----------------- ---------------------- 121.1/284.2 MB 8.4 MB/s eta 0:00:20\n",
      "   ----------------- ---------------------- 121.3/284.2 MB 8.2 MB/s eta 0:00:20\n",
      "   ----------------- ---------------------- 121.5/284.2 MB 8.1 MB/s eta 0:00:21\n",
      "   ----------------- ---------------------- 121.8/284.2 MB 8.1 MB/s eta 0:00:21\n",
      "   ----------------- ---------------------- 122.0/284.2 MB 7.9 MB/s eta 0:00:21\n",
      "   ----------------- ---------------------- 122.3/284.2 MB 7.9 MB/s eta 0:00:21\n",
      "   ----------------- ---------------------- 122.5/284.2 MB 7.8 MB/s eta 0:00:21\n",
      "   ----------------- ---------------------- 122.8/284.2 MB 7.7 MB/s eta 0:00:21\n",
      "   ----------------- ---------------------- 123.0/284.2 MB 7.6 MB/s eta 0:00:22\n",
      "   ----------------- ---------------------- 123.2/284.2 MB 7.5 MB/s eta 0:00:22\n",
      "   ----------------- ---------------------- 123.4/284.2 MB 7.4 MB/s eta 0:00:22\n",
      "   ----------------- ---------------------- 123.6/284.2 MB 7.3 MB/s eta 0:00:23\n",
      "   ----------------- ---------------------- 123.9/284.2 MB 7.2 MB/s eta 0:00:23\n",
      "   ----------------- ---------------------- 124.1/284.2 MB 7.1 MB/s eta 0:00:23\n",
      "   ----------------- ---------------------- 124.3/284.2 MB 7.0 MB/s eta 0:00:23\n",
      "   ----------------- ---------------------- 124.5/284.2 MB 7.0 MB/s eta 0:00:23\n",
      "   ----------------- ---------------------- 124.8/284.2 MB 7.0 MB/s eta 0:00:23\n",
      "   ----------------- ---------------------- 125.1/284.2 MB 6.9 MB/s eta 0:00:24\n",
      "   ----------------- ---------------------- 125.4/284.2 MB 7.0 MB/s eta 0:00:23\n",
      "   ----------------- ---------------------- 125.7/284.2 MB 7.0 MB/s eta 0:00:23\n",
      "   ----------------- ---------------------- 126.0/284.2 MB 6.9 MB/s eta 0:00:23\n",
      "   ----------------- ---------------------- 126.4/284.2 MB 7.0 MB/s eta 0:00:23\n",
      "   ----------------- ---------------------- 126.6/284.2 MB 7.0 MB/s eta 0:00:23\n",
      "   ----------------- ---------------------- 126.9/284.2 MB 6.9 MB/s eta 0:00:23\n",
      "   ----------------- ---------------------- 127.1/284.2 MB 6.9 MB/s eta 0:00:23\n",
      "   ----------------- ---------------------- 127.4/284.2 MB 6.9 MB/s eta 0:00:23\n",
      "   ----------------- ---------------------- 127.7/284.2 MB 6.9 MB/s eta 0:00:23\n",
      "   ------------------ --------------------- 127.9/284.2 MB 6.8 MB/s eta 0:00:23\n",
      "   ------------------ --------------------- 128.2/284.2 MB 6.9 MB/s eta 0:00:23\n",
      "   ------------------ --------------------- 128.5/284.2 MB 6.9 MB/s eta 0:00:23\n",
      "   ------------------ --------------------- 128.6/284.2 MB 6.8 MB/s eta 0:00:23\n",
      "   ------------------ --------------------- 128.9/284.2 MB 6.8 MB/s eta 0:00:24\n",
      "   ------------------ --------------------- 129.1/284.2 MB 6.8 MB/s eta 0:00:23\n",
      "   ------------------ --------------------- 129.4/284.2 MB 6.8 MB/s eta 0:00:23\n",
      "   ------------------ --------------------- 129.6/284.2 MB 6.7 MB/s eta 0:00:23\n",
      "   ------------------ --------------------- 129.9/284.2 MB 6.8 MB/s eta 0:00:23\n",
      "   ------------------ --------------------- 130.1/284.2 MB 6.8 MB/s eta 0:00:23\n",
      "   ------------------ --------------------- 130.3/284.2 MB 6.8 MB/s eta 0:00:23\n",
      "   ------------------ --------------------- 130.6/284.2 MB 6.9 MB/s eta 0:00:23\n",
      "   ------------------ --------------------- 130.9/284.2 MB 7.0 MB/s eta 0:00:23\n",
      "   ------------------ --------------------- 131.1/284.2 MB 6.9 MB/s eta 0:00:23\n",
      "   ------------------ --------------------- 131.4/284.2 MB 7.0 MB/s eta 0:00:22\n",
      "   ------------------ --------------------- 131.6/284.2 MB 7.0 MB/s eta 0:00:22\n",
      "   ------------------ --------------------- 131.9/284.2 MB 7.0 MB/s eta 0:00:22\n",
      "   ------------------ --------------------- 132.1/284.2 MB 7.0 MB/s eta 0:00:22\n",
      "   ------------------ --------------------- 132.3/284.2 MB 7.0 MB/s eta 0:00:22\n",
      "   ------------------ --------------------- 132.5/284.2 MB 6.9 MB/s eta 0:00:23\n",
      "   ------------------ --------------------- 132.7/284.2 MB 6.9 MB/s eta 0:00:22\n",
      "   ------------------ --------------------- 132.9/284.2 MB 6.8 MB/s eta 0:00:23\n",
      "   ------------------ --------------------- 133.1/284.2 MB 6.8 MB/s eta 0:00:23\n",
      "   ------------------ --------------------- 133.4/284.2 MB 6.8 MB/s eta 0:00:23\n",
      "   ------------------ --------------------- 133.7/284.2 MB 6.8 MB/s eta 0:00:23\n",
      "   ------------------ --------------------- 133.9/284.2 MB 6.8 MB/s eta 0:00:23\n",
      "   ------------------ --------------------- 134.1/284.2 MB 6.8 MB/s eta 0:00:22\n",
      "   ------------------ --------------------- 134.4/284.2 MB 6.9 MB/s eta 0:00:22\n",
      "   ------------------ --------------------- 134.7/284.2 MB 6.9 MB/s eta 0:00:22\n",
      "   ------------------ --------------------- 134.9/284.2 MB 6.9 MB/s eta 0:00:22\n",
      "   ------------------- -------------------- 135.2/284.2 MB 7.0 MB/s eta 0:00:22\n",
      "   ------------------- -------------------- 135.5/284.2 MB 6.9 MB/s eta 0:00:22\n",
      "   ------------------- -------------------- 135.8/284.2 MB 6.9 MB/s eta 0:00:22\n",
      "   ------------------- -------------------- 136.1/284.2 MB 6.9 MB/s eta 0:00:22\n",
      "   ------------------- -------------------- 136.4/284.2 MB 6.9 MB/s eta 0:00:22\n",
      "   ------------------- -------------------- 136.7/284.2 MB 6.9 MB/s eta 0:00:22\n",
      "   ------------------- -------------------- 137.1/284.2 MB 7.0 MB/s eta 0:00:22\n",
      "   ------------------- -------------------- 137.4/284.2 MB 7.0 MB/s eta 0:00:21\n",
      "   ------------------- -------------------- 137.7/284.2 MB 7.0 MB/s eta 0:00:21\n",
      "   ------------------- -------------------- 138.1/284.2 MB 7.1 MB/s eta 0:00:21\n",
      "   ------------------- -------------------- 138.5/284.2 MB 7.1 MB/s eta 0:00:21\n",
      "   ------------------- -------------------- 138.8/284.2 MB 7.3 MB/s eta 0:00:20\n",
      "   ------------------- -------------------- 139.3/284.2 MB 7.4 MB/s eta 0:00:20\n",
      "   ------------------- -------------------- 139.7/284.2 MB 7.6 MB/s eta 0:00:19\n",
      "   ------------------- -------------------- 140.2/284.2 MB 7.8 MB/s eta 0:00:19\n",
      "   ------------------- -------------------- 140.7/284.2 MB 8.0 MB/s eta 0:00:18\n",
      "   ------------------- -------------------- 141.1/284.2 MB 8.2 MB/s eta 0:00:18\n",
      "   ------------------- -------------------- 141.6/284.2 MB 8.3 MB/s eta 0:00:18\n",
      "   -------------------- ------------------- 142.1/284.2 MB 8.6 MB/s eta 0:00:17\n",
      "   -------------------- ------------------- 142.6/284.2 MB 8.8 MB/s eta 0:00:17\n",
      "   -------------------- ------------------- 142.6/284.2 MB 8.8 MB/s eta 0:00:16\n",
      "   -------------------- ------------------- 142.6/284.2 MB 8.8 MB/s eta 0:00:16\n",
      "   -------------------- ------------------- 142.8/284.2 MB 8.4 MB/s eta 0:00:17\n",
      "   -------------------- ------------------- 143.3/284.2 MB 8.6 MB/s eta 0:00:17\n",
      "   -------------------- ------------------- 143.8/284.2 MB 9.1 MB/s eta 0:00:16\n",
      "   -------------------- ------------------- 144.3/284.2 MB 9.4 MB/s eta 0:00:15\n",
      "   -------------------- ------------------- 144.9/284.2 MB 9.6 MB/s eta 0:00:15\n",
      "   -------------------- ------------------- 145.3/284.2 MB 9.8 MB/s eta 0:00:15\n",
      "   -------------------- ------------------- 145.7/284.2 MB 9.9 MB/s eta 0:00:14\n",
      "   -------------------- ------------------ 146.1/284.2 MB 10.1 MB/s eta 0:00:14\n",
      "   -------------------- ------------------ 146.6/284.2 MB 10.2 MB/s eta 0:00:14\n",
      "   -------------------- ------------------ 147.0/284.2 MB 10.2 MB/s eta 0:00:14\n",
      "   -------------------- ------------------ 147.4/284.2 MB 10.2 MB/s eta 0:00:14\n",
      "   -------------------- ------------------ 147.8/284.2 MB 10.4 MB/s eta 0:00:14\n",
      "   -------------------- ------------------ 148.2/284.2 MB 10.2 MB/s eta 0:00:14\n",
      "   -------------------- ------------------ 148.5/284.2 MB 10.2 MB/s eta 0:00:14\n",
      "   -------------------- ------------------ 148.8/284.2 MB 10.1 MB/s eta 0:00:14\n",
      "   -------------------- ------------------ 149.2/284.2 MB 10.1 MB/s eta 0:00:14\n",
      "   --------------------- ------------------ 149.5/284.2 MB 9.9 MB/s eta 0:00:14\n",
      "   --------------------- ------------------ 149.8/284.2 MB 9.9 MB/s eta 0:00:14\n",
      "   --------------------- ------------------ 150.1/284.2 MB 9.8 MB/s eta 0:00:14\n",
      "   --------------------- ------------------ 150.5/284.2 MB 9.6 MB/s eta 0:00:14\n",
      "   --------------------- ------------------ 150.9/284.2 MB 9.6 MB/s eta 0:00:14\n",
      "   --------------------- ------------------ 151.1/284.2 MB 9.5 MB/s eta 0:00:15\n",
      "   --------------------- ------------------ 151.3/284.2 MB 9.4 MB/s eta 0:00:15\n",
      "   --------------------- ------------------ 151.7/284.2 MB 9.2 MB/s eta 0:00:15\n",
      "   --------------------- ------------------ 152.0/284.2 MB 9.2 MB/s eta 0:00:15\n",
      "   --------------------- ------------------ 152.3/284.2 MB 9.0 MB/s eta 0:00:15\n",
      "   --------------------- ------------------ 152.6/284.2 MB 8.8 MB/s eta 0:00:15\n",
      "   --------------------- ------------------ 152.9/284.2 MB 9.6 MB/s eta 0:00:14\n",
      "   --------------------- ------------------ 153.3/284.2 MB 9.5 MB/s eta 0:00:14\n",
      "   --------------------- ------------------ 153.7/284.2 MB 9.5 MB/s eta 0:00:14\n",
      "   --------------------- ------------------ 154.0/284.2 MB 9.2 MB/s eta 0:00:15\n",
      "   --------------------- ------------------ 154.3/284.2 MB 9.2 MB/s eta 0:00:15\n",
      "   --------------------- ------------------ 154.6/284.2 MB 9.0 MB/s eta 0:00:15\n",
      "   --------------------- ------------------ 155.1/284.2 MB 9.1 MB/s eta 0:00:15\n",
      "   --------------------- ------------------ 155.5/284.2 MB 9.0 MB/s eta 0:00:15\n",
      "   --------------------- ------------------ 155.9/284.2 MB 9.0 MB/s eta 0:00:15\n",
      "   ---------------------- ----------------- 156.3/284.2 MB 9.0 MB/s eta 0:00:15\n",
      "   ---------------------- ----------------- 156.7/284.2 MB 9.0 MB/s eta 0:00:15\n",
      "   ---------------------- ----------------- 157.0/284.2 MB 8.8 MB/s eta 0:00:15\n",
      "   ---------------------- ----------------- 157.4/284.2 MB 8.8 MB/s eta 0:00:15\n",
      "   ---------------------- ----------------- 157.8/284.2 MB 8.8 MB/s eta 0:00:15\n",
      "   ---------------------- ----------------- 158.0/284.2 MB 8.8 MB/s eta 0:00:15\n",
      "   ---------------------- ----------------- 158.4/284.2 MB 8.7 MB/s eta 0:00:15\n",
      "   ---------------------- ----------------- 158.7/284.2 MB 8.7 MB/s eta 0:00:15\n",
      "   ---------------------- ----------------- 159.1/284.2 MB 8.7 MB/s eta 0:00:15\n",
      "   ---------------------- ----------------- 159.4/284.2 MB 8.7 MB/s eta 0:00:15\n",
      "   ---------------------- ----------------- 159.7/284.2 MB 8.7 MB/s eta 0:00:15\n",
      "   ---------------------- ----------------- 160.1/284.2 MB 8.8 MB/s eta 0:00:15\n",
      "   ---------------------- ----------------- 160.4/284.2 MB 8.7 MB/s eta 0:00:15\n",
      "   ---------------------- ----------------- 160.7/284.2 MB 8.7 MB/s eta 0:00:15\n",
      "   ---------------------- ----------------- 161.1/284.2 MB 8.7 MB/s eta 0:00:15\n",
      "   ---------------------- ----------------- 161.5/284.2 MB 8.8 MB/s eta 0:00:14\n",
      "   ---------------------- ----------------- 161.8/284.2 MB 8.8 MB/s eta 0:00:14\n",
      "   ---------------------- ----------------- 162.1/284.2 MB 9.0 MB/s eta 0:00:14\n",
      "   ---------------------- ----------------- 162.4/284.2 MB 8.8 MB/s eta 0:00:14\n",
      "   ---------------------- ----------------- 162.7/284.2 MB 9.0 MB/s eta 0:00:14\n",
      "   ---------------------- ----------------- 163.0/284.2 MB 8.8 MB/s eta 0:00:14\n",
      "   ---------------------- ----------------- 163.3/284.2 MB 8.8 MB/s eta 0:00:14\n",
      "   ----------------------- ---------------- 163.6/284.2 MB 8.7 MB/s eta 0:00:14\n",
      "   ----------------------- ---------------- 163.9/284.2 MB 8.8 MB/s eta 0:00:14\n",
      "   ----------------------- ---------------- 164.2/284.2 MB 8.7 MB/s eta 0:00:14\n",
      "   ----------------------- ---------------- 164.5/284.2 MB 8.7 MB/s eta 0:00:14\n",
      "   ----------------------- ---------------- 164.8/284.2 MB 8.6 MB/s eta 0:00:14\n",
      "   ----------------------- ---------------- 165.1/284.2 MB 8.6 MB/s eta 0:00:14\n",
      "   ----------------------- ---------------- 165.4/284.2 MB 8.5 MB/s eta 0:00:14\n",
      "   ----------------------- ---------------- 165.6/284.2 MB 8.4 MB/s eta 0:00:15\n",
      "   ----------------------- ---------------- 165.9/284.2 MB 8.3 MB/s eta 0:00:15\n",
      "   ----------------------- ---------------- 166.1/284.2 MB 8.2 MB/s eta 0:00:15\n",
      "   ----------------------- ---------------- 166.3/284.2 MB 8.1 MB/s eta 0:00:15\n",
      "   ----------------------- ---------------- 166.5/284.2 MB 8.0 MB/s eta 0:00:15\n",
      "   ----------------------- ---------------- 166.7/284.2 MB 7.8 MB/s eta 0:00:16\n",
      "   ----------------------- ---------------- 166.9/284.2 MB 7.8 MB/s eta 0:00:16\n",
      "   ----------------------- ---------------- 167.1/284.2 MB 7.6 MB/s eta 0:00:16\n",
      "   ----------------------- ---------------- 167.4/284.2 MB 7.6 MB/s eta 0:00:16\n",
      "   ----------------------- ---------------- 167.6/284.2 MB 7.5 MB/s eta 0:00:16\n",
      "   ----------------------- ---------------- 167.9/284.2 MB 7.4 MB/s eta 0:00:16\n",
      "   ----------------------- ---------------- 168.2/284.2 MB 7.4 MB/s eta 0:00:16\n",
      "   ----------------------- ---------------- 168.5/284.2 MB 7.4 MB/s eta 0:00:16\n",
      "   ----------------------- ---------------- 168.7/284.2 MB 7.4 MB/s eta 0:00:16\n",
      "   ----------------------- ---------------- 169.0/284.2 MB 7.4 MB/s eta 0:00:16\n",
      "   ----------------------- ---------------- 169.3/284.2 MB 7.4 MB/s eta 0:00:16\n",
      "   ----------------------- ---------------- 169.6/284.2 MB 7.3 MB/s eta 0:00:16\n",
      "   ----------------------- ---------------- 169.9/284.2 MB 7.3 MB/s eta 0:00:16\n",
      "   ----------------------- ---------------- 170.1/284.2 MB 7.2 MB/s eta 0:00:16\n",
      "   ----------------------- ---------------- 170.4/284.2 MB 7.2 MB/s eta 0:00:16\n",
      "   ------------------------ --------------- 170.7/284.2 MB 7.1 MB/s eta 0:00:16\n",
      "   ------------------------ --------------- 170.9/284.2 MB 7.1 MB/s eta 0:00:16\n",
      "   ------------------------ --------------- 171.2/284.2 MB 7.0 MB/s eta 0:00:17\n",
      "   ------------------------ --------------- 171.5/284.2 MB 7.0 MB/s eta 0:00:17\n",
      "   ------------------------ --------------- 171.7/284.2 MB 7.0 MB/s eta 0:00:17\n",
      "   ------------------------ --------------- 172.0/284.2 MB 6.9 MB/s eta 0:00:17\n",
      "   ------------------------ --------------- 172.2/284.2 MB 7.0 MB/s eta 0:00:17\n",
      "   ------------------------ --------------- 172.5/284.2 MB 6.8 MB/s eta 0:00:17\n",
      "   ------------------------ --------------- 172.7/284.2 MB 6.7 MB/s eta 0:00:17\n",
      "   ------------------------ --------------- 173.0/284.2 MB 6.8 MB/s eta 0:00:17\n",
      "   ------------------------ --------------- 173.2/284.2 MB 6.7 MB/s eta 0:00:17\n",
      "   ------------------------ --------------- 173.4/284.2 MB 6.7 MB/s eta 0:00:17\n",
      "   ------------------------ --------------- 173.7/284.2 MB 6.7 MB/s eta 0:00:17\n",
      "   ------------------------ --------------- 173.9/284.2 MB 6.6 MB/s eta 0:00:17\n",
      "   ------------------------ --------------- 174.2/284.2 MB 6.7 MB/s eta 0:00:17\n",
      "   ------------------------ --------------- 174.4/284.2 MB 6.6 MB/s eta 0:00:17\n",
      "   ------------------------ --------------- 174.7/284.2 MB 6.5 MB/s eta 0:00:17\n",
      "   ------------------------ --------------- 174.9/284.2 MB 6.5 MB/s eta 0:00:17\n",
      "   ------------------------ --------------- 175.2/284.2 MB 6.5 MB/s eta 0:00:17\n",
      "   ------------------------ --------------- 175.4/284.2 MB 6.5 MB/s eta 0:00:17\n",
      "   ------------------------ --------------- 175.7/284.2 MB 6.5 MB/s eta 0:00:17\n",
      "   ------------------------ --------------- 175.9/284.2 MB 6.5 MB/s eta 0:00:17\n",
      "   ------------------------ --------------- 176.2/284.2 MB 6.5 MB/s eta 0:00:17\n",
      "   ------------------------ --------------- 176.4/284.2 MB 6.5 MB/s eta 0:00:17\n",
      "   ------------------------ --------------- 176.7/284.2 MB 6.5 MB/s eta 0:00:17\n",
      "   ------------------------ --------------- 176.9/284.2 MB 6.6 MB/s eta 0:00:17\n",
      "   ------------------------ --------------- 177.1/284.2 MB 6.5 MB/s eta 0:00:17\n",
      "   ------------------------ --------------- 177.3/284.2 MB 6.6 MB/s eta 0:00:17\n",
      "   ------------------------ --------------- 177.6/284.2 MB 6.6 MB/s eta 0:00:17\n",
      "   ------------------------- -------------- 177.9/284.2 MB 6.7 MB/s eta 0:00:16\n",
      "   ------------------------- -------------- 178.1/284.2 MB 6.6 MB/s eta 0:00:17\n",
      "   ------------------------- -------------- 178.3/284.2 MB 6.5 MB/s eta 0:00:17\n",
      "   ------------------------- -------------- 178.5/284.2 MB 6.5 MB/s eta 0:00:17\n",
      "   ------------------------- -------------- 178.7/284.2 MB 6.5 MB/s eta 0:00:17\n",
      "   ------------------------- -------------- 178.8/284.2 MB 6.4 MB/s eta 0:00:17\n",
      "   ------------------------- -------------- 179.0/284.2 MB 6.4 MB/s eta 0:00:17\n",
      "   ------------------------- -------------- 179.1/284.2 MB 6.3 MB/s eta 0:00:17\n",
      "   ------------------------- -------------- 179.4/284.2 MB 6.2 MB/s eta 0:00:17\n",
      "   ------------------------- -------------- 179.5/284.2 MB 6.2 MB/s eta 0:00:17\n",
      "   ------------------------- -------------- 179.7/284.2 MB 6.1 MB/s eta 0:00:18\n",
      "   ------------------------- -------------- 179.9/284.2 MB 6.1 MB/s eta 0:00:18\n",
      "   ------------------------- -------------- 180.2/284.2 MB 6.1 MB/s eta 0:00:18\n",
      "   ------------------------- -------------- 180.4/284.2 MB 6.1 MB/s eta 0:00:18\n",
      "   ------------------------- -------------- 180.6/284.2 MB 6.1 MB/s eta 0:00:18\n",
      "   ------------------------- -------------- 180.8/284.2 MB 6.0 MB/s eta 0:00:18\n",
      "   ------------------------- -------------- 181.0/284.2 MB 6.0 MB/s eta 0:00:18\n",
      "   ------------------------- -------------- 181.2/284.2 MB 6.0 MB/s eta 0:00:18\n",
      "   ------------------------- -------------- 181.4/284.2 MB 6.0 MB/s eta 0:00:18\n",
      "   ------------------------- -------------- 181.6/284.2 MB 6.0 MB/s eta 0:00:18\n",
      "   ------------------------- -------------- 181.9/284.2 MB 6.0 MB/s eta 0:00:18\n",
      "   ------------------------- -------------- 182.1/284.2 MB 5.9 MB/s eta 0:00:18\n",
      "   ------------------------- -------------- 182.3/284.2 MB 5.9 MB/s eta 0:00:18\n",
      "   ------------------------- -------------- 182.6/284.2 MB 6.0 MB/s eta 0:00:18\n",
      "   ------------------------- -------------- 182.8/284.2 MB 5.9 MB/s eta 0:00:18\n",
      "   ------------------------- -------------- 183.0/284.2 MB 6.0 MB/s eta 0:00:17\n",
      "   ------------------------- -------------- 183.3/284.2 MB 6.0 MB/s eta 0:00:17\n",
      "   ------------------------- -------------- 183.5/284.2 MB 5.9 MB/s eta 0:00:18\n",
      "   ------------------------- -------------- 183.7/284.2 MB 6.0 MB/s eta 0:00:17\n",
      "   ------------------------- -------------- 184.0/284.2 MB 6.0 MB/s eta 0:00:17\n",
      "   ------------------------- -------------- 184.3/284.2 MB 6.0 MB/s eta 0:00:17\n",
      "   ------------------------- -------------- 184.5/284.2 MB 6.0 MB/s eta 0:00:17\n",
      "   -------------------------- ------------- 184.8/284.2 MB 6.0 MB/s eta 0:00:17\n",
      "   -------------------------- ------------- 185.1/284.2 MB 6.1 MB/s eta 0:00:17\n",
      "   -------------------------- ------------- 185.4/284.2 MB 6.1 MB/s eta 0:00:17\n",
      "   -------------------------- ------------- 185.7/284.2 MB 6.1 MB/s eta 0:00:17\n",
      "   -------------------------- ------------- 186.1/284.2 MB 6.2 MB/s eta 0:00:16\n",
      "   -------------------------- ------------- 186.4/284.2 MB 6.2 MB/s eta 0:00:16\n",
      "   -------------------------- ------------- 186.8/284.2 MB 6.4 MB/s eta 0:00:16\n",
      "   -------------------------- ------------- 187.1/284.2 MB 6.4 MB/s eta 0:00:16\n",
      "   -------------------------- ------------- 187.4/284.2 MB 6.5 MB/s eta 0:00:15\n",
      "   -------------------------- ------------- 187.8/284.2 MB 6.5 MB/s eta 0:00:15\n",
      "   -------------------------- ------------- 188.1/284.2 MB 6.6 MB/s eta 0:00:15\n",
      "   -------------------------- ------------- 188.4/284.2 MB 6.6 MB/s eta 0:00:15\n",
      "   -------------------------- ------------- 188.7/284.2 MB 6.8 MB/s eta 0:00:14\n",
      "   -------------------------- ------------- 189.1/284.2 MB 7.0 MB/s eta 0:00:14\n",
      "   -------------------------- ------------- 189.5/284.2 MB 7.3 MB/s eta 0:00:14\n",
      "   -------------------------- ------------- 189.8/284.2 MB 7.4 MB/s eta 0:00:13\n",
      "   -------------------------- ------------- 190.2/284.2 MB 7.7 MB/s eta 0:00:13\n",
      "   -------------------------- ------------- 190.6/284.2 MB 7.9 MB/s eta 0:00:12\n",
      "   -------------------------- ------------- 191.0/284.2 MB 8.0 MB/s eta 0:00:12\n",
      "   -------------------------- ------------- 191.4/284.2 MB 8.3 MB/s eta 0:00:12\n",
      "   --------------------------- ------------ 191.9/284.2 MB 8.6 MB/s eta 0:00:11\n",
      "   --------------------------- ------------ 192.4/284.2 MB 9.0 MB/s eta 0:00:11\n",
      "   --------------------------- ------------ 192.9/284.2 MB 9.2 MB/s eta 0:00:10\n",
      "   --------------------------- ------------ 193.3/284.2 MB 9.4 MB/s eta 0:00:10\n",
      "   --------------------------- ------------ 193.8/284.2 MB 9.8 MB/s eta 0:00:10\n",
      "   -------------------------- ------------ 194.2/284.2 MB 10.1 MB/s eta 0:00:09\n",
      "   -------------------------- ------------ 194.7/284.2 MB 10.4 MB/s eta 0:00:09\n",
      "   -------------------------- ------------ 195.1/284.2 MB 10.6 MB/s eta 0:00:09\n",
      "   -------------------------- ------------ 195.5/284.2 MB 10.6 MB/s eta 0:00:09\n",
      "   -------------------------- ------------ 195.8/284.2 MB 10.6 MB/s eta 0:00:09\n",
      "   -------------------------- ------------ 196.2/284.2 MB 10.6 MB/s eta 0:00:09\n",
      "   -------------------------- ------------ 196.5/284.2 MB 10.7 MB/s eta 0:00:09\n",
      "   --------------------------- ----------- 197.0/284.2 MB 10.7 MB/s eta 0:00:09\n",
      "   --------------------------- ----------- 197.3/284.2 MB 10.7 MB/s eta 0:00:09\n",
      "   --------------------------- ----------- 197.7/284.2 MB 10.7 MB/s eta 0:00:09\n",
      "   --------------------------- ----------- 198.1/284.2 MB 10.9 MB/s eta 0:00:08\n",
      "   --------------------------- ----------- 198.5/284.2 MB 10.7 MB/s eta 0:00:08\n",
      "   --------------------------- ----------- 198.8/284.2 MB 10.9 MB/s eta 0:00:08\n",
      "   --------------------------- ----------- 199.2/284.2 MB 10.7 MB/s eta 0:00:08\n",
      "   --------------------------- ----------- 199.5/284.2 MB 10.9 MB/s eta 0:00:08\n",
      "   --------------------------- ----------- 199.9/284.2 MB 10.9 MB/s eta 0:00:08\n",
      "   --------------------------- ----------- 200.2/284.2 MB 10.7 MB/s eta 0:00:08\n",
      "   --------------------------- ----------- 200.6/284.2 MB 10.7 MB/s eta 0:00:08\n",
      "   --------------------------- ----------- 200.9/284.2 MB 10.6 MB/s eta 0:00:08\n",
      "   --------------------------- ----------- 201.3/284.2 MB 10.7 MB/s eta 0:00:08\n",
      "   --------------------------- ----------- 201.7/284.2 MB 10.4 MB/s eta 0:00:08\n",
      "   --------------------------- ----------- 202.0/284.2 MB 10.4 MB/s eta 0:00:08\n",
      "   --------------------------- ----------- 202.4/284.2 MB 10.2 MB/s eta 0:00:08\n",
      "   --------------------------- ----------- 202.7/284.2 MB 10.1 MB/s eta 0:00:09\n",
      "   --------------------------- ----------- 203.0/284.2 MB 10.1 MB/s eta 0:00:09\n",
      "   ---------------------------- ----------- 203.4/284.2 MB 9.9 MB/s eta 0:00:09\n",
      "   ---------------------------- ----------- 203.7/284.2 MB 9.9 MB/s eta 0:00:09\n",
      "   ---------------------------- ----------- 204.0/284.2 MB 9.8 MB/s eta 0:00:09\n",
      "   ---------------------------- ----------- 204.3/284.2 MB 9.6 MB/s eta 0:00:09\n",
      "   ---------------------------- ----------- 204.6/284.2 MB 9.5 MB/s eta 0:00:09\n",
      "   ---------------------------- ----------- 205.0/284.2 MB 9.5 MB/s eta 0:00:09\n",
      "   ---------------------------- ----------- 205.3/284.2 MB 9.4 MB/s eta 0:00:09\n",
      "   ---------------------------- ----------- 205.5/284.2 MB 9.2 MB/s eta 0:00:09\n",
      "   ---------------------------- ----------- 205.7/284.2 MB 9.1 MB/s eta 0:00:09\n",
      "   ----------------------------- ---------- 206.0/284.2 MB 9.0 MB/s eta 0:00:09\n",
      "   ----------------------------- ---------- 206.3/284.2 MB 9.0 MB/s eta 0:00:09\n",
      "   ----------------------------- ---------- 206.5/284.2 MB 9.0 MB/s eta 0:00:09\n",
      "   ----------------------------- ---------- 206.8/284.2 MB 8.8 MB/s eta 0:00:09\n",
      "   ----------------------------- ---------- 207.0/284.2 MB 8.7 MB/s eta 0:00:09\n",
      "   ----------------------------- ---------- 207.3/284.2 MB 8.6 MB/s eta 0:00:09\n",
      "   ----------------------------- ---------- 207.5/284.2 MB 8.6 MB/s eta 0:00:09\n",
      "   ----------------------------- ---------- 207.8/284.2 MB 8.5 MB/s eta 0:00:09\n",
      "   ----------------------------- ---------- 208.1/284.2 MB 8.4 MB/s eta 0:00:10\n",
      "   ----------------------------- ---------- 208.3/284.2 MB 8.4 MB/s eta 0:00:10\n",
      "   ----------------------------- ---------- 208.6/284.2 MB 8.3 MB/s eta 0:00:10\n",
      "   ----------------------------- ---------- 208.9/284.2 MB 8.3 MB/s eta 0:00:10\n",
      "   ----------------------------- ---------- 209.2/284.2 MB 8.3 MB/s eta 0:00:10\n",
      "   ----------------------------- ---------- 209.5/284.2 MB 8.2 MB/s eta 0:00:10\n",
      "   ----------------------------- ---------- 209.8/284.2 MB 8.2 MB/s eta 0:00:10\n",
      "   ----------------------------- ---------- 210.0/284.2 MB 8.2 MB/s eta 0:00:10\n",
      "   ----------------------------- ---------- 210.2/284.2 MB 8.1 MB/s eta 0:00:10\n",
      "   ----------------------------- ---------- 210.5/284.2 MB 8.0 MB/s eta 0:00:10\n",
      "   ----------------------------- ---------- 210.7/284.2 MB 8.0 MB/s eta 0:00:10\n",
      "   ----------------------------- ---------- 211.0/284.2 MB 8.0 MB/s eta 0:00:10\n",
      "   ----------------------------- ---------- 211.3/284.2 MB 7.8 MB/s eta 0:00:10\n",
      "   ----------------------------- ---------- 211.5/284.2 MB 7.8 MB/s eta 0:00:10\n",
      "   ----------------------------- ---------- 211.8/284.2 MB 7.8 MB/s eta 0:00:10\n",
      "   ----------------------------- ---------- 212.0/284.2 MB 7.6 MB/s eta 0:00:10\n",
      "   ----------------------------- ---------- 212.2/284.2 MB 7.5 MB/s eta 0:00:10\n",
      "   ----------------------------- ---------- 212.3/284.2 MB 7.5 MB/s eta 0:00:10\n",
      "   ----------------------------- ---------- 212.5/284.2 MB 7.4 MB/s eta 0:00:10\n",
      "   ----------------------------- ---------- 212.6/284.2 MB 7.3 MB/s eta 0:00:10\n",
      "   ----------------------------- ---------- 212.8/284.2 MB 7.2 MB/s eta 0:00:10\n",
      "   ----------------------------- ---------- 213.0/284.2 MB 7.0 MB/s eta 0:00:11\n",
      "   ------------------------------ --------- 213.2/284.2 MB 7.0 MB/s eta 0:00:11\n",
      "   ------------------------------ --------- 213.3/284.2 MB 7.0 MB/s eta 0:00:11\n",
      "   ------------------------------ --------- 213.5/284.2 MB 6.9 MB/s eta 0:00:11\n",
      "   ------------------------------ --------- 213.7/284.2 MB 6.8 MB/s eta 0:00:11\n",
      "   ------------------------------ --------- 213.9/284.2 MB 6.7 MB/s eta 0:00:11\n",
      "   ------------------------------ --------- 214.1/284.2 MB 6.7 MB/s eta 0:00:11\n",
      "   ------------------------------ --------- 214.2/284.2 MB 6.5 MB/s eta 0:00:11\n",
      "   ------------------------------ --------- 214.4/284.2 MB 6.5 MB/s eta 0:00:11\n",
      "   ------------------------------ --------- 214.6/284.2 MB 6.5 MB/s eta 0:00:11\n",
      "   ------------------------------ --------- 214.8/284.2 MB 6.4 MB/s eta 0:00:11\n",
      "   ------------------------------ --------- 215.1/284.2 MB 6.4 MB/s eta 0:00:11\n",
      "   ------------------------------ --------- 215.3/284.2 MB 6.4 MB/s eta 0:00:11\n",
      "   ------------------------------ --------- 215.5/284.2 MB 6.3 MB/s eta 0:00:11\n",
      "   ------------------------------ --------- 215.7/284.2 MB 6.2 MB/s eta 0:00:11\n",
      "   ------------------------------ --------- 215.9/284.2 MB 6.2 MB/s eta 0:00:11\n",
      "   ------------------------------ --------- 216.1/284.2 MB 6.2 MB/s eta 0:00:12\n",
      "   ------------------------------ --------- 216.3/284.2 MB 6.2 MB/s eta 0:00:11\n",
      "   ------------------------------ --------- 216.4/284.2 MB 6.1 MB/s eta 0:00:12\n",
      "   ------------------------------ --------- 216.6/284.2 MB 6.1 MB/s eta 0:00:12\n",
      "   ------------------------------ --------- 216.8/284.2 MB 6.1 MB/s eta 0:00:12\n",
      "   ------------------------------ --------- 217.1/284.2 MB 6.1 MB/s eta 0:00:11\n",
      "   ------------------------------ --------- 217.3/284.2 MB 6.1 MB/s eta 0:00:12\n",
      "   ------------------------------ --------- 217.5/284.2 MB 6.1 MB/s eta 0:00:11\n",
      "   ------------------------------ --------- 217.8/284.2 MB 6.0 MB/s eta 0:00:12\n",
      "   ------------------------------ --------- 218.0/284.2 MB 6.0 MB/s eta 0:00:12\n",
      "   ------------------------------ --------- 218.2/284.2 MB 6.0 MB/s eta 0:00:11\n",
      "   ------------------------------ --------- 218.5/284.2 MB 6.0 MB/s eta 0:00:11\n",
      "   ------------------------------ --------- 218.8/284.2 MB 6.0 MB/s eta 0:00:11\n",
      "   ------------------------------ --------- 219.0/284.2 MB 6.0 MB/s eta 0:00:11\n",
      "   ------------------------------ --------- 219.3/284.2 MB 6.0 MB/s eta 0:00:11\n",
      "   ------------------------------ --------- 219.6/284.2 MB 6.0 MB/s eta 0:00:11\n",
      "   ------------------------------ --------- 219.9/284.2 MB 6.0 MB/s eta 0:00:11\n",
      "   ------------------------------ --------- 220.2/284.2 MB 6.0 MB/s eta 0:00:11\n",
      "   ------------------------------- -------- 220.5/284.2 MB 6.0 MB/s eta 0:00:11\n",
      "   ------------------------------- -------- 220.9/284.2 MB 6.1 MB/s eta 0:00:11\n",
      "   ------------------------------- -------- 221.3/284.2 MB 6.2 MB/s eta 0:00:11\n",
      "   ------------------------------- -------- 221.7/284.2 MB 6.2 MB/s eta 0:00:11\n",
      "   ------------------------------- -------- 222.1/284.2 MB 6.3 MB/s eta 0:00:10\n",
      "   ------------------------------- -------- 222.5/284.2 MB 6.5 MB/s eta 0:00:10\n",
      "   ------------------------------- -------- 222.8/284.2 MB 6.6 MB/s eta 0:00:10\n",
      "   ------------------------------- -------- 223.2/284.2 MB 6.8 MB/s eta 0:00:09\n",
      "   ------------------------------- -------- 223.5/284.2 MB 7.0 MB/s eta 0:00:09\n",
      "   ------------------------------- -------- 223.9/284.2 MB 7.1 MB/s eta 0:00:09\n",
      "   ------------------------------- -------- 224.2/284.2 MB 7.4 MB/s eta 0:00:09\n",
      "   ------------------------------- -------- 224.6/284.2 MB 7.6 MB/s eta 0:00:08\n",
      "   ------------------------------- -------- 225.0/284.2 MB 7.8 MB/s eta 0:00:08\n",
      "   ------------------------------- -------- 225.4/284.2 MB 7.9 MB/s eta 0:00:08\n",
      "   ------------------------------- -------- 225.8/284.2 MB 8.2 MB/s eta 0:00:08\n",
      "   ------------------------------- -------- 226.2/284.2 MB 8.4 MB/s eta 0:00:07\n",
      "   ------------------------------- -------- 226.5/284.2 MB 8.6 MB/s eta 0:00:07\n",
      "   ------------------------------- -------- 226.9/284.2 MB 8.8 MB/s eta 0:00:07\n",
      "   ------------------------------- -------- 227.2/284.2 MB 9.0 MB/s eta 0:00:07\n",
      "   -------------------------------- ------- 227.5/284.2 MB 9.0 MB/s eta 0:00:07\n",
      "   -------------------------------- ------- 227.8/284.2 MB 9.2 MB/s eta 0:00:07\n",
      "   -------------------------------- ------- 228.1/284.2 MB 9.4 MB/s eta 0:00:06\n",
      "   -------------------------------- ------- 228.4/284.2 MB 9.4 MB/s eta 0:00:06\n",
      "   -------------------------------- ------- 228.8/284.2 MB 9.4 MB/s eta 0:00:06\n",
      "   -------------------------------- ------- 229.1/284.2 MB 9.6 MB/s eta 0:00:06\n",
      "   -------------------------------- ------- 229.5/284.2 MB 9.6 MB/s eta 0:00:06\n",
      "   -------------------------------- ------- 229.8/284.2 MB 9.6 MB/s eta 0:00:06\n",
      "   -------------------------------- ------- 230.2/284.2 MB 9.8 MB/s eta 0:00:06\n",
      "   -------------------------------- ------- 230.5/284.2 MB 9.9 MB/s eta 0:00:06\n",
      "   -------------------------------- ------- 230.9/284.2 MB 9.9 MB/s eta 0:00:06\n",
      "   -------------------------------- ------- 231.2/284.2 MB 9.8 MB/s eta 0:00:06\n",
      "   -------------------------------- ------- 231.6/284.2 MB 9.8 MB/s eta 0:00:06\n",
      "   -------------------------------- ------- 231.9/284.2 MB 9.6 MB/s eta 0:00:06\n",
      "   -------------------------------- ------- 232.3/284.2 MB 9.8 MB/s eta 0:00:06\n",
      "   -------------------------------- ------- 232.6/284.2 MB 9.8 MB/s eta 0:00:06\n",
      "   -------------------------------- ------- 232.9/284.2 MB 9.6 MB/s eta 0:00:06\n",
      "   -------------------------------- ------- 233.2/284.2 MB 9.6 MB/s eta 0:00:06\n",
      "   -------------------------------- ------- 233.5/284.2 MB 9.6 MB/s eta 0:00:06\n",
      "   -------------------------------- ------- 233.8/284.2 MB 9.5 MB/s eta 0:00:06\n",
      "   -------------------------------- ------- 234.2/284.2 MB 9.5 MB/s eta 0:00:06\n",
      "   --------------------------------- ------ 234.5/284.2 MB 9.5 MB/s eta 0:00:06\n",
      "   --------------------------------- ------ 234.8/284.2 MB 9.4 MB/s eta 0:00:06\n",
      "   --------------------------------- ------ 235.2/284.2 MB 9.4 MB/s eta 0:00:06\n",
      "   --------------------------------- ------ 235.6/284.2 MB 9.5 MB/s eta 0:00:06\n",
      "   --------------------------------- ------ 236.0/284.2 MB 9.4 MB/s eta 0:00:06\n",
      "   --------------------------------- ------ 236.3/284.2 MB 9.4 MB/s eta 0:00:06\n",
      "   --------------------------------- ------ 236.6/284.2 MB 9.4 MB/s eta 0:00:06\n",
      "   --------------------------------- ------ 237.0/284.2 MB 9.2 MB/s eta 0:00:06\n",
      "   --------------------------------- ------ 237.2/284.2 MB 9.2 MB/s eta 0:00:06\n",
      "   --------------------------------- ------ 237.5/284.2 MB 9.2 MB/s eta 0:00:06\n",
      "   --------------------------------- ------ 237.8/284.2 MB 9.2 MB/s eta 0:00:06\n",
      "   --------------------------------- ------ 238.1/284.2 MB 9.2 MB/s eta 0:00:05\n",
      "   --------------------------------- ------ 238.4/284.2 MB 9.2 MB/s eta 0:00:05\n",
      "   --------------------------------- ------ 238.7/284.2 MB 9.2 MB/s eta 0:00:05\n",
      "   --------------------------------- ------ 239.0/284.2 MB 9.1 MB/s eta 0:00:05\n",
      "   --------------------------------- ------ 239.3/284.2 MB 9.1 MB/s eta 0:00:05\n",
      "   --------------------------------- ------ 239.7/284.2 MB 9.1 MB/s eta 0:00:05\n",
      "   --------------------------------- ------ 240.0/284.2 MB 9.1 MB/s eta 0:00:05\n",
      "   --------------------------------- ------ 240.3/284.2 MB 9.1 MB/s eta 0:00:05\n",
      "   --------------------------------- ------ 240.6/284.2 MB 9.1 MB/s eta 0:00:05\n",
      "   --------------------------------- ------ 240.9/284.2 MB 9.0 MB/s eta 0:00:05\n",
      "   --------------------------------- ------ 241.1/284.2 MB 8.8 MB/s eta 0:00:05\n",
      "   --------------------------------- ------ 241.4/284.2 MB 8.8 MB/s eta 0:00:05\n",
      "   ---------------------------------- ----- 241.7/284.2 MB 8.8 MB/s eta 0:00:05\n",
      "   ---------------------------------- ----- 241.9/284.2 MB 8.6 MB/s eta 0:00:05\n",
      "   ---------------------------------- ----- 242.2/284.2 MB 8.6 MB/s eta 0:00:05\n",
      "   ---------------------------------- ----- 242.5/284.2 MB 8.6 MB/s eta 0:00:05\n",
      "   ---------------------------------- ----- 242.7/284.2 MB 8.5 MB/s eta 0:00:05\n",
      "   ---------------------------------- ----- 243.1/284.2 MB 8.5 MB/s eta 0:00:05\n",
      "   ---------------------------------- ----- 243.3/284.2 MB 8.5 MB/s eta 0:00:05\n",
      "   ---------------------------------- ----- 243.6/284.2 MB 8.5 MB/s eta 0:00:05\n",
      "   ---------------------------------- ----- 243.8/284.2 MB 8.4 MB/s eta 0:00:05\n",
      "   ---------------------------------- ----- 244.1/284.2 MB 8.4 MB/s eta 0:00:05\n",
      "   ---------------------------------- ----- 244.3/284.2 MB 8.3 MB/s eta 0:00:05\n",
      "   ---------------------------------- ----- 244.6/284.2 MB 8.2 MB/s eta 0:00:05\n",
      "   ---------------------------------- ----- 244.8/284.2 MB 8.2 MB/s eta 0:00:05\n",
      "   ---------------------------------- ----- 245.1/284.2 MB 8.2 MB/s eta 0:00:05\n",
      "   ---------------------------------- ----- 245.4/284.2 MB 8.0 MB/s eta 0:00:05\n",
      "   ---------------------------------- ----- 245.6/284.2 MB 8.0 MB/s eta 0:00:05\n",
      "   ---------------------------------- ----- 245.9/284.2 MB 8.0 MB/s eta 0:00:05\n",
      "   ---------------------------------- ----- 246.2/284.2 MB 7.9 MB/s eta 0:00:05\n",
      "   ---------------------------------- ----- 246.4/284.2 MB 7.8 MB/s eta 0:00:05\n",
      "   ---------------------------------- ----- 246.7/284.2 MB 7.8 MB/s eta 0:00:05\n",
      "   ---------------------------------- ----- 246.9/284.2 MB 7.7 MB/s eta 0:00:05\n",
      "   ---------------------------------- ----- 247.1/284.2 MB 7.6 MB/s eta 0:00:05\n",
      "   ---------------------------------- ----- 247.4/284.2 MB 7.6 MB/s eta 0:00:05\n",
      "   ---------------------------------- ----- 247.6/284.2 MB 7.6 MB/s eta 0:00:05\n",
      "   ---------------------------------- ----- 247.9/284.2 MB 7.5 MB/s eta 0:00:05\n",
      "   ---------------------------------- ----- 248.1/284.2 MB 7.5 MB/s eta 0:00:05\n",
      "   ---------------------------------- ----- 248.4/284.2 MB 7.5 MB/s eta 0:00:05\n",
      "   ----------------------------------- ---- 248.7/284.2 MB 7.4 MB/s eta 0:00:05\n",
      "   ----------------------------------- ---- 249.0/284.2 MB 7.5 MB/s eta 0:00:05\n",
      "   ----------------------------------- ---- 249.4/284.2 MB 7.6 MB/s eta 0:00:05\n",
      "   ----------------------------------- ---- 249.7/284.2 MB 7.6 MB/s eta 0:00:05\n",
      "   ----------------------------------- ---- 250.0/284.2 MB 7.5 MB/s eta 0:00:05\n",
      "   ----------------------------------- ---- 250.4/284.2 MB 7.5 MB/s eta 0:00:05\n",
      "   ----------------------------------- ---- 250.7/284.2 MB 7.6 MB/s eta 0:00:05\n",
      "   ----------------------------------- ---- 251.0/284.2 MB 7.5 MB/s eta 0:00:05\n",
      "   ----------------------------------- ---- 251.4/284.2 MB 7.7 MB/s eta 0:00:05\n",
      "   ----------------------------------- ---- 251.7/284.2 MB 7.7 MB/s eta 0:00:05\n",
      "   ----------------------------------- ---- 252.1/284.2 MB 7.8 MB/s eta 0:00:05\n",
      "   ----------------------------------- ---- 252.4/284.2 MB 7.9 MB/s eta 0:00:05\n",
      "   ----------------------------------- ---- 252.8/284.2 MB 8.0 MB/s eta 0:00:04\n",
      "   ----------------------------------- ---- 253.1/284.2 MB 8.0 MB/s eta 0:00:04\n",
      "   ----------------------------------- ---- 253.5/284.2 MB 8.1 MB/s eta 0:00:04\n",
      "   ----------------------------------- ---- 253.9/284.2 MB 8.2 MB/s eta 0:00:04\n",
      "   ----------------------------------- ---- 254.2/284.2 MB 8.3 MB/s eta 0:00:04\n",
      "   ----------------------------------- ---- 254.5/284.2 MB 8.3 MB/s eta 0:00:04\n",
      "   ----------------------------------- ---- 254.9/284.2 MB 8.4 MB/s eta 0:00:04\n",
      "   ----------------------------------- ---- 255.2/284.2 MB 8.5 MB/s eta 0:00:04\n",
      "   ----------------------------------- ---- 255.5/284.2 MB 8.5 MB/s eta 0:00:04\n",
      "   ------------------------------------ --- 255.8/284.2 MB 8.5 MB/s eta 0:00:04\n",
      "   ------------------------------------ --- 256.1/284.2 MB 8.6 MB/s eta 0:00:04\n",
      "   ------------------------------------ --- 256.5/284.2 MB 8.6 MB/s eta 0:00:04\n",
      "   ------------------------------------ --- 256.8/284.2 MB 8.7 MB/s eta 0:00:04\n",
      "   ------------------------------------ --- 257.1/284.2 MB 8.8 MB/s eta 0:00:04\n",
      "   ------------------------------------ --- 257.5/284.2 MB 9.1 MB/s eta 0:00:03\n",
      "   ------------------------------------ --- 257.8/284.2 MB 9.1 MB/s eta 0:00:03\n",
      "   ------------------------------------ --- 258.2/284.2 MB 9.2 MB/s eta 0:00:03\n",
      "   ------------------------------------ --- 258.6/284.2 MB 9.5 MB/s eta 0:00:03\n",
      "   ------------------------------------ --- 259.0/284.2 MB 9.5 MB/s eta 0:00:03\n",
      "   ------------------------------------ --- 259.4/284.2 MB 9.6 MB/s eta 0:00:03\n",
      "   ------------------------------------ --- 259.9/284.2 MB 9.8 MB/s eta 0:00:03\n",
      "   ------------------------------------ --- 260.3/284.2 MB 9.8 MB/s eta 0:00:03\n",
      "   ------------------------------------ --- 260.7/284.2 MB 9.9 MB/s eta 0:00:03\n",
      "   ----------------------------------- --- 261.1/284.2 MB 10.1 MB/s eta 0:00:03\n",
      "   ----------------------------------- --- 261.5/284.2 MB 10.2 MB/s eta 0:00:03\n",
      "   ----------------------------------- --- 261.9/284.2 MB 10.1 MB/s eta 0:00:03\n",
      "   ----------------------------------- --- 262.3/284.2 MB 10.2 MB/s eta 0:00:03\n",
      "   ------------------------------------ -- 262.7/284.2 MB 10.4 MB/s eta 0:00:03\n",
      "   ------------------------------------ -- 263.2/284.2 MB 10.4 MB/s eta 0:00:03\n",
      "   ------------------------------------ -- 263.6/284.2 MB 10.4 MB/s eta 0:00:02\n",
      "   ------------------------------------ -- 264.0/284.2 MB 10.4 MB/s eta 0:00:02\n",
      "   ------------------------------------ -- 264.3/284.2 MB 10.2 MB/s eta 0:00:02\n",
      "   ------------------------------------ -- 264.6/284.2 MB 10.2 MB/s eta 0:00:02\n",
      "   ------------------------------------ -- 264.9/284.2 MB 10.2 MB/s eta 0:00:02\n",
      "   ------------------------------------ -- 265.1/284.2 MB 10.1 MB/s eta 0:00:02\n",
      "   ------------------------------------ -- 265.4/284.2 MB 10.1 MB/s eta 0:00:02\n",
      "   ------------------------------------ -- 265.7/284.2 MB 10.1 MB/s eta 0:00:02\n",
      "   ------------------------------------- -- 266.0/284.2 MB 9.9 MB/s eta 0:00:02\n",
      "   ------------------------------------- -- 266.2/284.2 MB 9.9 MB/s eta 0:00:02\n",
      "   ------------------------------------- -- 266.4/284.2 MB 9.9 MB/s eta 0:00:02\n",
      "   ------------------------------------- -- 266.6/284.2 MB 9.6 MB/s eta 0:00:02\n",
      "   ------------------------------------- -- 266.9/284.2 MB 9.6 MB/s eta 0:00:02\n",
      "   ------------------------------------- -- 267.1/284.2 MB 9.6 MB/s eta 0:00:02\n",
      "   ------------------------------------- -- 267.4/284.2 MB 9.4 MB/s eta 0:00:02\n",
      "   ------------------------------------- -- 267.7/284.2 MB 9.4 MB/s eta 0:00:02\n",
      "   ------------------------------------- -- 267.9/284.2 MB 9.2 MB/s eta 0:00:02\n",
      "   ------------------------------------- -- 268.2/284.2 MB 9.1 MB/s eta 0:00:02\n",
      "   ------------------------------------- -- 268.4/284.2 MB 9.1 MB/s eta 0:00:02\n",
      "   ------------------------------------- -- 268.6/284.2 MB 9.0 MB/s eta 0:00:02\n",
      "   ------------------------------------- -- 268.8/284.2 MB 8.8 MB/s eta 0:00:02\n",
      "   ------------------------------------- -- 269.1/284.2 MB 8.7 MB/s eta 0:00:02\n",
      "   ------------------------------------- -- 269.3/284.2 MB 8.6 MB/s eta 0:00:02\n",
      "   ------------------------------------- -- 269.6/284.2 MB 8.5 MB/s eta 0:00:02\n",
      "   ------------------------------------- -- 269.8/284.2 MB 8.4 MB/s eta 0:00:02\n",
      "   -------------------------------------- - 270.0/284.2 MB 8.3 MB/s eta 0:00:02\n",
      "   -------------------------------------- - 270.2/284.2 MB 8.2 MB/s eta 0:00:02\n",
      "   -------------------------------------- - 270.4/284.2 MB 8.0 MB/s eta 0:00:02\n",
      "   -------------------------------------- - 270.6/284.2 MB 7.9 MB/s eta 0:00:02\n",
      "   -------------------------------------- - 270.9/284.2 MB 7.9 MB/s eta 0:00:02\n",
      "   -------------------------------------- - 271.1/284.2 MB 7.8 MB/s eta 0:00:02\n",
      "   -------------------------------------- - 271.3/284.2 MB 7.6 MB/s eta 0:00:02\n",
      "   -------------------------------------- - 271.6/284.2 MB 7.6 MB/s eta 0:00:02\n",
      "   -------------------------------------- - 271.9/284.2 MB 7.4 MB/s eta 0:00:02\n",
      "   -------------------------------------- - 272.1/284.2 MB 7.4 MB/s eta 0:00:02\n",
      "   -------------------------------------- - 272.4/284.2 MB 7.4 MB/s eta 0:00:02\n",
      "   -------------------------------------- - 272.7/284.2 MB 7.4 MB/s eta 0:00:02\n",
      "   -------------------------------------- - 273.0/284.2 MB 7.3 MB/s eta 0:00:02\n",
      "   -------------------------------------- - 273.4/284.2 MB 7.2 MB/s eta 0:00:02\n",
      "   -------------------------------------- - 273.7/284.2 MB 7.2 MB/s eta 0:00:02\n",
      "   -------------------------------------- - 274.1/284.2 MB 7.1 MB/s eta 0:00:02\n",
      "   -------------------------------------- - 274.4/284.2 MB 7.1 MB/s eta 0:00:02\n",
      "   -------------------------------------- - 274.7/284.2 MB 7.2 MB/s eta 0:00:02\n",
      "   -------------------------------------- - 275.1/284.2 MB 7.3 MB/s eta 0:00:02\n",
      "   -------------------------------------- - 275.4/284.2 MB 7.4 MB/s eta 0:00:02\n",
      "   -------------------------------------- - 275.8/284.2 MB 7.4 MB/s eta 0:00:02\n",
      "   -------------------------------------- - 276.1/284.2 MB 7.4 MB/s eta 0:00:02\n",
      "   -------------------------------------- - 276.5/284.2 MB 7.5 MB/s eta 0:00:02\n",
      "   -------------------------------------- - 276.9/284.2 MB 7.6 MB/s eta 0:00:01\n",
      "   ---------------------------------------  277.2/284.2 MB 7.8 MB/s eta 0:00:01\n",
      "   ---------------------------------------  277.6/284.2 MB 7.8 MB/s eta 0:00:01\n",
      "   ---------------------------------------  278.0/284.2 MB 8.0 MB/s eta 0:00:01\n",
      "   ---------------------------------------  278.4/284.2 MB 8.2 MB/s eta 0:00:01\n",
      "   ---------------------------------------  278.7/284.2 MB 8.3 MB/s eta 0:00:01\n",
      "   ---------------------------------------  279.1/284.2 MB 8.4 MB/s eta 0:00:01\n",
      "   ---------------------------------------  279.5/284.2 MB 8.6 MB/s eta 0:00:01\n",
      "   ---------------------------------------  279.9/284.2 MB 8.8 MB/s eta 0:00:01\n",
      "   ---------------------------------------  280.3/284.2 MB 9.0 MB/s eta 0:00:01\n",
      "   ---------------------------------------  280.7/284.2 MB 9.2 MB/s eta 0:00:01\n",
      "   ---------------------------------------  281.1/284.2 MB 9.5 MB/s eta 0:00:01\n",
      "   ---------------------------------------  281.5/284.2 MB 9.8 MB/s eta 0:00:01\n",
      "   ---------------------------------------  281.9/284.2 MB 9.9 MB/s eta 0:00:01\n",
      "   --------------------------------------  282.3/284.2 MB 10.1 MB/s eta 0:00:01\n",
      "   --------------------------------------  282.6/284.2 MB 10.2 MB/s eta 0:00:01\n",
      "   --------------------------------------  282.9/284.2 MB 10.1 MB/s eta 0:00:01\n",
      "   --------------------------------------  283.4/284.2 MB 10.2 MB/s eta 0:00:01\n",
      "   --------------------------------------  283.8/284.2 MB 10.2 MB/s eta 0:00:01\n",
      "   --------------------------------------  284.1/284.2 MB 10.2 MB/s eta 0:00:01\n",
      "   --------------------------------------  284.2/284.2 MB 10.2 MB/s eta 0:00:01\n",
      "   --------------------------------------  284.2/284.2 MB 10.2 MB/s eta 0:00:01\n",
      "   --------------------------------------  284.2/284.2 MB 10.2 MB/s eta 0:00:01\n",
      "   --------------------------------------  284.2/284.2 MB 10.2 MB/s eta 0:00:01\n",
      "   --------------------------------------  284.2/284.2 MB 10.2 MB/s eta 0:00:01\n",
      "   --------------------------------------  284.2/284.2 MB 10.2 MB/s eta 0:00:01\n",
      "   --------------------------------------  284.2/284.2 MB 10.2 MB/s eta 0:00:01\n",
      "   --------------------------------------  284.2/284.2 MB 10.2 MB/s eta 0:00:01\n",
      "   --------------------------------------  284.2/284.2 MB 10.2 MB/s eta 0:00:01\n",
      "   --------------------------------------  284.2/284.2 MB 10.2 MB/s eta 0:00:01\n",
      "   --------------------------------------  284.2/284.2 MB 10.2 MB/s eta 0:00:01\n",
      "   --------------------------------------  284.2/284.2 MB 10.2 MB/s eta 0:00:01\n",
      "   --------------------------------------  284.2/284.2 MB 10.2 MB/s eta 0:00:01\n",
      "   ---------------------------------------- 284.2/284.2 MB 6.2 MB/s eta 0:00:00\n",
      "Downloading ml_dtypes-0.2.0-cp311-cp311-win_amd64.whl (938 kB)\n",
      "   ---------------------------------------- 0.0/938.7 kB ? eta -:--:--\n",
      "   -------- ------------------------------- 204.8/938.7 kB 6.1 MB/s eta 0:00:01\n",
      "   ---------------- ----------------------- 389.1/938.7 kB 6.0 MB/s eta 0:00:01\n",
      "   ------------------------- -------------- 593.9/938.7 kB 5.3 MB/s eta 0:00:01\n",
      "   ---------------------------------- ----- 809.0/938.7 kB 5.7 MB/s eta 0:00:01\n",
      "   ---------------------------------------  931.8/938.7 kB 5.9 MB/s eta 0:00:01\n",
      "   ---------------------------------------- 938.7/938.7 kB 4.9 MB/s eta 0:00:00\n",
      "Downloading absl_py-2.0.0-py3-none-any.whl (130 kB)\n",
      "   ---------------------------------------- 0.0/130.2 kB ? eta -:--:--\n",
      "   ------------------------------------- -- 122.9/130.2 kB 7.0 MB/s eta 0:00:01\n",
      "   ---------------------------------------- 130.2/130.2 kB 3.7 MB/s eta 0:00:00\n",
      "Downloading flatbuffers-23.5.26-py2.py3-none-any.whl (26 kB)\n",
      "Downloading grpcio-1.59.0-cp311-cp311-win_amd64.whl (3.7 MB)\n",
      "   ---------------------------------------- 0.0/3.7 MB ? eta -:--:--\n",
      "   -- ------------------------------------- 0.2/3.7 MB 6.9 MB/s eta 0:00:01\n",
      "   ---- ----------------------------------- 0.5/3.7 MB 7.0 MB/s eta 0:00:01\n",
      "   ------- -------------------------------- 0.7/3.7 MB 7.0 MB/s eta 0:00:01\n",
      "   --------- ------------------------------ 0.8/3.7 MB 5.8 MB/s eta 0:00:01\n",
      "   ----------- ---------------------------- 1.0/3.7 MB 5.9 MB/s eta 0:00:01\n",
      "   ------------ --------------------------- 1.2/3.7 MB 5.8 MB/s eta 0:00:01\n",
      "   -------------- ------------------------- 1.4/3.7 MB 5.4 MB/s eta 0:00:01\n",
      "   ---------------- ----------------------- 1.5/3.7 MB 5.5 MB/s eta 0:00:01\n",
      "   ------------------ --------------------- 1.7/3.7 MB 5.4 MB/s eta 0:00:01\n",
      "   -------------------- ------------------- 1.9/3.7 MB 5.2 MB/s eta 0:00:01\n",
      "   ---------------------- ----------------- 2.1/3.7 MB 5.3 MB/s eta 0:00:01\n",
      "   ------------------------- -------------- 2.3/3.7 MB 5.4 MB/s eta 0:00:01\n",
      "   --------------------------- ------------ 2.5/3.7 MB 5.3 MB/s eta 0:00:01\n",
      "   ----------------------------- ---------- 2.7/3.7 MB 5.3 MB/s eta 0:00:01\n",
      "   ------------------------------- -------- 2.9/3.7 MB 5.4 MB/s eta 0:00:01\n",
      "   --------------------------------- ------ 3.1/3.7 MB 5.5 MB/s eta 0:00:01\n",
      "   ----------------------------------- ---- 3.3/3.7 MB 5.4 MB/s eta 0:00:01\n",
      "   -------------------------------------- - 3.5/3.7 MB 5.4 MB/s eta 0:00:01\n",
      "   ---------------------------------------  3.7/3.7 MB 5.4 MB/s eta 0:00:01\n",
      "   ---------------------------------------- 3.7/3.7 MB 5.2 MB/s eta 0:00:00\n",
      "Downloading keras-2.14.0-py3-none-any.whl (1.7 MB)\n",
      "   ---------------------------------------- 0.0/1.7 MB ? eta -:--:--\n",
      "   ---- ----------------------------------- 0.2/1.7 MB 6.3 MB/s eta 0:00:01\n",
      "   --------- ------------------------------ 0.4/1.7 MB 6.3 MB/s eta 0:00:01\n",
      "   ------------- -------------------------- 0.6/1.7 MB 5.4 MB/s eta 0:00:01\n",
      "   ------------------ --------------------- 0.8/1.7 MB 5.5 MB/s eta 0:00:01\n",
      "   ----------------------- ---------------- 1.0/1.7 MB 5.7 MB/s eta 0:00:01\n",
      "   ---------------------------- ----------- 1.2/1.7 MB 5.5 MB/s eta 0:00:01\n",
      "   --------------------------------- ------ 1.4/1.7 MB 5.7 MB/s eta 0:00:01\n",
      "   -------------------------------------- - 1.6/1.7 MB 5.5 MB/s eta 0:00:01\n",
      "   ---------------------------------------  1.7/1.7 MB 5.7 MB/s eta 0:00:01\n",
      "   ---------------------------------------- 1.7/1.7 MB 5.2 MB/s eta 0:00:00\n",
      "Downloading libclang-16.0.6-py2.py3-none-win_amd64.whl (24.4 MB)\n",
      "   ---------------------------------------- 0.0/24.4 MB ? eta -:--:--\n",
      "   ---------------------------------------- 0.3/24.4 MB 7.9 MB/s eta 0:00:04\n",
      "    --------------------------------------- 0.5/24.4 MB 6.7 MB/s eta 0:00:04\n",
      "   - -------------------------------------- 0.8/24.4 MB 7.0 MB/s eta 0:00:04\n",
      "   - -------------------------------------- 1.0/24.4 MB 7.3 MB/s eta 0:00:04\n",
      "   -- ------------------------------------- 1.3/24.4 MB 7.6 MB/s eta 0:00:04\n",
      "   -- ------------------------------------- 1.6/24.4 MB 7.3 MB/s eta 0:00:04\n",
      "   --- ------------------------------------ 1.9/24.4 MB 7.7 MB/s eta 0:00:03\n",
      "   --- ------------------------------------ 2.2/24.4 MB 7.8 MB/s eta 0:00:03\n",
      "   ---- ----------------------------------- 2.5/24.4 MB 7.5 MB/s eta 0:00:03\n",
      "   ---- ----------------------------------- 2.8/24.4 MB 7.7 MB/s eta 0:00:03\n",
      "   ----- ---------------------------------- 3.1/24.4 MB 7.9 MB/s eta 0:00:03\n",
      "   ----- ---------------------------------- 3.4/24.4 MB 7.8 MB/s eta 0:00:03\n",
      "   ------ --------------------------------- 3.8/24.4 MB 8.0 MB/s eta 0:00:03\n",
      "   ------ --------------------------------- 4.1/24.4 MB 7.9 MB/s eta 0:00:03\n",
      "   ------- -------------------------------- 4.4/24.4 MB 8.1 MB/s eta 0:00:03\n",
      "   ------- -------------------------------- 4.7/24.4 MB 8.2 MB/s eta 0:00:03\n",
      "   -------- ------------------------------- 5.1/24.4 MB 8.3 MB/s eta 0:00:03\n",
      "   -------- ------------------------------- 5.5/24.4 MB 8.3 MB/s eta 0:00:03\n",
      "   --------- ------------------------------ 5.8/24.4 MB 8.5 MB/s eta 0:00:03\n",
      "   ---------- ----------------------------- 6.3/24.4 MB 8.7 MB/s eta 0:00:03\n",
      "   ---------- ----------------------------- 6.6/24.4 MB 8.7 MB/s eta 0:00:03\n",
      "   ----------- ---------------------------- 7.0/24.4 MB 8.8 MB/s eta 0:00:02\n",
      "   ------------ --------------------------- 7.4/24.4 MB 8.9 MB/s eta 0:00:02\n",
      "   ------------ --------------------------- 7.8/24.4 MB 9.0 MB/s eta 0:00:02\n",
      "   ------------- -------------------------- 8.2/24.4 MB 9.1 MB/s eta 0:00:02\n",
      "   -------------- ------------------------- 8.7/24.4 MB 9.2 MB/s eta 0:00:02\n",
      "   -------------- ------------------------- 9.1/24.4 MB 9.4 MB/s eta 0:00:02\n",
      "   --------------- ------------------------ 9.5/24.4 MB 9.3 MB/s eta 0:00:02\n",
      "   ---------------- ----------------------- 9.9/24.4 MB 9.4 MB/s eta 0:00:02\n",
      "   ---------------- ----------------------- 10.3/24.4 MB 9.6 MB/s eta 0:00:02\n",
      "   ----------------- ---------------------- 10.8/24.4 MB 9.8 MB/s eta 0:00:02\n",
      "   ------------------ --------------------- 11.2/24.4 MB 9.9 MB/s eta 0:00:02\n",
      "   ------------------ --------------------- 11.5/24.4 MB 10.1 MB/s eta 0:00:02\n",
      "   ------------------ --------------------- 11.5/24.4 MB 10.1 MB/s eta 0:00:02\n",
      "   ------------------ --------------------- 11.5/24.4 MB 10.1 MB/s eta 0:00:02\n",
      "   ------------------ --------------------- 11.5/24.4 MB 10.1 MB/s eta 0:00:02\n",
      "   ------------------ --------------------- 11.5/24.4 MB 10.1 MB/s eta 0:00:02\n",
      "   ------------------ --------------------- 11.5/24.4 MB 10.1 MB/s eta 0:00:02\n",
      "   ------------------- -------------------- 11.8/24.4 MB 8.5 MB/s eta 0:00:02\n",
      "   ------------------- -------------------- 12.1/24.4 MB 8.6 MB/s eta 0:00:02\n",
      "   -------------------- ------------------- 12.5/24.4 MB 8.6 MB/s eta 0:00:02\n",
      "   --------------------- ------------------ 12.8/24.4 MB 8.6 MB/s eta 0:00:02\n",
      "   --------------------- ------------------ 13.1/24.4 MB 8.7 MB/s eta 0:00:02\n",
      "   ---------------------- ----------------- 13.5/24.4 MB 8.6 MB/s eta 0:00:02\n",
      "   ---------------------- ----------------- 13.8/24.4 MB 8.7 MB/s eta 0:00:02\n",
      "   ----------------------- ---------------- 14.1/24.4 MB 8.7 MB/s eta 0:00:02\n",
      "   ----------------------- ---------------- 14.5/24.4 MB 8.6 MB/s eta 0:00:02\n",
      "   ------------------------ --------------- 14.8/24.4 MB 8.7 MB/s eta 0:00:02\n",
      "   ------------------------ --------------- 15.1/24.4 MB 8.7 MB/s eta 0:00:02\n",
      "   ------------------------- -------------- 15.3/24.4 MB 8.6 MB/s eta 0:00:02\n",
      "   ------------------------- -------------- 15.6/24.4 MB 8.5 MB/s eta 0:00:02\n",
      "   ------------------------- -------------- 15.9/24.4 MB 8.5 MB/s eta 0:00:02\n",
      "   -------------------------- ------------- 16.2/24.4 MB 8.3 MB/s eta 0:00:01\n",
      "   -------------------------- ------------- 16.4/24.4 MB 8.3 MB/s eta 0:00:01\n",
      "   --------------------------- ------------ 16.7/24.4 MB 8.3 MB/s eta 0:00:01\n",
      "   --------------------------- ------------ 17.1/24.4 MB 8.2 MB/s eta 0:00:01\n",
      "   ---------------------------- ----------- 17.3/24.4 MB 8.1 MB/s eta 0:00:01\n",
      "   ---------------------------- ----------- 17.7/24.4 MB 8.1 MB/s eta 0:00:01\n",
      "   ----------------------------- ---------- 18.0/24.4 MB 8.0 MB/s eta 0:00:01\n",
      "   ----------------------------- ---------- 18.3/24.4 MB 8.0 MB/s eta 0:00:01\n",
      "   ------------------------------ --------- 18.6/24.4 MB 7.9 MB/s eta 0:00:01\n",
      "   ------------------------------ --------- 18.9/24.4 MB 7.8 MB/s eta 0:00:01\n",
      "   ------------------------------- -------- 19.2/24.4 MB 7.8 MB/s eta 0:00:01\n",
      "   ------------------------------- -------- 19.4/24.4 MB 7.7 MB/s eta 0:00:01\n",
      "   -------------------------------- ------- 19.7/24.4 MB 7.6 MB/s eta 0:00:01\n",
      "   -------------------------------- ------- 20.0/24.4 MB 7.5 MB/s eta 0:00:01\n",
      "   --------------------------------- ------ 20.3/24.4 MB 7.5 MB/s eta 0:00:01\n",
      "   --------------------------------- ------ 20.6/24.4 MB 7.4 MB/s eta 0:00:01\n",
      "   ---------------------------------- ----- 20.9/24.4 MB 7.4 MB/s eta 0:00:01\n",
      "   ---------------------------------- ----- 21.2/24.4 MB 7.4 MB/s eta 0:00:01\n",
      "   ----------------------------------- ---- 21.5/24.4 MB 7.3 MB/s eta 0:00:01\n",
      "   ----------------------------------- ---- 21.8/24.4 MB 8.4 MB/s eta 0:00:01\n",
      "   ------------------------------------ --- 22.1/24.4 MB 8.4 MB/s eta 0:00:01\n",
      "   ------------------------------------ --- 22.4/24.4 MB 8.4 MB/s eta 0:00:01\n",
      "   ------------------------------------- -- 22.8/24.4 MB 8.3 MB/s eta 0:00:01\n",
      "   ------------------------------------- -- 23.1/24.4 MB 8.3 MB/s eta 0:00:01\n",
      "   -------------------------------------- - 23.5/24.4 MB 8.4 MB/s eta 0:00:01\n",
      "   ---------------------------------------  23.9/24.4 MB 8.4 MB/s eta 0:00:01\n",
      "   ---------------------------------------  24.3/24.4 MB 8.6 MB/s eta 0:00:01\n",
      "   ---------------------------------------  24.4/24.4 MB 8.5 MB/s eta 0:00:01\n",
      "   ---------------------------------------- 24.4/24.4 MB 8.2 MB/s eta 0:00:00\n",
      "Downloading protobuf-4.24.4-cp310-abi3-win_amd64.whl (430 kB)\n",
      "   ---------------------------------------- 0.0/430.5 kB ? eta -:--:--\n",
      "   --------------------------------- ----- 368.6/430.5 kB 11.6 MB/s eta 0:00:01\n",
      "   ---------------------------------------- 430.5/430.5 kB 6.8 MB/s eta 0:00:00\n",
      "Downloading tensorboard-2.14.1-py3-none-any.whl (5.5 MB)\n",
      "   ---------------------------------------- 0.0/5.5 MB ? eta -:--:--\n",
      "   -- ------------------------------------- 0.4/5.5 MB 11.6 MB/s eta 0:00:01\n",
      "   ----- ---------------------------------- 0.7/5.5 MB 9.1 MB/s eta 0:00:01\n",
      "   ------- -------------------------------- 1.1/5.5 MB 10.0 MB/s eta 0:00:01\n",
      "   ----------- ---------------------------- 1.5/5.5 MB 10.8 MB/s eta 0:00:01\n",
      "   -------------- ------------------------- 2.0/5.5 MB 11.3 MB/s eta 0:00:01\n",
      "   ----------------- ---------------------- 2.4/5.5 MB 10.9 MB/s eta 0:00:01\n",
      "   -------------------- ------------------- 2.8/5.5 MB 11.2 MB/s eta 0:00:01\n",
      "   ----------------------- ---------------- 3.3/5.5 MB 11.6 MB/s eta 0:00:01\n",
      "   --------------------------- ------------ 3.8/5.5 MB 11.5 MB/s eta 0:00:01\n",
      "   ------------------------------ --------- 4.2/5.5 MB 11.7 MB/s eta 0:00:01\n",
      "   ---------------------------------- ----- 4.7/5.5 MB 12.0 MB/s eta 0:00:01\n",
      "   ------------------------------------- -- 5.2/5.5 MB 11.8 MB/s eta 0:00:01\n",
      "   ---------------------------------------  5.5/5.5 MB 12.1 MB/s eta 0:00:01\n",
      "   ---------------------------------------- 5.5/5.5 MB 11.4 MB/s eta 0:00:00\n",
      "Downloading tensorflow_estimator-2.14.0-py2.py3-none-any.whl (440 kB)\n",
      "   ---------------------------------------- 0.0/440.7 kB ? eta -:--:--\n",
      "   --------------------------------------  440.3/440.7 kB 26.9 MB/s eta 0:00:01\n",
      "   ---------------------------------------- 440.7/440.7 kB 9.2 MB/s eta 0:00:00\n",
      "Downloading google_auth-2.23.3-py2.py3-none-any.whl (182 kB)\n",
      "   ---------------------------------------- 0.0/182.3 kB ? eta -:--:--\n",
      "   ---------------------------------------- 182.3/182.3 kB 5.6 MB/s eta 0:00:00\n",
      "Downloading tensorboard_data_server-0.7.2-py3-none-any.whl (2.4 kB)\n",
      "Downloading cachetools-5.3.2-py3-none-any.whl (9.3 kB)\n",
      "Installing collected packages: libclang, flatbuffers, termcolor, tensorflow-io-gcs-filesystem, tensorflow-estimator, tensorboard-data-server, rsa, protobuf, opt-einsum, oauthlib, ml-dtypes, keras, grpcio, google-pasta, gast, cachetools, astunparse, absl-py, requests-oauthlib, google-auth, google-auth-oauthlib, tensorboard, tensorflow-intel, tensorflow\n",
      "Successfully installed absl-py-2.0.0 astunparse-1.6.3 cachetools-5.3.2 flatbuffers-23.5.26 gast-0.5.4 google-auth-2.23.3 google-auth-oauthlib-1.0.0 google-pasta-0.2.0 grpcio-1.59.0 keras-2.14.0 libclang-16.0.6 ml-dtypes-0.2.0 oauthlib-3.2.2 opt-einsum-3.3.0 protobuf-4.24.4 requests-oauthlib-1.3.1 rsa-4.9 tensorboard-2.14.1 tensorboard-data-server-0.7.2 tensorflow-2.14.0 tensorflow-estimator-2.14.0 tensorflow-intel-2.14.0 tensorflow-io-gcs-filesystem-0.31.0 termcolor-2.3.0\n",
      "Note: you may need to restart the kernel to use updated packages.\n"
     ]
    }
   ],
   "source": [
    "pip install tensorflow"
   ]
  },
  {
   "cell_type": "code",
   "execution_count": 59,
   "id": "59d16f7c",
   "metadata": {},
   "outputs": [
    {
     "name": "stdout",
     "output_type": "stream",
     "text": [
      "Requirement already satisfied: gensim in c:\\users\\user\\anaconda3\\lib\\site-packages (4.3.0)\n",
      "Requirement already satisfied: numpy>=1.18.5 in c:\\users\\user\\anaconda3\\lib\\site-packages (from gensim) (1.24.3)\n",
      "Requirement already satisfied: scipy>=1.7.0 in c:\\users\\user\\anaconda3\\lib\\site-packages (from gensim) (1.10.1)\n",
      "Requirement already satisfied: smart-open>=1.8.1 in c:\\users\\user\\anaconda3\\lib\\site-packages (from gensim) (5.2.1)\n",
      "Collecting FuzzyTM>=0.4.0 (from gensim)\n",
      "  Downloading FuzzyTM-2.0.5-py3-none-any.whl (29 kB)\n",
      "Requirement already satisfied: pandas in c:\\users\\user\\anaconda3\\lib\\site-packages (from FuzzyTM>=0.4.0->gensim) (1.5.3)\n",
      "Collecting pyfume (from FuzzyTM>=0.4.0->gensim)\n",
      "  Downloading pyFUME-0.2.25-py3-none-any.whl (67 kB)\n",
      "     ---------------------------------------- 0.0/67.1 kB ? eta -:--:--\n",
      "     ---------------------------------------- 67.1/67.1 kB 1.8 MB/s eta 0:00:00\n",
      "Requirement already satisfied: python-dateutil>=2.8.1 in c:\\users\\user\\anaconda3\\lib\\site-packages (from pandas->FuzzyTM>=0.4.0->gensim) (2.8.2)\n",
      "Requirement already satisfied: pytz>=2020.1 in c:\\users\\user\\anaconda3\\lib\\site-packages (from pandas->FuzzyTM>=0.4.0->gensim) (2022.7)\n",
      "Collecting simpful (from pyfume->FuzzyTM>=0.4.0->gensim)\n",
      "  Downloading simpful-2.11.0-py3-none-any.whl (32 kB)\n",
      "Collecting fst-pso (from pyfume->FuzzyTM>=0.4.0->gensim)\n",
      "  Downloading fst-pso-1.8.1.tar.gz (18 kB)\n",
      "  Preparing metadata (setup.py): started\n",
      "  Preparing metadata (setup.py): finished with status 'done'\n",
      "Requirement already satisfied: six>=1.5 in c:\\users\\user\\anaconda3\\lib\\site-packages (from python-dateutil>=2.8.1->pandas->FuzzyTM>=0.4.0->gensim) (1.16.0)\n",
      "Collecting miniful (from fst-pso->pyfume->FuzzyTM>=0.4.0->gensim)\n",
      "  Downloading miniful-0.0.6.tar.gz (2.8 kB)\n",
      "  Preparing metadata (setup.py): started\n",
      "  Preparing metadata (setup.py): finished with status 'done'\n",
      "Building wheels for collected packages: fst-pso, miniful\n",
      "  Building wheel for fst-pso (setup.py): started\n",
      "  Building wheel for fst-pso (setup.py): finished with status 'done'\n",
      "  Created wheel for fst-pso: filename=fst_pso-1.8.1-py3-none-any.whl size=20448 sha256=c488b238051337bf82b1fc4fcf98dd204767c1c5f1174fc6524c718de7bb6e1b\n",
      "  Stored in directory: c:\\users\\user\\appdata\\local\\pip\\cache\\wheels\\69\\f5\\e5\\18ad53fe1ed6b2af9fad05ec052e4acbac8e92441df44bad2e\n",
      "  Building wheel for miniful (setup.py): started\n",
      "  Building wheel for miniful (setup.py): finished with status 'done'\n",
      "  Created wheel for miniful: filename=miniful-0.0.6-py3-none-any.whl size=3522 sha256=d2d1e1ffda241309d5a227e27380d539fab18bc2656adac474ce4dcffe5ce726\n",
      "  Stored in directory: c:\\users\\user\\appdata\\local\\pip\\cache\\wheels\\9d\\ff\\2f\\afe4cd56f47de147407705626517d68bea0f3b74eb1fb168e6\n",
      "Successfully built fst-pso miniful\n",
      "Installing collected packages: simpful, miniful, fst-pso, pyfume, FuzzyTM\n",
      "Successfully installed FuzzyTM-2.0.5 fst-pso-1.8.1 miniful-0.0.6 pyfume-0.2.25 simpful-2.11.0\n",
      "Note: you may need to restart the kernel to use updated packages.\n"
     ]
    }
   ],
   "source": [
    "pip install gensim"
   ]
  },
  {
   "cell_type": "code",
   "execution_count": 60,
   "id": "07099534",
   "metadata": {},
   "outputs": [
    {
     "name": "stdout",
     "output_type": "stream",
     "text": [
      "Requirement already satisfied: nltk in c:\\users\\user\\anaconda3\\lib\\site-packages (3.8.1)\n",
      "Requirement already satisfied: click in c:\\users\\user\\anaconda3\\lib\\site-packages (from nltk) (8.0.4)\n",
      "Requirement already satisfied: joblib in c:\\users\\user\\anaconda3\\lib\\site-packages (from nltk) (1.2.0)\n",
      "Requirement already satisfied: regex>=2021.8.3 in c:\\users\\user\\anaconda3\\lib\\site-packages (from nltk) (2022.7.9)\n",
      "Requirement already satisfied: tqdm in c:\\users\\user\\anaconda3\\lib\\site-packages (from nltk) (4.65.0)\n",
      "Requirement already satisfied: colorama in c:\\users\\user\\anaconda3\\lib\\site-packages (from click->nltk) (0.4.6)\n",
      "Note: you may need to restart the kernel to use updated packages.\n"
     ]
    }
   ],
   "source": [
    "pip install nltk"
   ]
  },
  {
   "cell_type": "code",
   "execution_count": 61,
   "id": "16fc003a",
   "metadata": {},
   "outputs": [],
   "source": [
    "from nltk.tokenize import word_tokenize\n",
    "from nltk.tokenize import WordPunctTokenizer\n",
    "from tensorflow.keras.preprocessing.text import text_to_word_sequence"
   ]
  },
  {
   "cell_type": "markdown",
   "id": "97c7e035",
   "metadata": {},
   "source": [
    "* token(토큰) : 자연어 처리작업을 수행하는 기본 단위,\n",
    "    * 일반적으로 단어(or 문장, 문단, 문자) 나누는 단위에 따라 생각\n",
    "* tokenization(토큰화) : 주어진 코퍼스를 토큰 단위로 나누는 작업\n",
    "    * 자연어 -> 토큰화 -> 세부 작업"
   ]
  },
  {
   "cell_type": "code",
   "execution_count": 64,
   "id": "a57ea23e",
   "metadata": {},
   "outputs": [
    {
     "name": "stderr",
     "output_type": "stream",
     "text": [
      "[nltk_data] Downloading package punkt to\n",
      "[nltk_data]     C:\\Users\\user\\AppData\\Roaming\\nltk_data...\n",
      "[nltk_data]   Unzipping tokenizers\\punkt.zip.\n"
     ]
    },
    {
     "data": {
      "text/plain": [
       "True"
      ]
     },
     "execution_count": 64,
     "metadata": {},
     "output_type": "execute_result"
    }
   ],
   "source": [
    "import nltk\n",
    "nltk.download('punkt')"
   ]
  },
  {
   "cell_type": "code",
   "execution_count": 65,
   "id": "5d4d724a",
   "metadata": {},
   "outputs": [
    {
     "name": "stdout",
     "output_type": "stream",
     "text": [
      "단어 토큰화1 : ['Do', \"n't\", 'be', 'fooled', 'by', 'the', 'dark', 'sounding', 'name', ',', 'Mr.', 'Jone', \"'s\", 'Orphanage', 'is', 'as', 'cheery', 'as', 'cheery', 'goes', 'for', 'a', 'pastry', 'shop', '.']\n"
     ]
    }
   ],
   "source": [
    "print('단어 토큰화1 :',word_tokenize(\"Don't be fooled by the dark sounding name, Mr. Jone's Orphanage is as cheery as cheery goes for a pastry shop.\"))"
   ]
  },
  {
   "cell_type": "code",
   "execution_count": 66,
   "id": "ec84caeb",
   "metadata": {},
   "outputs": [
    {
     "name": "stdout",
     "output_type": "stream",
     "text": [
      "단어 토큰화2 : ['Don', \"'\", 't', 'be', 'fooled', 'by', 'the', 'dark', 'sounding', 'name', ',', 'Mr', '.', 'Jone', \"'\", 's', 'Orphanage', 'is', 'as', 'cheery', 'as', 'cheery', 'goes', 'for', 'a', 'pastry', 'shop', '.']\n"
     ]
    }
   ],
   "source": [
    "print('단어 토큰화2 :',WordPunctTokenizer().tokenize(\"Don't be fooled by the dark sounding name, Mr. Jone's Orphanage is as cheery as cheery goes for a pastry shop.\"))"
   ]
  },
  {
   "cell_type": "code",
   "execution_count": 67,
   "id": "46716892",
   "metadata": {},
   "outputs": [
    {
     "name": "stdout",
     "output_type": "stream",
     "text": [
      "단어 토큰화3 : [\"don't\", 'be', 'fooled', 'by', 'the', 'dark', 'sounding', 'name', 'mr', \"jone's\", 'orphanage', 'is', 'as', 'cheery', 'as', 'cheery', 'goes', 'for', 'a', 'pastry', 'shop']\n"
     ]
    }
   ],
   "source": [
    "print('단어 토큰화3 :',text_to_word_sequence(\"Don't be fooled by the dark sounding name, Mr. Jone's Orphanage is as cheery as cheery goes for a pastry shop.\"))"
   ]
  },
  {
   "cell_type": "code",
   "execution_count": 68,
   "id": "860a4f80",
   "metadata": {},
   "outputs": [
    {
     "name": "stdout",
     "output_type": "stream",
     "text": [
      "문장 토큰화1 : ['His barber kept his word.', 'But keeping such a huge secret to himself was driving him crazy.', 'Finally, the barber went up a mountain and almost to the edge of a cliff.', 'He dug a hole in the midst of some reeds.', 'He looked about, to make sure no one was near.']\n"
     ]
    }
   ],
   "source": [
    "from nltk.tokenize import sent_tokenize\n",
    "# 문장 단위 토큰화\n",
    "text = \"His barber kept his word. But keeping such a huge secret to himself was driving him crazy. Finally, the barber went up a mountain and almost to the edge of a cliff. He dug a hole in the midst of some reeds. He looked about, to make sure no one was near.\"\n",
    "print('문장 토큰화1 :',sent_tokenize(text))"
   ]
  },
  {
   "cell_type": "code",
   "execution_count": 69,
   "id": "5b611bb7",
   "metadata": {},
   "outputs": [
    {
     "name": "stdout",
     "output_type": "stream",
     "text": [
      "문장 토큰화2 : ['I am actively looking for Ph.D. students.', 'and you are a Ph.D student.']\n"
     ]
    }
   ],
   "source": [
    "text = \"I am actively looking for Ph.D. students. and you are a Ph.D student.\"\n",
    "print('문장 토큰화2 :',sent_tokenize(text))"
   ]
  },
  {
   "cell_type": "code",
   "execution_count": 70,
   "id": "1a7fe1f3",
   "metadata": {},
   "outputs": [
    {
     "name": "stdout",
     "output_type": "stream",
     "text": [
      "OKT 형태소 분석 : ['열심히', '코딩', '한', '당신', ',', '연휴', '에는', '여행', '을', '가봐요']\n",
      "OKT 품사 태깅 : [('열심히', 'Adverb'), ('코딩', 'Noun'), ('한', 'Josa'), ('당신', 'Noun'), (',', 'Punctuation'), ('연휴', 'Noun'), ('에는', 'Josa'), ('여행', 'Noun'), ('을', 'Josa'), ('가봐요', 'Verb')]\n",
      "OKT 명사 추출 : ['코딩', '당신', '연휴', '여행']\n"
     ]
    }
   ],
   "source": [
    "from konlpy.tag import Okt\n",
    "from konlpy.tag import Kkma\n",
    "\n",
    "okt = Okt()\n",
    "kkma = Kkma()\n",
    "\n",
    "print('OKT 형태소 분석 :',okt.morphs(\"열심히 코딩한 당신, 연휴에는 여행을 가봐요\"))\n",
    "print('OKT 품사 태깅 :',okt.pos(\"열심히 코딩한 당신, 연휴에는 여행을 가봐요\"))\n",
    "print('OKT 명사 추출 :',okt.nouns(\"열심히 코딩한 당신, 연휴에는 여행을 가봐요\"))"
   ]
  },
  {
   "cell_type": "code",
   "execution_count": 71,
   "id": "6a1d5a97",
   "metadata": {},
   "outputs": [
    {
     "name": "stdout",
     "output_type": "stream",
     "text": [
      "꼬꼬마 형태소 분석 : ['열심히', '코딩', '하', 'ㄴ', '당신', ',', '연휴', '에', '는', '여행', '을', '가보', '아요']\n",
      "꼬꼬마 품사 태깅 : [('열심히', 'MAG'), ('코딩', 'NNG'), ('하', 'XSV'), ('ㄴ', 'ETD'), ('당신', 'NP'), (',', 'SP'), ('연휴', 'NNG'), ('에', 'JKM'), ('는', 'JX'), ('여행', 'NNG'), ('을', 'JKO'), ('가보', 'VV'), ('아요', 'EFN')]\n",
      "꼬꼬마 명사 추출 : ['코딩', '당신', '연휴', '여행']\n"
     ]
    }
   ],
   "source": [
    "print('꼬꼬마 형태소 분석 :',kkma.morphs(\"열심히 코딩한 당신, 연휴에는 여행을 가봐요\"))\n",
    "print('꼬꼬마 품사 태깅 :',kkma.pos(\"열심히 코딩한 당신, 연휴에는 여행을 가봐요\"))\n",
    "print('꼬꼬마 명사 추출 :',kkma.nouns(\"열심히 코딩한 당신, 연휴에는 여행을 가봐요\"))"
   ]
  },
  {
   "cell_type": "code",
   "execution_count": 72,
   "id": "489414c6",
   "metadata": {},
   "outputs": [],
   "source": [
    "# 정제, 대소문자통합, 불융어 제거(등장 빈도수가 낮은 단어)"
   ]
  },
  {
   "cell_type": "code",
   "execution_count": 73,
   "id": "31164702",
   "metadata": {},
   "outputs": [
    {
     "name": "stdout",
     "output_type": "stream",
     "text": [
      " was wondering anyone out there could enlighten this car.\n"
     ]
    }
   ],
   "source": [
    "import re\n",
    "text = \"I was wondering if anyone out there could enlighten me on this car.\"\n",
    "\n",
    "# 길이가 1~2인 단어들을 정규 표현식을 이용하여 삭제\n",
    "shortword = re.compile(r'\\W*\\b\\w{1,2}\\b') # \\W문자숫자 아닌건 \\w문자숫자 \\b공백문자\n",
    "print(shrtword.sub('', text))"
   ]
  },
  {
   "cell_type": "code",
   "execution_count": null,
   "id": "fb7511df",
   "metadata": {},
   "outputs": [],
   "source": [
    "# 형태소 = 어간(stem, 단어 중요의미) + 접사(부가의미)\n",
    "# dogs => dog + s"
   ]
  },
  {
   "cell_type": "code",
   "execution_count": 77,
   "id": "4e5f6437",
   "metadata": {},
   "outputs": [
    {
     "name": "stderr",
     "output_type": "stream",
     "text": [
      "[nltk_data] Downloading package wordnet to\n",
      "[nltk_data]     C:\\Users\\user\\AppData\\Roaming\\nltk_data...\n"
     ]
    },
    {
     "data": {
      "text/plain": [
       "True"
      ]
     },
     "execution_count": 77,
     "metadata": {},
     "output_type": "execute_result"
    }
   ],
   "source": [
    "import nltk\n",
    "nltk.download('wordnet')"
   ]
  },
  {
   "cell_type": "code",
   "execution_count": 78,
   "id": "214af7bc",
   "metadata": {},
   "outputs": [
    {
     "name": "stdout",
     "output_type": "stream",
     "text": [
      "표제어 추출 전 : ['policy', 'doing', 'organization', 'have', 'going', 'love', 'lives', 'fly', 'dies', 'watched', 'has', 'starting']\n",
      "표제어 추출 후 : ['policy', 'doing', 'organization', 'have', 'going', 'love', 'life', 'fly', 'dy', 'watched', 'ha', 'starting']\n"
     ]
    }
   ],
   "source": [
    "from nltk.stem import WordNetLemmatizer\n",
    "\n",
    "lemmatizer = WordNetLemmatizer()\n",
    "# are, is, am => be(표제어)\n",
    "\n",
    "words = ['policy', 'doing', 'organization', 'have', 'going', 'love', 'lives', 'fly', 'dies', 'watched', 'has', 'starting']\n",
    "\n",
    "print('표제어 추출 전 :',words)\n",
    "print('표제어 추출 후 :',[lemmatizer.lemmatize(word) for word in words])"
   ]
  },
  {
   "cell_type": "code",
   "execution_count": 81,
   "id": "a426e397",
   "metadata": {},
   "outputs": [
    {
     "data": {
      "text/plain": [
       "'watch'"
      ]
     },
     "execution_count": 81,
     "metadata": {},
     "output_type": "execute_result"
    }
   ],
   "source": [
    "lemmatizer.lemmatize('is','v')\n",
    "lemmatizer.lemmatize('are','v')\n",
    "lemmatizer.lemmatize('watched','v')"
   ]
  },
  {
   "cell_type": "code",
   "execution_count": 105,
   "id": "4df43aed",
   "metadata": {},
   "outputs": [],
   "source": [
    "# 어간(Stemming)\n",
    "from nltk.stem import PorterStemmer\n",
    "from nltk.tokenize import word_tokenize\n",
    "from nltk.stem import LancasterStemmer\n",
    "from nltk.corpus import stopwords\n",
    "\n",
    "stemmer = PorterStemmer()\n",
    "lancaster = LancasterStemmer()"
   ]
  },
  {
   "cell_type": "code",
   "execution_count": 106,
   "id": "41ae7ead",
   "metadata": {},
   "outputs": [
    {
     "name": "stdout",
     "output_type": "stream",
     "text": [
      "어간 추출 후 : ['formal', 'allow', 'electric']\n"
     ]
    }
   ],
   "source": [
    "words = ['formalize', 'allowance', 'electricical']\n",
    "print('어간 추출 후 :',[stemmer.stem(word) for word in words])"
   ]
  },
  {
   "cell_type": "code",
   "execution_count": 107,
   "id": "6103f545",
   "metadata": {},
   "outputs": [
    {
     "name": "stderr",
     "output_type": "stream",
     "text": [
      "[nltk_data] Error loading LancasterStemmer: Package 'LancasterStemmer'\n",
      "[nltk_data]     not found in index\n"
     ]
    },
    {
     "data": {
      "text/plain": [
       "False"
      ]
     },
     "execution_count": 107,
     "metadata": {},
     "output_type": "execute_result"
    }
   ],
   "source": [
    "import nltk\n",
    "nltk.download('LancasterStemmer')"
   ]
  },
  {
   "cell_type": "code",
   "execution_count": 108,
   "id": "fd517e69",
   "metadata": {},
   "outputs": [
    {
     "name": "stdout",
     "output_type": "stream",
     "text": [
      "어간 추출 후 : ['form', 'allow', 'elect']\n"
     ]
    }
   ],
   "source": [
    "print('어간 추출 후 :',[lancaster.stem(word) for word in words])"
   ]
  },
  {
   "cell_type": "code",
   "execution_count": 109,
   "id": "677f86f1",
   "metadata": {},
   "outputs": [
    {
     "name": "stderr",
     "output_type": "stream",
     "text": [
      "[nltk_data] Downloading package stopwords to\n",
      "[nltk_data]     C:\\Users\\user\\AppData\\Roaming\\nltk_data...\n",
      "[nltk_data]   Package stopwords is already up-to-date!\n"
     ]
    },
    {
     "data": {
      "text/plain": [
       "True"
      ]
     },
     "execution_count": 109,
     "metadata": {},
     "output_type": "execute_result"
    }
   ],
   "source": [
    "import nltk\n",
    "nltk.download('stopwords')"
   ]
  },
  {
   "cell_type": "code",
   "execution_count": 110,
   "id": "314e82d3",
   "metadata": {},
   "outputs": [
    {
     "name": "stdout",
     "output_type": "stream",
     "text": [
      "{'having', 'they', 'then', \"weren't\", 'who', 'isn', 'needn', 'are', 'into', 'itself', 'to', 'have', \"it's\", 'can', 'be', 'his', 'doesn', 'we', 'each', 'were', 'your', 'an', 'ourselves', 'themselves', 'had', \"that'll\", 'same', 'o', \"wouldn't\", 'only', 'which', 'too', 'wouldn', 'for', 'by', 'not', 'when', 'what', \"doesn't\", 'being', 'mightn', \"wasn't\", 'hasn', \"isn't\", 'my', 'mustn', 'how', 'shouldn', 'does', 'up', 'no', \"haven't\", 'where', 'there', 'he', \"needn't\", 'further', 'hadn', 'again', 'both', \"you'd\", 'through', 'in', 'them', \"mightn't\", 've', 'aren', \"aren't\", \"you'll\", 'if', 'under', 'nor', 'after', 'as', 'whom', 'him', \"don't\", 'y', 'own', 'but', 'now', 'don', \"she's\", 'about', 'few', 'm', 'and', \"didn't\", 'the', 'it', 'weren', 'all', 'of', 'himself', 'during', 'such', \"hadn't\", 'so', 'out', 're', 'between', 'am', 'wasn', 'do', 'that', 'some', 's', 'at', 'than', 'hers', 'or', 'yours', 'why', 'been', \"should've\", 'ma', 'any', 'while', \"shan't\", 'before', \"shouldn't\", 'haven', 'will', 'i', 'yourself', \"hasn't\", 'above', 'you', 'from', 'against', 'this', 'should', 'ain', 'couldn', \"you've\", 'me', 'didn', 'won', 'with', 'those', 'll', 'yourselves', 'once', 'did', 'very', 'a', 'their', \"you're\", \"won't\", 'over', 't', 'theirs', 'she', 'until', 'shan', 'on', 'myself', 'because', 'most', \"couldn't\", 'other', 'more', \"mustn't\", 'has', 'is', 'was', 'herself', 'its', 'd', 'off', 'her', 'our', 'ours', 'these', 'just', 'down', 'below', 'here', 'doing'}\n"
     ]
    }
   ],
   "source": [
    "stop_words = set(stopwords.words('english'))\n",
    "print(stop_words)"
   ]
  },
  {
   "cell_type": "code",
   "execution_count": null,
   "id": "2c9c4a4f",
   "metadata": {},
   "outputs": [],
   "source": [
    "# 'overview' 열에서 텍스트를 토큰화하고 불용어 제거\n",
    "def process_text(text):\n",
    "    tokens = word_tokenize(text)\n",
    "    filtered_tokens = [word for word in tokens if word.lower() not in stop_words]\n",
    "    return filtered_tokens\n",
    "\n",
    "# 'overview' 열에 대해 텍스트 처리 적용\n",
    "movies['tokenized_overview'] = movies['overview'].apply(process_text)\n"
   ]
  },
  {
   "cell_type": "code",
   "execution_count": 111,
   "id": "4d9fff6b",
   "metadata": {},
   "outputs": [
    {
     "name": "stdout",
     "output_type": "stream",
     "text": [
      "불용어 제거 전 : ['Family', 'is', 'not', 'an', 'important', 'thing', '.', 'It', \"'s\", 'everything', '.']\n",
      "불용어 제거 후 : ['Family', 'important', 'thing', '.', 'It', \"'s\", 'everything', '.']\n"
     ]
    }
   ],
   "source": [
    "example = \"Family is not an important thing. It's everything.\"\n",
    "stop_words = set(stopwords.words('english')) \n",
    "\n",
    "word_tokens = word_tokenize(example)\n",
    "\n",
    "result = []\n",
    "for word in word_tokens: \n",
    "    if word not in stop_words: \n",
    "        result.append(word) \n",
    "\n",
    "print('불용어 제거 전 :',word_tokens) \n",
    "print('불용어 제거 후 :',result)"
   ]
  },
  {
   "cell_type": "code",
   "execution_count": 102,
   "id": "03ad9996",
   "metadata": {},
   "outputs": [
    {
     "name": "stdout",
     "output_type": "stream",
     "text": [
      "불용어 제거 전 : ['고기', '를', '아무렇게나', '구', '우려', '고', '하면', '안', '돼', '.', '고기', '라고', '다', '같은', '게', '아니거든', '.', '예컨대', '삼겹살', '을', '구울', '때', '는', '중요한', '게', '있지', '.']\n",
      "불용어 제거 후 : ['고기', '하면', '.', '고기', '라고', '다', '아니거든', '.', '예컨대', '삼겹살', '을', '중요한', '있지', '.']\n"
     ]
    }
   ],
   "source": [
    "example = \"고기를 아무렇게나 구우려고 하면 안 돼. 고기라고 다 같은 게 아니거든. 예컨대 삼겹살을 구울 때는 중요한 게 있지.\"\n",
    "stop_words = \"를 아무렇게나 구 우려 고 안 돼 같은 게 구울 때 는\"\n",
    "\n",
    "stop_words = set(stop_words.split(' '))\n",
    "word_tokens = okt.morphs(example)\n",
    "\n",
    "result = [word for word in word_tokens if not word in stop_words]\n",
    "\n",
    "print('불용어 제거 전 :',word_tokens) \n",
    "print('불용어 제거 후 :',result)"
   ]
  },
  {
   "cell_type": "code",
   "execution_count": 112,
   "id": "a8b12be9",
   "metadata": {},
   "outputs": [],
   "source": [
    "from nltk.corpus import wordnet"
   ]
  },
  {
   "cell_type": "code",
   "execution_count": 115,
   "id": "04f90255",
   "metadata": {},
   "outputs": [],
   "source": [
    "synsets = wordnet.synsets(\"plan\")"
   ]
  },
  {
   "cell_type": "code",
   "execution_count": 116,
   "id": "45f3e1c1",
   "metadata": {},
   "outputs": [
    {
     "data": {
      "text/plain": [
       "[Synset('plan.n.01'),\n",
       " Synset('design.n.02'),\n",
       " Synset('plan.n.03'),\n",
       " Synset('plan.v.01'),\n",
       " Synset('plan.v.02'),\n",
       " Synset('plan.v.03'),\n",
       " Synset('design.v.04')]"
      ]
     },
     "execution_count": 116,
     "metadata": {},
     "output_type": "execute_result"
    }
   ],
   "source": [
    "synsets"
   ]
  },
  {
   "cell_type": "code",
   "execution_count": 121,
   "id": "d8bb44d5",
   "metadata": {},
   "outputs": [
    {
     "data": {
      "text/plain": [
       "'a series of steps to be carried out or goals to be accomplished'"
      ]
     },
     "execution_count": 121,
     "metadata": {},
     "output_type": "execute_result"
    }
   ],
   "source": [
    "plan = wordnet.synset('plan.n.01')\n",
    "plan.definition()"
   ]
  },
  {
   "cell_type": "code",
   "execution_count": 122,
   "id": "cc144475",
   "metadata": {},
   "outputs": [
    {
     "data": {
      "text/plain": [
       "'have the will and intention to carry out some action'"
      ]
     },
     "execution_count": 122,
     "metadata": {},
     "output_type": "execute_result"
    }
   ],
   "source": [
    "wordnet.synset('plan.v.01').definition()"
   ]
  },
  {
   "cell_type": "code",
   "execution_count": 130,
   "id": "f425bb7f",
   "metadata": {},
   "outputs": [
    {
     "data": {
      "text/plain": [
       "[Synset('man.n.01'),\n",
       " Synset('serviceman.n.01'),\n",
       " Synset('man.n.03'),\n",
       " Synset('homo.n.02'),\n",
       " Synset('man.n.05'),\n",
       " Synset('man.n.06'),\n",
       " Synset('valet.n.01'),\n",
       " Synset('man.n.08'),\n",
       " Synset('man.n.09'),\n",
       " Synset('man.n.10'),\n",
       " Synset('world.n.08'),\n",
       " Synset('man.v.01'),\n",
       " Synset('man.v.02')]"
      ]
     },
     "execution_count": 130,
     "metadata": {},
     "output_type": "execute_result"
    }
   ],
   "source": [
    "# boy man\n",
    "wordnet.synsets('boy')\n",
    "wordnet.synsets('man')"
   ]
  },
  {
   "cell_type": "code",
   "execution_count": 137,
   "id": "21ceec07",
   "metadata": {},
   "outputs": [
    {
     "data": {
      "text/plain": [
       "0.5"
      ]
     },
     "execution_count": 137,
     "metadata": {},
     "output_type": "execute_result"
    }
   ],
   "source": [
    "wordnet.synsets('boy')[1].path_similarity(wordnet.synsets('man')[0])\n"
   ]
  },
  {
   "cell_type": "code",
   "execution_count": 138,
   "id": "5d9cf9c5",
   "metadata": {},
   "outputs": [
    {
     "data": {
      "text/plain": [
       "0.5"
      ]
     },
     "execution_count": 138,
     "metadata": {},
     "output_type": "execute_result"
    }
   ],
   "source": [
    "boy = wordnet.synsets('boy')[1]\n",
    "man = wordnet.synsets('man')[0]\n",
    "boy.path_similarity(man)"
   ]
  },
  {
   "cell_type": "code",
   "execution_count": null,
   "id": "1561d8b2",
   "metadata": {},
   "outputs": [],
   "source": []
  },
  {
   "cell_type": "code",
   "execution_count": 143,
   "id": "77631076",
   "metadata": {},
   "outputs": [
    {
     "data": {
      "text/plain": [
       "'a machine for performing calculations automatically'"
      ]
     },
     "execution_count": 143,
     "metadata": {},
     "output_type": "execute_result"
    }
   ],
   "source": [
    "wordnet.synsets('computer')\n",
    "# car 단어에 5개의 동의어 그룹이 있음\n",
    "computer = wordnet.synset('computer.n.01')\n",
    "computer.definition()"
   ]
  },
  {
   "cell_type": "code",
   "execution_count": 144,
   "id": "b8664107",
   "metadata": {},
   "outputs": [
    {
     "data": {
      "text/plain": [
       "['computer',\n",
       " 'computing_machine',\n",
       " 'computing_device',\n",
       " 'data_processor',\n",
       " 'electronic_computer',\n",
       " 'information_processing_system']"
      ]
     },
     "execution_count": 144,
     "metadata": {},
     "output_type": "execute_result"
    }
   ],
   "source": [
    "computer.lemma_names()"
   ]
  },
  {
   "cell_type": "code",
   "execution_count": null,
   "id": "db9c4421",
   "metadata": {},
   "outputs": [],
   "source": []
  },
  {
   "cell_type": "code",
   "execution_count": null,
   "id": "c484986d",
   "metadata": {},
   "outputs": [],
   "source": []
  },
  {
   "cell_type": "code",
   "execution_count": null,
   "id": "a28c6a93",
   "metadata": {},
   "outputs": [],
   "source": []
  },
  {
   "cell_type": "code",
   "execution_count": null,
   "id": "8838ba0c",
   "metadata": {},
   "outputs": [],
   "source": []
  },
  {
   "cell_type": "code",
   "execution_count": null,
   "id": "952b91b3",
   "metadata": {},
   "outputs": [],
   "source": []
  },
  {
   "cell_type": "code",
   "execution_count": null,
   "id": "1fed9be6",
   "metadata": {},
   "outputs": [],
   "source": []
  },
  {
   "cell_type": "code",
   "execution_count": null,
   "id": "d9db7259",
   "metadata": {},
   "outputs": [],
   "source": []
  },
  {
   "cell_type": "code",
   "execution_count": null,
   "id": "a02663a6",
   "metadata": {},
   "outputs": [],
   "source": []
  },
  {
   "cell_type": "code",
   "execution_count": null,
   "id": "3d9251e3",
   "metadata": {},
   "outputs": [],
   "source": []
  },
  {
   "cell_type": "code",
   "execution_count": null,
   "id": "c8a583c3",
   "metadata": {},
   "outputs": [],
   "source": []
  },
  {
   "cell_type": "code",
   "execution_count": null,
   "id": "3014f12c",
   "metadata": {},
   "outputs": [],
   "source": []
  },
  {
   "cell_type": "code",
   "execution_count": null,
   "id": "5a1a81c0",
   "metadata": {},
   "outputs": [],
   "source": []
  },
  {
   "cell_type": "code",
   "execution_count": null,
   "id": "b35c2e66",
   "metadata": {},
   "outputs": [],
   "source": []
  },
  {
   "cell_type": "code",
   "execution_count": null,
   "id": "22c629dc",
   "metadata": {},
   "outputs": [],
   "source": []
  },
  {
   "cell_type": "code",
   "execution_count": null,
   "id": "c0e31aac",
   "metadata": {},
   "outputs": [],
   "source": []
  },
  {
   "cell_type": "code",
   "execution_count": null,
   "id": "36650cbc",
   "metadata": {},
   "outputs": [],
   "source": []
  },
  {
   "cell_type": "code",
   "execution_count": null,
   "id": "4949cdb2",
   "metadata": {},
   "outputs": [],
   "source": []
  },
  {
   "cell_type": "code",
   "execution_count": null,
   "id": "252b3a00",
   "metadata": {},
   "outputs": [],
   "source": []
  },
  {
   "cell_type": "code",
   "execution_count": null,
   "id": "cca45499",
   "metadata": {},
   "outputs": [],
   "source": []
  },
  {
   "cell_type": "code",
   "execution_count": null,
   "id": "c8dd6c9c",
   "metadata": {},
   "outputs": [],
   "source": []
  },
  {
   "cell_type": "code",
   "execution_count": null,
   "id": "c289f80f",
   "metadata": {},
   "outputs": [],
   "source": []
  },
  {
   "cell_type": "code",
   "execution_count": null,
   "id": "d5d8e2f7",
   "metadata": {},
   "outputs": [],
   "source": []
  },
  {
   "cell_type": "code",
   "execution_count": null,
   "id": "acc38e45",
   "metadata": {},
   "outputs": [],
   "source": []
  },
  {
   "cell_type": "code",
   "execution_count": null,
   "id": "a8bb128d",
   "metadata": {},
   "outputs": [],
   "source": []
  },
  {
   "cell_type": "code",
   "execution_count": null,
   "id": "e20a8a43",
   "metadata": {},
   "outputs": [],
   "source": []
  },
  {
   "cell_type": "code",
   "execution_count": null,
   "id": "5b172d9a",
   "metadata": {},
   "outputs": [],
   "source": []
  },
  {
   "cell_type": "code",
   "execution_count": null,
   "id": "10ea74da",
   "metadata": {},
   "outputs": [],
   "source": []
  },
  {
   "cell_type": "code",
   "execution_count": null,
   "id": "e7b4ef1c",
   "metadata": {},
   "outputs": [],
   "source": []
  },
  {
   "cell_type": "code",
   "execution_count": null,
   "id": "209ff27d",
   "metadata": {},
   "outputs": [],
   "source": []
  },
  {
   "cell_type": "code",
   "execution_count": null,
   "id": "e2002bba",
   "metadata": {},
   "outputs": [],
   "source": []
  },
  {
   "cell_type": "code",
   "execution_count": null,
   "id": "80874ba3",
   "metadata": {},
   "outputs": [],
   "source": []
  },
  {
   "cell_type": "code",
   "execution_count": null,
   "id": "71369c48",
   "metadata": {},
   "outputs": [],
   "source": []
  },
  {
   "cell_type": "code",
   "execution_count": null,
   "id": "d147bf62",
   "metadata": {},
   "outputs": [],
   "source": []
  },
  {
   "cell_type": "code",
   "execution_count": null,
   "id": "420451b5",
   "metadata": {},
   "outputs": [],
   "source": []
  },
  {
   "cell_type": "code",
   "execution_count": null,
   "id": "7df41ea0",
   "metadata": {},
   "outputs": [],
   "source": []
  },
  {
   "cell_type": "code",
   "execution_count": null,
   "id": "4a9a91a1",
   "metadata": {},
   "outputs": [],
   "source": []
  },
  {
   "cell_type": "code",
   "execution_count": null,
   "id": "a604a0bc",
   "metadata": {},
   "outputs": [],
   "source": []
  },
  {
   "cell_type": "code",
   "execution_count": null,
   "id": "02cdb747",
   "metadata": {},
   "outputs": [],
   "source": []
  },
  {
   "cell_type": "code",
   "execution_count": null,
   "id": "72f37596",
   "metadata": {},
   "outputs": [],
   "source": []
  },
  {
   "cell_type": "code",
   "execution_count": null,
   "id": "20144d6c",
   "metadata": {},
   "outputs": [],
   "source": []
  },
  {
   "cell_type": "code",
   "execution_count": null,
   "id": "292e8ce0",
   "metadata": {},
   "outputs": [],
   "source": []
  },
  {
   "cell_type": "code",
   "execution_count": null,
   "id": "1cbc157b",
   "metadata": {},
   "outputs": [],
   "source": []
  },
  {
   "cell_type": "code",
   "execution_count": null,
   "id": "b2693838",
   "metadata": {},
   "outputs": [],
   "source": []
  },
  {
   "cell_type": "code",
   "execution_count": null,
   "id": "7f08f3b0",
   "metadata": {},
   "outputs": [],
   "source": []
  },
  {
   "cell_type": "code",
   "execution_count": null,
   "id": "5dca73fa",
   "metadata": {},
   "outputs": [],
   "source": []
  },
  {
   "cell_type": "code",
   "execution_count": null,
   "id": "8e061db5",
   "metadata": {},
   "outputs": [],
   "source": []
  },
  {
   "cell_type": "code",
   "execution_count": null,
   "id": "8f581e19",
   "metadata": {},
   "outputs": [],
   "source": []
  },
  {
   "cell_type": "code",
   "execution_count": null,
   "id": "a6b1219f",
   "metadata": {},
   "outputs": [],
   "source": []
  },
  {
   "cell_type": "code",
   "execution_count": null,
   "id": "65a9eef3",
   "metadata": {},
   "outputs": [],
   "source": []
  },
  {
   "cell_type": "code",
   "execution_count": null,
   "id": "333a859d",
   "metadata": {},
   "outputs": [],
   "source": []
  },
  {
   "cell_type": "code",
   "execution_count": null,
   "id": "314eefb2",
   "metadata": {},
   "outputs": [],
   "source": []
  },
  {
   "cell_type": "code",
   "execution_count": null,
   "id": "ea39f0b4",
   "metadata": {},
   "outputs": [],
   "source": []
  },
  {
   "cell_type": "code",
   "execution_count": null,
   "id": "6f169ebe",
   "metadata": {},
   "outputs": [],
   "source": []
  },
  {
   "cell_type": "code",
   "execution_count": null,
   "id": "45edf71f",
   "metadata": {},
   "outputs": [],
   "source": []
  },
  {
   "cell_type": "code",
   "execution_count": null,
   "id": "bccf86c9",
   "metadata": {},
   "outputs": [],
   "source": []
  },
  {
   "cell_type": "code",
   "execution_count": null,
   "id": "c3853642",
   "metadata": {},
   "outputs": [],
   "source": []
  },
  {
   "cell_type": "code",
   "execution_count": null,
   "id": "e106d174",
   "metadata": {},
   "outputs": [],
   "source": []
  },
  {
   "cell_type": "code",
   "execution_count": null,
   "id": "8145b4f6",
   "metadata": {},
   "outputs": [],
   "source": []
  },
  {
   "cell_type": "code",
   "execution_count": null,
   "id": "2a99a238",
   "metadata": {},
   "outputs": [],
   "source": []
  },
  {
   "cell_type": "code",
   "execution_count": null,
   "id": "83cf0b2d",
   "metadata": {},
   "outputs": [],
   "source": []
  },
  {
   "cell_type": "code",
   "execution_count": null,
   "id": "e5db7c0f",
   "metadata": {},
   "outputs": [],
   "source": []
  },
  {
   "cell_type": "code",
   "execution_count": null,
   "id": "17b40408",
   "metadata": {},
   "outputs": [],
   "source": []
  },
  {
   "cell_type": "code",
   "execution_count": null,
   "id": "c9972887",
   "metadata": {},
   "outputs": [],
   "source": []
  },
  {
   "cell_type": "code",
   "execution_count": null,
   "id": "310df849",
   "metadata": {},
   "outputs": [],
   "source": []
  },
  {
   "cell_type": "code",
   "execution_count": null,
   "id": "edd96901",
   "metadata": {},
   "outputs": [],
   "source": []
  },
  {
   "cell_type": "code",
   "execution_count": null,
   "id": "01467fc7",
   "metadata": {},
   "outputs": [],
   "source": []
  },
  {
   "cell_type": "code",
   "execution_count": null,
   "id": "2e5bcf34",
   "metadata": {},
   "outputs": [],
   "source": []
  },
  {
   "cell_type": "code",
   "execution_count": null,
   "id": "649b1b2c",
   "metadata": {},
   "outputs": [],
   "source": []
  },
  {
   "cell_type": "code",
   "execution_count": null,
   "id": "13a8fd65",
   "metadata": {},
   "outputs": [],
   "source": []
  },
  {
   "cell_type": "code",
   "execution_count": null,
   "id": "ed1267a5",
   "metadata": {},
   "outputs": [],
   "source": []
  },
  {
   "cell_type": "code",
   "execution_count": null,
   "id": "8d5d8414",
   "metadata": {},
   "outputs": [],
   "source": []
  },
  {
   "cell_type": "code",
   "execution_count": null,
   "id": "d72a26e8",
   "metadata": {},
   "outputs": [],
   "source": []
  },
  {
   "cell_type": "code",
   "execution_count": null,
   "id": "f1b9c270",
   "metadata": {},
   "outputs": [],
   "source": []
  },
  {
   "cell_type": "code",
   "execution_count": null,
   "id": "09923450",
   "metadata": {},
   "outputs": [],
   "source": []
  },
  {
   "cell_type": "code",
   "execution_count": null,
   "id": "26263d4d",
   "metadata": {},
   "outputs": [],
   "source": []
  },
  {
   "cell_type": "code",
   "execution_count": null,
   "id": "d274d5f9",
   "metadata": {},
   "outputs": [],
   "source": []
  },
  {
   "cell_type": "code",
   "execution_count": null,
   "id": "504eda1e",
   "metadata": {},
   "outputs": [],
   "source": []
  },
  {
   "cell_type": "code",
   "execution_count": null,
   "id": "b8122aff",
   "metadata": {},
   "outputs": [],
   "source": []
  },
  {
   "cell_type": "code",
   "execution_count": null,
   "id": "ca1cb5f8",
   "metadata": {},
   "outputs": [],
   "source": []
  },
  {
   "cell_type": "code",
   "execution_count": null,
   "id": "16e16374",
   "metadata": {},
   "outputs": [],
   "source": []
  },
  {
   "cell_type": "code",
   "execution_count": null,
   "id": "91b7eb9b",
   "metadata": {},
   "outputs": [],
   "source": []
  },
  {
   "cell_type": "code",
   "execution_count": null,
   "id": "baaeada4",
   "metadata": {},
   "outputs": [],
   "source": []
  },
  {
   "cell_type": "code",
   "execution_count": null,
   "id": "c5a1e263",
   "metadata": {},
   "outputs": [],
   "source": []
  },
  {
   "cell_type": "code",
   "execution_count": null,
   "id": "1747ff21",
   "metadata": {},
   "outputs": [],
   "source": []
  },
  {
   "cell_type": "code",
   "execution_count": null,
   "id": "c9011cee",
   "metadata": {},
   "outputs": [],
   "source": []
  },
  {
   "cell_type": "code",
   "execution_count": null,
   "id": "d470b545",
   "metadata": {},
   "outputs": [],
   "source": []
  },
  {
   "cell_type": "code",
   "execution_count": null,
   "id": "bae28a28",
   "metadata": {},
   "outputs": [],
   "source": []
  },
  {
   "cell_type": "code",
   "execution_count": null,
   "id": "41a165be",
   "metadata": {},
   "outputs": [],
   "source": []
  },
  {
   "cell_type": "code",
   "execution_count": null,
   "id": "c4bfe520",
   "metadata": {},
   "outputs": [],
   "source": []
  },
  {
   "cell_type": "code",
   "execution_count": null,
   "id": "25071470",
   "metadata": {},
   "outputs": [],
   "source": []
  },
  {
   "cell_type": "code",
   "execution_count": null,
   "id": "a0f29013",
   "metadata": {},
   "outputs": [],
   "source": []
  },
  {
   "cell_type": "code",
   "execution_count": null,
   "id": "e104063a",
   "metadata": {},
   "outputs": [],
   "source": []
  },
  {
   "cell_type": "code",
   "execution_count": null,
   "id": "c589c26b",
   "metadata": {},
   "outputs": [],
   "source": []
  },
  {
   "cell_type": "code",
   "execution_count": null,
   "id": "11036daf",
   "metadata": {},
   "outputs": [],
   "source": []
  },
  {
   "cell_type": "code",
   "execution_count": null,
   "id": "b41c162a",
   "metadata": {},
   "outputs": [],
   "source": []
  },
  {
   "cell_type": "code",
   "execution_count": null,
   "id": "3e1f3fbf",
   "metadata": {},
   "outputs": [],
   "source": []
  },
  {
   "cell_type": "code",
   "execution_count": null,
   "id": "eb2f4fe1",
   "metadata": {},
   "outputs": [],
   "source": []
  },
  {
   "cell_type": "code",
   "execution_count": null,
   "id": "bef97db7",
   "metadata": {},
   "outputs": [],
   "source": []
  },
  {
   "cell_type": "code",
   "execution_count": null,
   "id": "d7aa9740",
   "metadata": {},
   "outputs": [],
   "source": []
  },
  {
   "cell_type": "code",
   "execution_count": null,
   "id": "6ae8e396",
   "metadata": {},
   "outputs": [],
   "source": []
  },
  {
   "cell_type": "code",
   "execution_count": null,
   "id": "48f7210c",
   "metadata": {},
   "outputs": [],
   "source": []
  },
  {
   "cell_type": "code",
   "execution_count": null,
   "id": "faa65a19",
   "metadata": {},
   "outputs": [],
   "source": []
  },
  {
   "cell_type": "code",
   "execution_count": null,
   "id": "d04e4bf3",
   "metadata": {},
   "outputs": [],
   "source": []
  },
  {
   "cell_type": "code",
   "execution_count": null,
   "id": "4d6655a5",
   "metadata": {},
   "outputs": [],
   "source": []
  },
  {
   "cell_type": "code",
   "execution_count": null,
   "id": "f36cfc19",
   "metadata": {},
   "outputs": [],
   "source": []
  },
  {
   "cell_type": "code",
   "execution_count": null,
   "id": "06c5e29a",
   "metadata": {},
   "outputs": [],
   "source": []
  },
  {
   "cell_type": "code",
   "execution_count": null,
   "id": "7377591f",
   "metadata": {},
   "outputs": [],
   "source": []
  },
  {
   "cell_type": "code",
   "execution_count": null,
   "id": "622988bb",
   "metadata": {},
   "outputs": [],
   "source": []
  },
  {
   "cell_type": "code",
   "execution_count": null,
   "id": "3cb8b483",
   "metadata": {},
   "outputs": [],
   "source": []
  },
  {
   "cell_type": "code",
   "execution_count": null,
   "id": "382c0f82",
   "metadata": {},
   "outputs": [],
   "source": []
  },
  {
   "cell_type": "code",
   "execution_count": null,
   "id": "1b3412a3",
   "metadata": {},
   "outputs": [],
   "source": []
  },
  {
   "cell_type": "code",
   "execution_count": null,
   "id": "4c2c135c",
   "metadata": {},
   "outputs": [],
   "source": []
  },
  {
   "cell_type": "code",
   "execution_count": null,
   "id": "6fea8e03",
   "metadata": {},
   "outputs": [],
   "source": []
  },
  {
   "cell_type": "code",
   "execution_count": null,
   "id": "6520e2b1",
   "metadata": {},
   "outputs": [],
   "source": []
  },
  {
   "cell_type": "code",
   "execution_count": null,
   "id": "cf082788",
   "metadata": {},
   "outputs": [],
   "source": []
  },
  {
   "cell_type": "code",
   "execution_count": null,
   "id": "3154acc9",
   "metadata": {},
   "outputs": [],
   "source": []
  },
  {
   "cell_type": "code",
   "execution_count": null,
   "id": "03389adb",
   "metadata": {},
   "outputs": [],
   "source": []
  },
  {
   "cell_type": "code",
   "execution_count": null,
   "id": "9b2132c6",
   "metadata": {},
   "outputs": [],
   "source": []
  },
  {
   "cell_type": "code",
   "execution_count": null,
   "id": "ac24fe6d",
   "metadata": {},
   "outputs": [],
   "source": []
  },
  {
   "cell_type": "code",
   "execution_count": null,
   "id": "d31a3d6e",
   "metadata": {},
   "outputs": [],
   "source": []
  },
  {
   "cell_type": "code",
   "execution_count": null,
   "id": "9b90c146",
   "metadata": {},
   "outputs": [],
   "source": []
  },
  {
   "cell_type": "code",
   "execution_count": null,
   "id": "56bad159",
   "metadata": {},
   "outputs": [],
   "source": []
  },
  {
   "cell_type": "code",
   "execution_count": null,
   "id": "4db3b387",
   "metadata": {},
   "outputs": [],
   "source": []
  },
  {
   "cell_type": "code",
   "execution_count": null,
   "id": "61481e6f",
   "metadata": {},
   "outputs": [],
   "source": []
  },
  {
   "cell_type": "code",
   "execution_count": null,
   "id": "824d56a5",
   "metadata": {},
   "outputs": [],
   "source": []
  },
  {
   "cell_type": "code",
   "execution_count": null,
   "id": "0dd2fd98",
   "metadata": {},
   "outputs": [],
   "source": []
  },
  {
   "cell_type": "code",
   "execution_count": null,
   "id": "b9d63ccc",
   "metadata": {},
   "outputs": [],
   "source": []
  },
  {
   "cell_type": "code",
   "execution_count": null,
   "id": "83d6d15f",
   "metadata": {},
   "outputs": [],
   "source": []
  },
  {
   "cell_type": "code",
   "execution_count": null,
   "id": "58744e8e",
   "metadata": {},
   "outputs": [],
   "source": []
  },
  {
   "cell_type": "code",
   "execution_count": null,
   "id": "96ad33f0",
   "metadata": {},
   "outputs": [],
   "source": []
  },
  {
   "cell_type": "code",
   "execution_count": null,
   "id": "70bc3699",
   "metadata": {},
   "outputs": [],
   "source": []
  },
  {
   "cell_type": "code",
   "execution_count": null,
   "id": "4b2a5568",
   "metadata": {},
   "outputs": [],
   "source": []
  },
  {
   "cell_type": "code",
   "execution_count": null,
   "id": "1be09b9f",
   "metadata": {},
   "outputs": [],
   "source": []
  },
  {
   "cell_type": "code",
   "execution_count": null,
   "id": "6aae000f",
   "metadata": {},
   "outputs": [],
   "source": []
  },
  {
   "cell_type": "code",
   "execution_count": null,
   "id": "163727da",
   "metadata": {},
   "outputs": [],
   "source": []
  },
  {
   "cell_type": "code",
   "execution_count": null,
   "id": "b52dfabd",
   "metadata": {},
   "outputs": [],
   "source": []
  },
  {
   "cell_type": "code",
   "execution_count": null,
   "id": "de1c8ae3",
   "metadata": {},
   "outputs": [],
   "source": []
  },
  {
   "cell_type": "code",
   "execution_count": null,
   "id": "faa679f6",
   "metadata": {},
   "outputs": [],
   "source": []
  },
  {
   "cell_type": "code",
   "execution_count": null,
   "id": "72aba3dc",
   "metadata": {},
   "outputs": [],
   "source": []
  },
  {
   "cell_type": "code",
   "execution_count": null,
   "id": "362f80f7",
   "metadata": {},
   "outputs": [],
   "source": []
  },
  {
   "cell_type": "code",
   "execution_count": null,
   "id": "a78e2d10",
   "metadata": {},
   "outputs": [],
   "source": []
  },
  {
   "cell_type": "code",
   "execution_count": null,
   "id": "890ab92d",
   "metadata": {},
   "outputs": [],
   "source": []
  },
  {
   "cell_type": "code",
   "execution_count": null,
   "id": "8a7f71f2",
   "metadata": {},
   "outputs": [],
   "source": []
  },
  {
   "cell_type": "code",
   "execution_count": null,
   "id": "7f93454e",
   "metadata": {},
   "outputs": [],
   "source": []
  },
  {
   "cell_type": "code",
   "execution_count": null,
   "id": "eb109589",
   "metadata": {},
   "outputs": [],
   "source": []
  },
  {
   "cell_type": "code",
   "execution_count": null,
   "id": "b423a9df",
   "metadata": {},
   "outputs": [],
   "source": []
  },
  {
   "cell_type": "code",
   "execution_count": null,
   "id": "fd46b8f3",
   "metadata": {},
   "outputs": [],
   "source": []
  },
  {
   "cell_type": "code",
   "execution_count": null,
   "id": "c5eeba15",
   "metadata": {},
   "outputs": [],
   "source": []
  },
  {
   "cell_type": "code",
   "execution_count": null,
   "id": "aa832322",
   "metadata": {},
   "outputs": [],
   "source": []
  },
  {
   "cell_type": "code",
   "execution_count": null,
   "id": "fc5ab683",
   "metadata": {},
   "outputs": [],
   "source": []
  },
  {
   "cell_type": "code",
   "execution_count": null,
   "id": "2d47eb84",
   "metadata": {},
   "outputs": [],
   "source": []
  },
  {
   "cell_type": "code",
   "execution_count": null,
   "id": "95fcfa43",
   "metadata": {},
   "outputs": [],
   "source": []
  },
  {
   "cell_type": "code",
   "execution_count": null,
   "id": "8b8fb355",
   "metadata": {},
   "outputs": [],
   "source": []
  },
  {
   "cell_type": "code",
   "execution_count": null,
   "id": "182b8ba1",
   "metadata": {},
   "outputs": [],
   "source": []
  },
  {
   "cell_type": "code",
   "execution_count": null,
   "id": "3c102062",
   "metadata": {},
   "outputs": [],
   "source": []
  },
  {
   "cell_type": "code",
   "execution_count": null,
   "id": "174c2f89",
   "metadata": {},
   "outputs": [],
   "source": []
  },
  {
   "cell_type": "code",
   "execution_count": null,
   "id": "aa0c57cf",
   "metadata": {},
   "outputs": [],
   "source": []
  },
  {
   "cell_type": "code",
   "execution_count": null,
   "id": "800f7a2e",
   "metadata": {},
   "outputs": [],
   "source": []
  }
 ],
 "metadata": {
  "kernelspec": {
   "display_name": "Python 3 (ipykernel)",
   "language": "python",
   "name": "python3"
  },
  "language_info": {
   "codemirror_mode": {
    "name": "ipython",
    "version": 3
   },
   "file_extension": ".py",
   "mimetype": "text/x-python",
   "name": "python",
   "nbconvert_exporter": "python",
   "pygments_lexer": "ipython3",
   "version": "3.11.4"
  }
 },
 "nbformat": 4,
 "nbformat_minor": 5
}
